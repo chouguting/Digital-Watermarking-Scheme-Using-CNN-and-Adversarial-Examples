{
 "cells": [
  {
   "cell_type": "code",
   "execution_count": null,
   "outputs": [],
   "source": [
    "import numpy as np\n",
    "import matplotlib.pyplot as plt\n",
    "import tensorflow as tf\n",
    "from keras.applications.vgg19 import VGG19\n",
    "from keras.preprocessing import image\n",
    "from keras.applications.vgg19 import preprocess_input\n",
    "from keras.models import Model, Sequential\n",
    "from keras.datasets import mnist, fashion_mnist, cifar100\n",
    "from keras.layers import Input, Conv2D, Dense, MaxPooling2D, Flatten\n",
    "from tensorflow.keras.optimizers import Adam\n",
    "from skimage import color\n",
    "import matplotlib.pyplot as plt\n",
    "import cv2\n",
    "import gc"
   ],
   "metadata": {
    "collapsed": false,
    "pycharm": {
     "name": "#%%\n"
    }
   }
  },
  {
   "cell_type": "markdown",
   "source": [
    "## 利用PGD嵌入資訊"
   ],
   "metadata": {
    "collapsed": false,
    "pycharm": {
     "name": "#%% md\n"
    }
   }
  },
  {
   "cell_type": "code",
   "execution_count": 1,
   "outputs": [],
   "source": [
    "import tensorflow as tf\n",
    "\n",
    "#利用pgd的idea修改圖片 讓它生出我想要的label\n",
    "def pgd_attack_to_target(input_image, target_label, loss_object, model, epsilon, alpha, iterations):\n",
    "    x_adv = input_image  # 複製一個圖片 (不要動到原圖片)\n",
    "    for i in range(iterations):  # 做很多次\n",
    "        x_adv = tf.convert_to_tensor(x_adv)  # 將圖片轉成tensor\n",
    "        with tf.GradientTape() as tape:  #開始計算梯度\n",
    "            tape.watch(x_adv)  # 要計算的圖片是x_adv\n",
    "            prediction = model(x_adv)  #先做判斷(取得目前的結果)\n",
    "            loss = loss_object(target_label, prediction)  # 計算loss(距離target有多遠)\n",
    "        grad = tape.gradient(loss, x_adv)  # 計算梯度 (loss對x_adv的梯度，d_loss/d_x_adv)\n",
    "        x_adv_new  = x_adv - alpha * tf.sign(grad)  # 更新圖片(做梯度下降會讓預測結果接近我想要的label)\n",
    "        x_adv = tf.clip_by_value(x_adv_new , x_adv - epsilon, x_adv + epsilon)  # 限制圖片的範圍\n",
    "        x_adv = tf.clip_by_value(x_adv, 0, 1)  # 限制圖片的範圍(圖片要在0~1之間)\n",
    "        x_adv = x_adv.numpy()  # 將圖片轉成numpy\n",
    "    return x_adv  # 回傳攻擊後的圖片"
   ],
   "metadata": {
    "collapsed": false,
    "pycharm": {
     "name": "#%%\n"
    }
   }
  },
  {
   "cell_type": "markdown",
   "source": [
    "## 設定訓練資料集和訓練參數"
   ],
   "metadata": {
    "collapsed": false,
    "pycharm": {
     "name": "#%% md\n"
    }
   }
  },
  {
   "cell_type": "code",
   "execution_count": null,
   "outputs": [],
   "source": [
    "DATA_LENGTH = 1000\n",
    "BIT_COUNT = 16\n",
    "iterations = 7  #攻擊次數\n",
    "alpha = 0.0001  #攻擊程度\n",
    "epsilon = 8.0 / 255  #攻擊範圍\n",
    "EPOCH = 50 #訓練EPOCH\n",
    "START_BIT = 256\n",
    "END_BIT = 256\n",
    "\n",
    "(cifar100_train, _), (cifar100_test, _) = cifar100.load_data()\n",
    "cifar100_train = cifar100_train.astype('float32') / 255.0\n",
    "cifar100_test = cifar100_test.astype('float32') / 255.0\n",
    "cifar100_train = color.rgb2gray(cifar100_train)\n",
    "cifar100_test = color.rgb2gray(cifar100_test)\n",
    "\n",
    "cifar100_train = [cv2.resize(image,(28,28)) for image in cifar100_train[:2000]]\n",
    "cifar100_train = np.concatenate([i[np.newaxis] for i in cifar100_train]).astype(np.float32)\n",
    "\n",
    "cifar100_test = [cv2.resize(image,(28,28)) for image in cifar100_test[:2000]]\n",
    "cifar100_test = np.concatenate([i[np.newaxis] for i in cifar100_test]).astype(np.float32)\n",
    "\n",
    "cifar100_train = cifar100_train.reshape((-1,) + (28, 28, 1))\n",
    "cifar100_test = cifar100_test.reshape((-1,) + (28, 28, 1))"
   ],
   "metadata": {
    "collapsed": false,
    "pycharm": {
     "name": "#%%\n"
    }
   }
  },
  {
   "cell_type": "markdown",
   "source": [
    "## 設定資料擴增"
   ],
   "metadata": {
    "collapsed": false,
    "pycharm": {
     "name": "#%% md\n"
    }
   }
  },
  {
   "cell_type": "code",
   "execution_count": null,
   "outputs": [],
   "source": [
    "from tensorflow.keras.layers import RandomFlip, RandomRotation, RandomZoom\n",
    "\n",
    "data_augmentation = tf.keras.Sequential([\n",
    "    RandomRotation(0.02, fill_mode = 'constant'),\n",
    "    RandomZoom(.2, .2)\n",
    "])"
   ],
   "metadata": {
    "collapsed": false,
    "pycharm": {
     "name": "#%%\n"
    }
   }
  },
  {
   "cell_type": "markdown",
   "source": [
    "## 設定訓練模型"
   ],
   "metadata": {
    "collapsed": false,
    "pycharm": {
     "name": "#%% md\n"
    }
   }
  },
  {
   "cell_type": "code",
   "execution_count": null,
   "outputs": [],
   "source": [
    "def plot_loss(losses):\n",
    "    \"\"\"\n",
    "    @losses.keys():\n",
    "        0: loss\n",
    "        1: accuracy\n",
    "    \"\"\"\n",
    "    dec_loss = losses[\"decoder\"]\n",
    "\n",
    "    plt.figure(figsize=(10, 8))\n",
    "    plt.plot(dec_loss, label=\"decoder loss\")\n",
    "    plt.xlabel('Epochs')\n",
    "    plt.ylabel('Loss')\n",
    "    plt.legend()\n",
    "    plt.show()"
   ],
   "metadata": {
    "collapsed": false,
    "pycharm": {
     "name": "#%%\n"
    }
   }
  },
  {
   "cell_type": "code",
   "execution_count": null,
   "outputs": [],
   "source": [
    "def plot_accuracy(accuracy):\n",
    "    plt.figure(figsize=(10,8))\n",
    "    plt.plot(accuracy[\"train_accuracy\"], label=\"train_accuracy\")\n",
    "    # plt.plot(accuracy[\"val_accuracy\"], label=\"val_accuracy\")\n",
    "    plt.xlabel('Epochs')\n",
    "    plt.ylabel('Accuracy')\n",
    "    plt.legend()\n",
    "    plt.show()"
   ],
   "metadata": {
    "collapsed": false,
    "pycharm": {
     "name": "#%%\n"
    }
   }
  },
  {
   "cell_type": "code",
   "execution_count": null,
   "outputs": [],
   "source": [
    "adam = Adam(learning_rate=0.0002, beta_1=0.5)"
   ],
   "metadata": {
    "collapsed": false,
    "pycharm": {
     "name": "#%%\n"
    }
   }
  },
  {
   "cell_type": "code",
   "execution_count": null,
   "outputs": [],
   "source": [
    "accuracy_list = {\"test_adv\":[], \"test_adv_att\":[]}\n",
    "losses_list = {\"test_adv\":[], \"test_adv_att\":[]}\n",
    "for BIT_COUNT in range(START_BIT,END_BIT+8,8):\n",
    "    test_accuracy = []\n",
    "    test_losses = []\n",
    "    test_accuracy_att = []\n",
    "    test_losses_att = []\n",
    "\n",
    "    #建立網路\n",
    "    inputs = Input((28, 28, 1))\n",
    "    x = Conv2D(64, (3, 3), padding=\"same\", activation='relu')(inputs)\n",
    "    x = MaxPooling2D((2, 2))(x)\n",
    "    x = Conv2D(32, (3, 3), padding=\"same\", activation='relu')(x)\n",
    "    x = MaxPooling2D((2, 2))(x)\n",
    "    x = Conv2D(16, (3, 3), padding=\"same\", activation='relu')(x)\n",
    "    x = MaxPooling2D((2, 2))(x)\n",
    "    x = Flatten()(x)\n",
    "    x = Dense(512, activation='relu')(x)\n",
    "    x = Dense(BIT_COUNT+1, activation=\"softmax\")(x)\n",
    "    decoder = Model(inputs=inputs, outputs=x)\n",
    "    decoder.compile(optimizer=adam, loss='binary_crossentropy', metrics=['categorical_accuracy'])\n",
    "    decoder.summary()\n",
    "\n",
    "    # 產生user_code\n",
    "    temp = np.array([ i for i in range(BIT_COUNT+1)])\n",
    "    user_code = np.eye(BIT_COUNT+1)[temp]\n",
    "    #print(user_code)  #生成onehot encoding\n",
    "\n",
    "    losses = {\"train_loss\":[]}\n",
    "    accuracy = {\"train_accuracy\":[]}\n",
    "\n",
    "    cifar100_train_adv = [cifar100_train[:DATA_LENGTH] for _ in range(BIT_COUNT+1)]\n",
    "    # 開始訓練\n",
    "    for epoch in range(EPOCH):\n",
    "      # 第一步 調整圖片 讓decoder能正確讀取出user_code\n",
    "      for i in range(1, BIT_COUNT+1):\n",
    "        print(i,end=' ')\n",
    "        cifar100_train_adv[i] = pgd_attack_to_target(cifar100_train_adv[i], [user_code[i]] * DATA_LENGTH, tf.keras.losses.CategoricalCrossentropy(), decoder, epsilon, alpha, iterations)\n",
    "      # # 第二步 data augmentation(旋轉，縮放....)\n",
    "      # cifar100_train_adv_att = [data_augmentation(cifar100_train_adv[i]) for i in range(BIT_COUNT+1)]\n",
    "\n",
    "      #第四步 訓練Decoder\n",
    "      x_train = np.concatenate([cifar100_train_adv[i] for i in range(BIT_COUNT+1)])\n",
    "      y_train = np.concatenate([[user_code[i]] * DATA_LENGTH for i in range(BIT_COUNT+1)])\n",
    "      decoder_loss = decoder.fit(x_train, y_train, epochs=1)\n",
    "\n",
    "      # 紀錄loss\n",
    "      losses[\"train_loss\"].append(decoder_loss.history[\"loss\"])\n",
    "      accuracy[\"train_accuracy\"].append(decoder_loss.history[\"categorical_accuracy\"])\n",
    "      print(\"epoch:{}  train_loss:{}\".format(epoch, decoder_loss.history[\"loss\"]))\n",
    "\n",
    "    plot_loss(losses)\n",
    "    plot_accuracy(accuracy)\n",
    "\n",
    "    #對test_data進行攻擊 & augmentation\n",
    "    cifar100_test_adv = [cifar100_test[:DATA_LENGTH] for _ in range(BIT_COUNT+1)]\n",
    "    for i in range(1, BIT_COUNT+1):\n",
    "      cifar100_test_adv[i] = pgd_attack_to_target(cifar100_test_adv[i], [user_code[i]] * DATA_LENGTH, tf.keras.losses.CategoricalCrossentropy(), decoder, epsilon, alpha, 180)\n",
    "    #測試test_adv\n",
    "    for i in range(BIT_COUNT+1):\n",
    "      result_temp = decoder.evaluate(cifar100_test_adv[i], np.array([user_code[i]] * DATA_LENGTH))\n",
    "      test_losses.append(result_temp[0])\n",
    "      test_accuracy.append(result_temp[1])\n",
    "\n",
    "    print(tf.image.psnr(cifar100_test_adv[0][0], cifar100_test_adv[1][0], max_val=1.0))\n",
    "\n",
    "    plt.subplot(1,2,1)\n",
    "    plt.title('origin image')\n",
    "    plt.imshow(cifar100_test_adv[0][0].reshape(28,28),cmap='gray')\n",
    "    plt.subplot(1,2,2)\n",
    "    plt.title('adv image')\n",
    "    plt.imshow(cifar100_test_adv[1][0].reshape(28,28),cmap='gray')\n",
    "    plt.show()\n",
    "\n",
    "    accuracy_list[\"test_adv\"].append(test_accuracy)\n",
    "    losses_list[\"test_adv\"].append(test_losses)\n",
    "    accuracy_list[\"test_adv_att\"].append(test_accuracy_att)\n",
    "    losses_list[\"test_adv_att\"].append(test_losses_att)\n",
    "    # 釋放記憶體\n",
    "    del x_train\n",
    "    del y_train\n",
    "    del cifar100_train_adv\n",
    "    del cifar100_test_adv\n",
    "    # del cifar100_train_adv_att\n",
    "    # del cifar100_test_adv_att\n",
    "    gc.collect()"
   ],
   "metadata": {
    "collapsed": false,
    "pycharm": {
     "name": "#%%\n"
    }
   }
  },
  {
   "cell_type": "code",
   "execution_count": null,
   "outputs": [],
   "source": [
    "cifar100_test_adv = [cifar100_test[:1000] for _ in range(256+1)]\n",
    "for i in range(1, BIT_COUNT+1):\n",
    "  cifar100_test_adv[i] = pgd_attack_to_target(cifar100_test_adv[i], [user_code[i]] * 1000, tf.keras.losses.CategoricalCrossentropy(), decoder, epsilon, alpha, 150)\n",
    "#測試test_adv\n",
    "for i in range(BIT_COUNT+1):\n",
    "  result_temp = decoder.evaluate(cifar100_test_adv[i], np.array([user_code[i]] * DATA_LENGTH))"
   ],
   "metadata": {
    "collapsed": false,
    "pycharm": {
     "name": "#%%\n"
    }
   }
  },
  {
   "cell_type": "code",
   "execution_count": null,
   "outputs": [],
   "source": [
    "test_accuracy_final = []\n",
    "for i in range(START_BIT,184+8,8):\n",
    "  test_accuracy_final.append([np.mean(accuracy_list['test_adv'][int(i/8)-1]), np.std(accuracy_list['test_adv'][int(i/8)-1],ddof=1), sorted(accuracy_list['test_adv'][int(i/8)-1])[0]])"
   ],
   "metadata": {
    "collapsed": false,
    "pycharm": {
     "name": "#%%\n"
    }
   }
  },
  {
   "cell_type": "code",
   "execution_count": null,
   "outputs": [],
   "source": [
    "x = [i for i in range(START_BIT,184+8,8)]"
   ],
   "metadata": {
    "collapsed": false,
    "pycharm": {
     "name": "#%%\n"
    }
   }
  },
  {
   "cell_type": "code",
   "execution_count": null,
   "outputs": [],
   "source": [
    "print(\"avg_accuracy:{}  min_accuracy:{}   std:{}\".format(test_accuracy_final[0][0],test_accuracy_final[0][2],test_accuracy_final[0][1]))"
   ],
   "metadata": {
    "collapsed": false,
    "pycharm": {
     "name": "#%%\n"
    }
   }
  },
  {
   "cell_type": "code",
   "execution_count": null,
   "outputs": [],
   "source": [
    "plt.plot(x, np.array(test_accuracy_final)[:,2], label='min')\n",
    "plt.xlabel('Number of categories')\n",
    "plt.ylabel('Accuracy')\n",
    "plt.legend()\n",
    "plt.savefig('min.png',dpi=3000)\n",
    "plt.show()"
   ],
   "metadata": {
    "collapsed": false,
    "pycharm": {
     "name": "#%%\n"
    }
   }
  }
 ],
 "metadata": {
  "kernelspec": {
   "display_name": "Python 3",
   "language": "python",
   "name": "python3"
  },
  "language_info": {
   "codemirror_mode": {
    "name": "ipython",
    "version": 2
   },
   "file_extension": ".py",
   "mimetype": "text/x-python",
   "name": "python",
   "nbconvert_exporter": "python",
   "pygments_lexer": "ipython2",
   "version": "2.7.6"
  }
 },
 "nbformat": 4,
 "nbformat_minor": 0
}