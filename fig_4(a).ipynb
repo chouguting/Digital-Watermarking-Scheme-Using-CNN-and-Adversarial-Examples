{
 "cells": [
  {
   "cell_type": "code",
   "execution_count": 1,
   "outputs": [],
   "source": [
    "import numpy as np\n",
    "import matplotlib.pyplot as plt\n",
    "import tensorflow as tf\n",
    "from keras.preprocessing import image\n",
    "from keras.applications.vgg19 import preprocess_input\n",
    "from keras.models import Model, Sequential\n",
    "from keras.datasets import cifar10\n",
    "from keras.layers import Input, Conv2D, Dense, MaxPooling2D, Flatten\n",
    "from tensorflow.keras.optimizers import Adam\n",
    "from skimage import color\n",
    "import cv2\n",
    "import gc"
   ],
   "metadata": {
    "collapsed": false,
    "pycharm": {
     "name": "#%%\n"
    }
   }
  },
  {
   "cell_type": "markdown",
   "source": [
    "## 利用PGD嵌入資訊"
   ],
   "metadata": {
    "collapsed": false,
    "pycharm": {
     "name": "#%% md\n"
    }
   }
  },
  {
   "cell_type": "code",
   "execution_count": 2,
   "outputs": [],
   "source": [
    "import tensorflow as tf\n",
    "\n",
    "#利用pgd的idea修改圖片 讓它生出我想要的label\n",
    "def pgd_attack_to_target(input_image, target_label, loss_object, model, epsilon, alpha, iterations):\n",
    "    x_adv = input_image  # 複製一個圖片 (不要動到原圖片)\n",
    "    for i in range(iterations):  # 做很多次\n",
    "        x_adv = tf.convert_to_tensor(x_adv)  # 將圖片轉成tensor\n",
    "        with tf.GradientTape() as tape:  #開始計算梯度\n",
    "            tape.watch(x_adv)  # 要計算的圖片是x_adv\n",
    "            prediction = model(x_adv)  #先做判斷(取得目前的結果)\n",
    "            loss = loss_object(target_label, prediction)  # 計算loss(距離target有多遠)\n",
    "        grad = tape.gradient(loss, x_adv)  # 計算梯度 (loss對x_adv的梯度，d_loss/d_x_adv)\n",
    "        x_adv_new  = x_adv - alpha * tf.sign(grad)  # 更新圖片(做梯度下降會讓預測結果接近我想要的label)\n",
    "        x_adv = tf.clip_by_value(x_adv_new , x_adv - epsilon, x_adv + epsilon)  # 限制圖片的範圍\n",
    "        x_adv = tf.clip_by_value(x_adv, 0, 1)  # 限制圖片的範圍(圖片要在0~1之間)\n",
    "        x_adv = x_adv.numpy()  # 將圖片轉成numpy\n",
    "    return x_adv  # 回傳攻擊後的圖片"
   ],
   "metadata": {
    "collapsed": false,
    "pycharm": {
     "name": "#%%\n"
    }
   }
  },
  {
   "cell_type": "markdown",
   "source": [
    "## 設定訓練資料集和訓練參數"
   ],
   "metadata": {
    "collapsed": false,
    "pycharm": {
     "name": "#%% md\n"
    }
   }
  },
  {
   "cell_type": "code",
   "execution_count": 3,
   "outputs": [
    {
     "name": "stdout",
     "output_type": "stream",
     "text": [
      "Downloading data from https://www.cs.toronto.edu/~kriz/cifar-10-python.tar.gz\n",
      "170500096/170498071 [==============================] - 773s 5us/step\n",
      "170508288/170498071 [==============================] - 773s 5us/step\n"
     ]
    }
   ],
   "source": [
    "DATA_LENGTH = 1000\n",
    "BIT_COUNT = 16\n",
    "iterations = 7  #攻擊次數\n",
    "alpha = 0.0001  #攻擊程度\n",
    "epsilon = 8.0 / 255  #攻擊範圍\n",
    "EPOCH = 50 #訓練EPOCH\n",
    "START_BIT = 256\n",
    "END_BIT = 256\n",
    "\n",
    "(cifar100_train, _), (cifar100_test, _) = cifar10.load_data()\n",
    "cifar100_train = cifar100_train.astype('float32') / 255.0\n",
    "cifar100_test = cifar100_test.astype('float32') / 255.0\n",
    "cifar100_train = color.rgb2gray(cifar100_train)\n",
    "cifar100_test = color.rgb2gray(cifar100_test)\n",
    "\n",
    "cifar100_train = [cv2.resize(image,(28,28)) for image in cifar100_train[:2000]]\n",
    "cifar100_train = np.concatenate([i[np.newaxis] for i in cifar100_train]).astype(np.float32)\n",
    "\n",
    "cifar100_test = [cv2.resize(image,(28,28)) for image in cifar100_test[:2000]]\n",
    "cifar100_test = np.concatenate([i[np.newaxis] for i in cifar100_test]).astype(np.float32)\n",
    "\n",
    "cifar100_train = cifar100_train.reshape((-1,) + (28, 28, 1))\n",
    "cifar100_test = cifar100_test.reshape((-1,) + (28, 28, 1))"
   ],
   "metadata": {
    "collapsed": false,
    "pycharm": {
     "name": "#%%\n"
    }
   }
  },
  {
   "cell_type": "markdown",
   "source": [
    "## 設定資料擴增"
   ],
   "metadata": {
    "collapsed": false,
    "pycharm": {
     "name": "#%% md\n"
    }
   }
  },
  {
   "cell_type": "code",
   "execution_count": 4,
   "outputs": [],
   "source": [
    "from tensorflow.keras.layers import RandomFlip, RandomRotation, RandomZoom\n",
    "\n",
    "data_augmentation = tf.keras.Sequential([\n",
    "    RandomRotation(0.02, fill_mode = 'constant'),\n",
    "    RandomZoom(.2, .2)\n",
    "])"
   ],
   "metadata": {
    "collapsed": false,
    "pycharm": {
     "name": "#%%\n"
    }
   }
  },
  {
   "cell_type": "markdown",
   "source": [
    "## 設定訓練模型"
   ],
   "metadata": {
    "collapsed": false,
    "pycharm": {
     "name": "#%% md\n"
    }
   }
  },
  {
   "cell_type": "code",
   "execution_count": 5,
   "outputs": [],
   "source": [
    "def plot_loss(losses):\n",
    "    \"\"\"\n",
    "    @losses.keys():\n",
    "        0: loss\n",
    "        1: accuracy\n",
    "    \"\"\"\n",
    "    dec_loss = losses[\"decoder\"]\n",
    "\n",
    "    plt.figure(figsize=(10, 8))\n",
    "    plt.plot(dec_loss, label=\"decoder loss\")\n",
    "    plt.xlabel('Epochs')\n",
    "    plt.ylabel('Loss')\n",
    "    plt.legend()\n",
    "    plt.show()"
   ],
   "metadata": {
    "collapsed": false,
    "pycharm": {
     "name": "#%%\n"
    }
   }
  },
  {
   "cell_type": "code",
   "execution_count": 6,
   "outputs": [],
   "source": [
    "def plot_accuracy(accuracy):\n",
    "    plt.figure(figsize=(10,8))\n",
    "    plt.plot(accuracy[\"train_accuracy\"], label=\"train_accuracy\")\n",
    "    # plt.plot(accuracy[\"val_accuracy\"], label=\"val_accuracy\")\n",
    "    plt.xlabel('Epochs')\n",
    "    plt.ylabel('Accuracy')\n",
    "    plt.legend()\n",
    "    plt.show()"
   ],
   "metadata": {
    "collapsed": false,
    "pycharm": {
     "name": "#%%\n"
    }
   }
  },
  {
   "cell_type": "code",
   "execution_count": 7,
   "outputs": [],
   "source": [
    "adam = Adam(learning_rate=0.0002, beta_1=0.5)"
   ],
   "metadata": {
    "collapsed": false,
    "pycharm": {
     "name": "#%%\n"
    }
   }
  },
  {
   "cell_type": "code",
   "execution_count": 8,
   "outputs": [
    {
     "name": "stdout",
     "output_type": "stream",
     "text": [
      "Model: \"model\"\n",
      "_________________________________________________________________\n",
      " Layer (type)                Output Shape              Param #   \n",
      "=================================================================\n",
      " input_1 (InputLayer)        [(None, 28, 28, 1)]       0         \n",
      "                                                                 \n",
      " conv2d (Conv2D)             (None, 28, 28, 64)        640       \n",
      "                                                                 \n",
      " max_pooling2d (MaxPooling2D  (None, 14, 14, 64)       0         \n",
      " )                                                               \n",
      "                                                                 \n",
      " conv2d_1 (Conv2D)           (None, 14, 14, 32)        18464     \n",
      "                                                                 \n",
      " max_pooling2d_1 (MaxPooling  (None, 7, 7, 32)         0         \n",
      " 2D)                                                             \n",
      "                                                                 \n",
      " conv2d_2 (Conv2D)           (None, 7, 7, 16)          4624      \n",
      "                                                                 \n",
      " max_pooling2d_2 (MaxPooling  (None, 3, 3, 16)         0         \n",
      " 2D)                                                             \n",
      "                                                                 \n",
      " flatten (Flatten)           (None, 144)               0         \n",
      "                                                                 \n",
      " dense (Dense)               (None, 512)               74240     \n",
      "                                                                 \n",
      " dense_1 (Dense)             (None, 257)               131841    \n",
      "                                                                 \n",
      "=================================================================\n",
      "Total params: 229,809\n",
      "Trainable params: 229,809\n",
      "Non-trainable params: 0\n",
      "_________________________________________________________________\n",
      "8032/8032 [==============================] - 61s 8ms/step - loss: 0.0274 - categorical_accuracy: 0.0039\n",
      "epoch:0  train_loss:[0.027446309104561806]\n",
      "8032/8032 [==============================] - 61s 8ms/step - loss: 0.0256 - categorical_accuracy: 0.0040\n",
      "epoch:1  train_loss:[0.025623081251978874]\n",
      "8032/8032 [==============================] - 61s 8ms/step - loss: 0.0256 - categorical_accuracy: 0.0040\n",
      "epoch:2  train_loss:[0.025585975497961044]\n",
      "8032/8032 [==============================] - 61s 8ms/step - loss: 0.0256 - categorical_accuracy: 0.0041\n",
      "epoch:3  train_loss:[0.025558816269040108]\n",
      "1 2 3 4 5 6 7 8 9 10 11 12 13 14 15 16 17 18 19 20 21 22 23 24 25 26 27 28 29 30 31 32 33 34 35 36 37 38 39 40 41 42 43 44 45 46 47 48 49 50 51 52 53 54 55 56 57 58 59 60 61 62 63 64 65 66 67 68 69 70 71 72 73 74 75 76 77 78 79 80 81 82 83 84 85 86 87 88 89 90 91 92 93 94 95 96 97 98 99 100 101 102 103 104 105 106 107 108 109 110 111 112 113 114 115 116 117 118 119 120 121 122 123 124 125 126 127 128 129 130 131 132 133 134 135 136 137 138 139 140 141 142 143 144 145 146 147 148 149 150 151 152 153 154 155 156 157 158 159 160 161 162 163 164 165 166 167 168 169 170 171 172 173 174 175 176 177 178 179 180 181 182 183 184 185 186 187 188 189 190 191 192 193 194 195 196 197 198 199 200 201 202 203 204 205 206 207 208 209 210 211 212 213 214 215 216 217 218 219 220 221 222 223 224 225 226 227 228 229 230 231 232 233 234 235 236 237 238 239 240 241 242 243 244 245 246 247 248 249 250 251 252 253 254 255 256 "
     ]
    },
    {
     "ename": "MemoryError",
     "evalue": "Unable to allocate 769. MiB for an array with shape (257000, 28, 28, 1) and data type float32",
     "output_type": "error",
     "traceback": [
      "\u001B[1;31m---------------------------------------------------------------------------\u001B[0m",
      "\u001B[1;31mMemoryError\u001B[0m                               Traceback (most recent call last)",
      "Input \u001B[1;32mIn [8]\u001B[0m, in \u001B[0;36m<cell line: 3>\u001B[1;34m()\u001B[0m\n\u001B[0;32m     38\u001B[0m   cifar100_train_adv[i] \u001B[38;5;241m=\u001B[39m pgd_attack_to_target(cifar100_train_adv[i], [user_code[i]] \u001B[38;5;241m*\u001B[39m DATA_LENGTH, tf\u001B[38;5;241m.\u001B[39mkeras\u001B[38;5;241m.\u001B[39mlosses\u001B[38;5;241m.\u001B[39mCategoricalCrossentropy(), decoder, epsilon, alpha, iterations)\n\u001B[0;32m     39\u001B[0m \u001B[38;5;66;03m# # 第二步 data augmentation(旋轉，縮放....)\u001B[39;00m\n\u001B[0;32m     40\u001B[0m \u001B[38;5;66;03m# cifar100_train_adv_att = [data_augmentation(cifar100_train_adv[i]) for i in range(BIT_COUNT+1)]\u001B[39;00m\n\u001B[0;32m     41\u001B[0m \n\u001B[0;32m     42\u001B[0m \u001B[38;5;66;03m#第四步 訓練Decoder\u001B[39;00m\n\u001B[1;32m---> 43\u001B[0m x_train \u001B[38;5;241m=\u001B[39m \u001B[43mnp\u001B[49m\u001B[38;5;241;43m.\u001B[39;49m\u001B[43mconcatenate\u001B[49m\u001B[43m(\u001B[49m\u001B[43m[\u001B[49m\u001B[43mcifar100_train_adv\u001B[49m\u001B[43m[\u001B[49m\u001B[43mi\u001B[49m\u001B[43m]\u001B[49m\u001B[43m \u001B[49m\u001B[38;5;28;43;01mfor\u001B[39;49;00m\u001B[43m \u001B[49m\u001B[43mi\u001B[49m\u001B[43m \u001B[49m\u001B[38;5;129;43;01min\u001B[39;49;00m\u001B[43m \u001B[49m\u001B[38;5;28;43mrange\u001B[39;49m\u001B[43m(\u001B[49m\u001B[43mBIT_COUNT\u001B[49m\u001B[38;5;241;43m+\u001B[39;49m\u001B[38;5;241;43m1\u001B[39;49m\u001B[43m)\u001B[49m\u001B[43m]\u001B[49m\u001B[43m)\u001B[49m\n\u001B[0;32m     44\u001B[0m y_train \u001B[38;5;241m=\u001B[39m np\u001B[38;5;241m.\u001B[39mconcatenate([[user_code[i]] \u001B[38;5;241m*\u001B[39m DATA_LENGTH \u001B[38;5;28;01mfor\u001B[39;00m i \u001B[38;5;129;01min\u001B[39;00m \u001B[38;5;28mrange\u001B[39m(BIT_COUNT\u001B[38;5;241m+\u001B[39m\u001B[38;5;241m1\u001B[39m)])\n\u001B[0;32m     45\u001B[0m decoder_loss \u001B[38;5;241m=\u001B[39m decoder\u001B[38;5;241m.\u001B[39mfit(x_train, y_train, epochs\u001B[38;5;241m=\u001B[39m\u001B[38;5;241m1\u001B[39m)\n",
      "File \u001B[1;32m<__array_function__ internals>:180\u001B[0m, in \u001B[0;36mconcatenate\u001B[1;34m(*args, **kwargs)\u001B[0m\n",
      "\u001B[1;31mMemoryError\u001B[0m: Unable to allocate 769. MiB for an array with shape (257000, 28, 28, 1) and data type float32"
     ]
    }
   ],
   "source": [
    "accuracy_list = {\"test_adv\":[], \"test_adv_att\":[]}\n",
    "losses_list = {\"test_adv\":[], \"test_adv_att\":[]}\n",
    "for BIT_COUNT in range(START_BIT,END_BIT+8,8):\n",
    "    test_accuracy = []\n",
    "    test_losses = []\n",
    "    test_accuracy_att = []\n",
    "    test_losses_att = []\n",
    "\n",
    "    #建立網路\n",
    "    inputs = Input((28, 28, 1))\n",
    "    x = Conv2D(64, (3, 3), padding=\"same\", activation='relu')(inputs)\n",
    "    x = MaxPooling2D((2, 2))(x)\n",
    "    x = Conv2D(32, (3, 3), padding=\"same\", activation='relu')(x)\n",
    "    x = MaxPooling2D((2, 2))(x)\n",
    "    x = Conv2D(16, (3, 3), padding=\"same\", activation='relu')(x)\n",
    "    x = MaxPooling2D((2, 2))(x)\n",
    "    x = Flatten()(x)\n",
    "    x = Dense(512, activation='relu')(x)\n",
    "    x = Dense(BIT_COUNT+1, activation=\"softmax\")(x)\n",
    "    decoder = Model(inputs=inputs, outputs=x)\n",
    "    decoder.compile(optimizer=adam, loss='binary_crossentropy', metrics=['categorical_accuracy'])\n",
    "    decoder.summary()\n",
    "\n",
    "    # 產生user_code\n",
    "    temp = np.array([ i for i in range(BIT_COUNT+1)])\n",
    "    user_code = np.eye(BIT_COUNT+1)[temp]\n",
    "    #print(user_code)  #生成onehot encoding\n",
    "\n",
    "    losses = {\"train_loss\":[]}\n",
    "    accuracy = {\"train_accuracy\":[]}\n",
    "\n",
    "    cifar100_train_adv = [cifar100_train[:DATA_LENGTH] for _ in range(BIT_COUNT+1)]\n",
    "    # 開始訓練\n",
    "    for epoch in range(EPOCH):\n",
    "      # 第一步 調整圖片 讓decoder能正確讀取出user_code\n",
    "      for i in range(1, BIT_COUNT+1):\n",
    "        print(i,end=' ')\n",
    "        cifar100_train_adv[i] = pgd_attack_to_target(cifar100_train_adv[i], [user_code[i]] * DATA_LENGTH, tf.keras.losses.CategoricalCrossentropy(), decoder, epsilon, alpha, iterations)\n",
    "      # # 第二步 data augmentation(旋轉，縮放....)\n",
    "      # cifar100_train_adv_att = [data_augmentation(cifar100_train_adv[i]) for i in range(BIT_COUNT+1)]\n",
    "\n",
    "      #第四步 訓練Decoder\n",
    "      x_train = np.concatenate([cifar100_train_adv[i] for i in range(BIT_COUNT+1)])\n",
    "      y_train = np.concatenate([[user_code[i]] * DATA_LENGTH for i in range(BIT_COUNT+1)])\n",
    "      decoder_loss = decoder.fit(x_train, y_train, epochs=1)\n",
    "\n",
    "      # 紀錄loss\n",
    "      losses[\"train_loss\"].append(decoder_loss.history[\"loss\"])\n",
    "      accuracy[\"train_accuracy\"].append(decoder_loss.history[\"categorical_accuracy\"])\n",
    "      print(\"epoch:{}  train_loss:{}\".format(epoch, decoder_loss.history[\"loss\"]))\n",
    "\n",
    "    plot_loss(losses)\n",
    "    plot_accuracy(accuracy)\n",
    "\n",
    "    #對test_data進行攻擊 & augmentation\n",
    "    cifar100_test_adv = [cifar100_test[:DATA_LENGTH] for _ in range(BIT_COUNT+1)]\n",
    "    for i in range(1, BIT_COUNT+1):\n",
    "      cifar100_test_adv[i] = pgd_attack_to_target(cifar100_test_adv[i], [user_code[i]] * DATA_LENGTH, tf.keras.losses.CategoricalCrossentropy(), decoder, epsilon, alpha, 180)\n",
    "    #測試test_adv\n",
    "    for i in range(BIT_COUNT+1):\n",
    "      result_temp = decoder.evaluate(cifar100_test_adv[i], np.array([user_code[i]] * DATA_LENGTH))\n",
    "      test_losses.append(result_temp[0])\n",
    "      test_accuracy.append(result_temp[1])\n",
    "\n",
    "    print(tf.image.psnr(cifar100_test_adv[0][0], cifar100_test_adv[1][0], max_val=1.0))\n",
    "\n",
    "    plt.subplot(1,2,1)\n",
    "    plt.title('origin image')\n",
    "    plt.imshow(cifar100_test_adv[0][0].reshape(28,28),cmap='gray')\n",
    "    plt.subplot(1,2,2)\n",
    "    plt.title('adv image')\n",
    "    plt.imshow(cifar100_test_adv[1][0].reshape(28,28),cmap='gray')\n",
    "    plt.show()\n",
    "\n",
    "    accuracy_list[\"test_adv\"].append(test_accuracy)\n",
    "    losses_list[\"test_adv\"].append(test_losses)\n",
    "    accuracy_list[\"test_adv_att\"].append(test_accuracy_att)\n",
    "    losses_list[\"test_adv_att\"].append(test_losses_att)\n",
    "    # 釋放記憶體\n",
    "    del x_train\n",
    "    del y_train\n",
    "    del cifar100_train_adv\n",
    "    del cifar100_test_adv\n",
    "    # del cifar100_train_adv_att\n",
    "    # del cifar100_test_adv_att\n",
    "    gc.collect()"
   ],
   "metadata": {
    "collapsed": false,
    "pycharm": {
     "name": "#%%\n"
    }
   }
  },
  {
   "cell_type": "code",
   "execution_count": null,
   "outputs": [],
   "source": [
    "cifar100_test_adv = [cifar100_test[:1000] for _ in range(256+1)]\n",
    "for i in range(1, BIT_COUNT+1):\n",
    "  cifar100_test_adv[i] = pgd_attack_to_target(cifar100_test_adv[i], [user_code[i]] * 1000, tf.keras.losses.CategoricalCrossentropy(), decoder, epsilon, alpha, 150)\n",
    "#測試test_adv\n",
    "for i in range(BIT_COUNT+1):\n",
    "  result_temp = decoder.evaluate(cifar100_test_adv[i], np.array([user_code[i]] * DATA_LENGTH))"
   ],
   "metadata": {
    "collapsed": false,
    "pycharm": {
     "name": "#%%\n"
    }
   }
  },
  {
   "cell_type": "code",
   "execution_count": null,
   "outputs": [],
   "source": [
    "test_accuracy_final = []\n",
    "for i in range(START_BIT,184+8,8):\n",
    "  test_accuracy_final.append([np.mean(accuracy_list['test_adv'][int(i/8)-1]), np.std(accuracy_list['test_adv'][int(i/8)-1],ddof=1), sorted(accuracy_list['test_adv'][int(i/8)-1])[0]])"
   ],
   "metadata": {
    "collapsed": false,
    "pycharm": {
     "name": "#%%\n"
    }
   }
  },
  {
   "cell_type": "code",
   "execution_count": null,
   "outputs": [],
   "source": [
    "x = [i for i in range(START_BIT,184+8,8)]"
   ],
   "metadata": {
    "collapsed": false,
    "pycharm": {
     "name": "#%%\n"
    }
   }
  },
  {
   "cell_type": "code",
   "execution_count": null,
   "outputs": [],
   "source": [
    "print(\"avg_accuracy:{}  min_accuracy:{}   std:{}\".format(test_accuracy_final[0][0],test_accuracy_final[0][2],test_accuracy_final[0][1]))"
   ],
   "metadata": {
    "collapsed": false,
    "pycharm": {
     "name": "#%%\n"
    }
   }
  },
  {
   "cell_type": "code",
   "execution_count": null,
   "outputs": [],
   "source": [
    "plt.plot(x, np.array(test_accuracy_final)[:,2], label='min')\n",
    "plt.xlabel('Number of categories')\n",
    "plt.ylabel('Accuracy')\n",
    "plt.legend()\n",
    "plt.savefig('min.png',dpi=3000)\n",
    "plt.show()"
   ],
   "metadata": {
    "collapsed": false,
    "pycharm": {
     "name": "#%%\n"
    }
   }
  }
 ],
 "metadata": {
  "kernelspec": {
   "display_name": "Python 3",
   "language": "python",
   "name": "python3"
  },
  "language_info": {
   "codemirror_mode": {
    "name": "ipython",
    "version": 2
   },
   "file_extension": ".py",
   "mimetype": "text/x-python",
   "name": "python",
   "nbconvert_exporter": "python",
   "pygments_lexer": "ipython2",
   "version": "2.7.6"
  }
 },
 "nbformat": 4,
 "nbformat_minor": 0
}