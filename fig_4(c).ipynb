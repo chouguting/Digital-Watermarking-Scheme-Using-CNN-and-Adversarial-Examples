{
 "cells": [
  {
   "cell_type": "code",
   "execution_count": 1,
   "outputs": [],
   "source": [
    "from numpy.fft import *\n",
    "from skimage import exposure\n",
    "import numpy as np\n",
    "import matplotlib.pyplot as plt\n",
    "from keras.models import load_model\n",
    "import tensorflow as tf\n",
    "import gc\n",
    "from tensorflow.keras.datasets import mnist, fashion_mnist"
   ],
   "metadata": {
    "collapsed": false,
    "pycharm": {
     "name": "#%%\n"
    }
   }
  },
  {
   "cell_type": "markdown",
   "source": [
    "## 利用PGD嵌入資訊"
   ],
   "metadata": {
    "collapsed": false,
    "pycharm": {
     "name": "#%% md\n"
    }
   }
  },
  {
   "cell_type": "code",
   "execution_count": 2,
   "outputs": [],
   "source": [
    "\n",
    "(x_train, y_train), (x_test, y_test) = mnist.load_data()\n",
    "x_train = x_train.astype('float32') / 255.0\n",
    "x_test = x_test.astype('float32') / 255.0\n",
    "x_test = x_test[:1000]\n",
    "del(x_train)\n",
    "del(y_train)\n",
    "del(y_test)\n",
    "gc.collect()\n",
    "\n",
    "num_classes = 10\n",
    "image_shape = (28, 28, 1)\n",
    "x_test = x_test.reshape((-1,) + image_shape)\n",
    "\n",
    "\n",
    "iterations = 7  #攻擊次數\n",
    "alpha = 0.0001  #攻擊程度\n",
    "epsilon = 8.0 / 255  #攻擊範圍\n",
    "#loss_object = tf.keras.losses.BinaryCrossentropy()  #我們選擇的loss function\n",
    "#利用pgd的idea修改圖片 讓它生出我想要的label\n",
    "def pgd_attack_to_target(input_image, target_label, loss_object, model, epsilon, alpha, iterations):\n",
    "    x_adv = input_image  # 複製一個圖片 (不要動到原圖片)\n",
    "    for i in range(iterations):  # 做很多次\n",
    "        x_adv = tf.convert_to_tensor(x_adv)  # 將圖片轉成tensor\n",
    "        with tf.GradientTape() as tape:  #開始計算梯度\n",
    "            tape.watch(x_adv)  # 要計算的圖片是x_adv\n",
    "            prediction = model(x_adv)  #先做判斷(取得目前的結果)\n",
    "            loss = loss_object(target_label, prediction)  # 計算loss(距離target有多遠)\n",
    "        grad = tape.gradient(loss, x_adv)  # 計算梯度 (loss對x_adv的梯度，d_loss/d_x_adv)\n",
    "        x_adv_new  = x_adv - alpha * tf.sign(grad)  # 更新圖片(做梯度下降會讓預測結果接近我想要的label)\n",
    "        x_adv = tf.clip_by_value(x_adv_new , x_adv - epsilon, x_adv + epsilon)  # 限制圖片的範圍\n",
    "        x_adv = tf.clip_by_value(x_adv, 0, 1)  # 限制圖片的範圍(圖片要在0~1之間)\n",
    "        x_adv = x_adv.numpy()  # 將圖片轉成numpy\n",
    "    return x_adv  # 回傳攻擊後的圖片"
   ],
   "metadata": {
    "collapsed": false,
    "pycharm": {
     "name": "#%%\n"
    }
   }
  },
  {
   "cell_type": "code",
   "execution_count": 3,
   "outputs": [
    {
     "name": "stdout",
     "output_type": "stream",
     "text": [
      "[[1. 0. 0. 0. 0. 0. 0. 0. 0. 0. 0. 0. 0. 0. 0. 0. 0.]\n",
      " [0. 1. 0. 0. 0. 0. 0. 0. 0. 0. 0. 0. 0. 0. 0. 0. 0.]\n",
      " [0. 0. 1. 0. 0. 0. 0. 0. 0. 0. 0. 0. 0. 0. 0. 0. 0.]\n",
      " [0. 0. 0. 1. 0. 0. 0. 0. 0. 0. 0. 0. 0. 0. 0. 0. 0.]\n",
      " [0. 0. 0. 0. 1. 0. 0. 0. 0. 0. 0. 0. 0. 0. 0. 0. 0.]\n",
      " [0. 0. 0. 0. 0. 1. 0. 0. 0. 0. 0. 0. 0. 0. 0. 0. 0.]\n",
      " [0. 0. 0. 0. 0. 0. 1. 0. 0. 0. 0. 0. 0. 0. 0. 0. 0.]\n",
      " [0. 0. 0. 0. 0. 0. 0. 1. 0. 0. 0. 0. 0. 0. 0. 0. 0.]\n",
      " [0. 0. 0. 0. 0. 0. 0. 0. 1. 0. 0. 0. 0. 0. 0. 0. 0.]\n",
      " [0. 0. 0. 0. 0. 0. 0. 0. 0. 1. 0. 0. 0. 0. 0. 0. 0.]\n",
      " [0. 0. 0. 0. 0. 0. 0. 0. 0. 0. 1. 0. 0. 0. 0. 0. 0.]\n",
      " [0. 0. 0. 0. 0. 0. 0. 0. 0. 0. 0. 1. 0. 0. 0. 0. 0.]\n",
      " [0. 0. 0. 0. 0. 0. 0. 0. 0. 0. 0. 0. 1. 0. 0. 0. 0.]\n",
      " [0. 0. 0. 0. 0. 0. 0. 0. 0. 0. 0. 0. 0. 1. 0. 0. 0.]\n",
      " [0. 0. 0. 0. 0. 0. 0. 0. 0. 0. 0. 0. 0. 0. 1. 0. 0.]\n",
      " [0. 0. 0. 0. 0. 0. 0. 0. 0. 0. 0. 0. 0. 0. 0. 1. 0.]\n",
      " [0. 0. 0. 0. 0. 0. 0. 0. 0. 0. 0. 0. 0. 0. 0. 0. 1.]]\n"
     ]
    }
   ],
   "source": [
    "BIT_COUNT = 16\n",
    "\n",
    "list = np.array([ i for i in range(BIT_COUNT+1)])\n",
    "user_code = np.eye(BIT_COUNT+1)[list]\n",
    "print(user_code)  #生成onehot encoding"
   ],
   "metadata": {
    "collapsed": false,
    "pycharm": {
     "name": "#%%\n"
    }
   }
  },
  {
   "cell_type": "code",
   "execution_count": 4,
   "outputs": [
    {
     "name": "stdout",
     "output_type": "stream",
     "text": [
      "epoch: 1\n",
      "epoch: 2\n",
      "epoch: 3\n",
      "epoch: 4\n",
      "epoch: 5\n",
      "epoch: 6\n",
      "epoch: 7\n",
      "epoch: 8\n",
      "epoch: 9\n",
      "epoch: 10\n",
      "epoch: 11\n",
      "epoch: 12\n",
      "epoch: 13\n",
      "epoch: 14\n",
      "epoch: 15\n",
      "epoch: 16\n",
      "epoch: 17\n",
      "epoch: 18\n",
      "epoch: 19\n",
      "epoch: 20\n"
     ]
    }
   ],
   "source": [
    "decoder = load_model('models/decoder_one_hot_4_bit_mnist_binary_crossentropy.h5')\n",
    "x_test_adv = [x_test.copy() for i in range(BIT_COUNT+1)]\n",
    "for epoch in range(20):\n",
    "    print(\"epoch:\",epoch+1)\n",
    "    for i in range(1, BIT_COUNT+1):\n",
    "        x_test_adv[i] = pgd_attack_to_target(x_test_adv[i], [user_code[i]] * len(x_test),\n",
    "                                             tf.keras.losses.CategoricalCrossentropy(), decoder, epsilon, alpha,\n",
    "                                             iterations)"
   ],
   "metadata": {
    "collapsed": false,
    "pycharm": {
     "name": "#%%\n"
    }
   }
  },
  {
   "cell_type": "markdown",
   "source": [
    "## JPEG壓縮攻擊"
   ],
   "metadata": {
    "collapsed": false,
    "pycharm": {
     "name": "#%% md\n"
    }
   }
  },
  {
   "cell_type": "code",
   "execution_count": 5,
   "outputs": [],
   "source": [
    "def jpeg_compression(img,quality = 95):\n",
    "    return tf.io.encode_jpeg((img*255).astype('uint8'),quality=quality,format='grayscale',x_density=28,y_density=28)\n",
    "\n",
    "def jpeg_decompression(img):\n",
    "    return tf.io.decode_jpeg(img,channels=1,dct_method='INTEGER_ACCURATE')\n",
    "\n",
    "def jpeg_iterarion(ith_x_test_adv,quality):\n",
    "    jpeg_x_test = x_test.copy()\n",
    "    for i in range(x_test.shape[0]):\n",
    "        jpeg_x_test[i] = jpeg_decompression(jpeg_compression(ith_x_test_adv[i],quality)).numpy().astype('float32')/255.0\n",
    "    return jpeg_x_test"
   ],
   "metadata": {
    "collapsed": false,
    "pycharm": {
     "name": "#%%\n"
    }
   }
  },
  {
   "cell_type": "code",
   "execution_count": 6,
   "outputs": [],
   "source": [
    "quality = np.linspace(1,100,10)"
   ],
   "metadata": {
    "collapsed": false,
    "pycharm": {
     "name": "#%%\n"
    }
   }
  },
  {
   "cell_type": "code",
   "execution_count": 7,
   "outputs": [
    {
     "name": "stdout",
     "output_type": "stream",
     "text": [
      "0:\n",
      "32/32 [==============================] - 0s 5ms/step - loss: 0.1100 - categorical_accuracy: 0.6850\n",
      "32/32 [==============================] - 0s 3ms/step - loss: 0.6025 - categorical_accuracy: 0.0630\n",
      "32/32 [==============================] - 0s 4ms/step - loss: 0.9752 - categorical_accuracy: 0.0010\n",
      "32/32 [==============================] - 0s 5ms/step - loss: 0.8966 - categorical_accuracy: 0.0010\n",
      "32/32 [==============================] - 0s 4ms/step - loss: 1.2773 - categorical_accuracy: 0.0000e+00\n",
      "32/32 [==============================] - 0s 4ms/step - loss: 1.0234 - categorical_accuracy: 0.0030\n",
      "32/32 [==============================] - 0s 11ms/step - loss: 1.0547 - categorical_accuracy: 0.0000e+00\n",
      "32/32 [==============================] - 0s 6ms/step - loss: 1.0079 - categorical_accuracy: 0.0000e+00\n",
      "32/32 [==============================] - 0s 5ms/step - loss: 0.8174 - categorical_accuracy: 0.0030\n",
      "32/32 [==============================] - 0s 4ms/step - loss: 0.4872 - categorical_accuracy: 0.1360\n",
      "32/32 [==============================] - 0s 3ms/step - loss: 0.9105 - categorical_accuracy: 0.0010\n",
      "32/32 [==============================] - 0s 7ms/step - loss: 0.9394 - categorical_accuracy: 0.0030\n",
      "32/32 [==============================] - 0s 4ms/step - loss: 0.6993 - categorical_accuracy: 0.0160\n",
      "32/32 [==============================] - 0s 4ms/step - loss: 1.0057 - categorical_accuracy: 0.0050\n",
      "32/32 [==============================] - 0s 8ms/step - loss: 0.6773 - categorical_accuracy: 0.1210\n",
      "32/32 [==============================] - 0s 3ms/step - loss: 0.8583 - categorical_accuracy: 0.0020\n",
      "32/32 [==============================] - 0s 3ms/step - loss: 0.9075 - categorical_accuracy: 0.0100\n",
      "1:\n",
      "32/32 [==============================] - 0s 9ms/step - loss: 1.1875 - categorical_accuracy: 0.0010\n",
      "32/32 [==============================] - 0s 3ms/step - loss: 0.1435 - categorical_accuracy: 0.6710\n",
      "32/32 [==============================] - 0s 3ms/step - loss: 1.5189 - categorical_accuracy: 0.0000e+00\n",
      "32/32 [==============================] - 0s 10ms/step - loss: 1.1298 - categorical_accuracy: 0.0000e+00\n",
      "32/32 [==============================] - 0s 4ms/step - loss: 2.0306 - categorical_accuracy: 0.0000e+00\n",
      "32/32 [==============================] - 0s 5ms/step - loss: 1.1881 - categorical_accuracy: 0.0090\n",
      "32/32 [==============================] - 0s 8ms/step - loss: 1.4615 - categorical_accuracy: 0.0010\n",
      "32/32 [==============================] - 0s 4ms/step - loss: 1.4949 - categorical_accuracy: 0.0010\n",
      "32/32 [==============================] - 0s 4ms/step - loss: 0.6269 - categorical_accuracy: 0.1160\n",
      "32/32 [==============================] - 0s 8ms/step - loss: 0.4976 - categorical_accuracy: 0.1620\n",
      "32/32 [==============================] - 0s 4ms/step - loss: 0.4479 - categorical_accuracy: 0.0660\n",
      "32/32 [==============================] - 0s 4ms/step - loss: 1.2577 - categorical_accuracy: 0.0090\n",
      "32/32 [==============================] - 0s 9ms/step - loss: 0.3403 - categorical_accuracy: 0.2530\n",
      "32/32 [==============================] - 0s 5ms/step - loss: 1.5088 - categorical_accuracy: 0.0040\n",
      "32/32 [==============================] - 0s 4ms/step - loss: 0.6958 - categorical_accuracy: 0.0290\n",
      "32/32 [==============================] - 0s 3ms/step - loss: 0.7730 - categorical_accuracy: 0.0020\n",
      "32/32 [==============================] - 0s 8ms/step - loss: 1.4168 - categorical_accuracy: 0.0030\n",
      "2:\n",
      "32/32 [==============================] - 0s 5ms/step - loss: 0.5269 - categorical_accuracy: 0.0610\n",
      "32/32 [==============================] - 0s 4ms/step - loss: 0.1443 - categorical_accuracy: 0.5930\n",
      "32/32 [==============================] - 0s 4ms/step - loss: 0.8351 - categorical_accuracy: 0.0070\n",
      "32/32 [==============================] - 0s 8ms/step - loss: 0.4908 - categorical_accuracy: 0.0570\n",
      "32/32 [==============================] - 0s 3ms/step - loss: 1.2094 - categorical_accuracy: 0.0030\n",
      "32/32 [==============================] - 0s 3ms/step - loss: 0.5397 - categorical_accuracy: 0.0840\n",
      "32/32 [==============================] - 0s 5ms/step - loss: 0.9990 - categorical_accuracy: 0.0090\n",
      "32/32 [==============================] - 0s 7ms/step - loss: 0.8967 - categorical_accuracy: 0.0230\n",
      "32/32 [==============================] - 0s 4ms/step - loss: 0.6179 - categorical_accuracy: 0.0740\n",
      "32/32 [==============================] - 0s 3ms/step - loss: 0.4033 - categorical_accuracy: 0.1650\n",
      "32/32 [==============================] - 0s 6ms/step - loss: 0.4881 - categorical_accuracy: 0.0210\n",
      "32/32 [==============================] - 0s 11ms/step - loss: 0.8164 - categorical_accuracy: 0.0090\n",
      "32/32 [==============================] - 0s 4ms/step - loss: 0.2442 - categorical_accuracy: 0.3400\n",
      "32/32 [==============================] - 0s 3ms/step - loss: 1.0250 - categorical_accuracy: 0.0100\n",
      "32/32 [==============================] - 0s 7ms/step - loss: 0.2566 - categorical_accuracy: 0.2940\n",
      "32/32 [==============================] - 0s 3ms/step - loss: 0.4228 - categorical_accuracy: 0.0740\n",
      "32/32 [==============================] - 0s 3ms/step - loss: 0.8822 - categorical_accuracy: 0.0470\n",
      "3:\n",
      "32/32 [==============================] - 0s 6ms/step - loss: 0.0780 - categorical_accuracy: 0.8640\n",
      "32/32 [==============================] - 0s 5ms/step - loss: 0.0627 - categorical_accuracy: 0.8890\n",
      "32/32 [==============================] - 0s 6ms/step - loss: 0.2539 - categorical_accuracy: 0.5090\n",
      "32/32 [==============================] - 0s 9ms/step - loss: 0.0645 - categorical_accuracy: 0.8420\n",
      "32/32 [==============================] - 0s 4ms/step - loss: 0.6104 - categorical_accuracy: 0.4340\n",
      "32/32 [==============================] - 0s 3ms/step - loss: 0.0490 - categorical_accuracy: 0.8950\n",
      "32/32 [==============================] - 0s 8ms/step - loss: 0.4718 - categorical_accuracy: 0.3160\n",
      "32/32 [==============================] - 0s 3ms/step - loss: 0.7293 - categorical_accuracy: 0.2240\n",
      "32/32 [==============================] - 0s 3ms/step - loss: 0.5573 - categorical_accuracy: 0.3020\n",
      "32/32 [==============================] - 0s 5ms/step - loss: 0.2239 - categorical_accuracy: 0.5730\n",
      "32/32 [==============================] - 0s 5ms/step - loss: 0.0997 - categorical_accuracy: 0.7380\n",
      "32/32 [==============================] - 0s 6ms/step - loss: 0.2944 - categorical_accuracy: 0.5020\n",
      "32/32 [==============================] - 0s 5ms/step - loss: 0.0720 - categorical_accuracy: 0.8010\n",
      "32/32 [==============================] - 0s 3ms/step - loss: 0.7748 - categorical_accuracy: 0.2310\n",
      "32/32 [==============================] - 0s 8ms/step - loss: 0.4974 - categorical_accuracy: 0.5190\n",
      "32/32 [==============================] - 0s 3ms/step - loss: 0.2407 - categorical_accuracy: 0.4750\n",
      "32/32 [==============================] - 0s 3ms/step - loss: 0.5587 - categorical_accuracy: 0.3800\n",
      "4:\n",
      "32/32 [==============================] - 0s 5ms/step - loss: 0.0917 - categorical_accuracy: 0.8500\n",
      "32/32 [==============================] - 0s 5ms/step - loss: 0.0927 - categorical_accuracy: 0.8570\n",
      "32/32 [==============================] - 0s 4ms/step - loss: 0.1882 - categorical_accuracy: 0.6130\n",
      "32/32 [==============================] - 0s 5ms/step - loss: 0.0325 - categorical_accuracy: 0.9210\n",
      "32/32 [==============================] - 0s 9ms/step - loss: 0.4820 - categorical_accuracy: 0.5620\n",
      "32/32 [==============================] - 0s 6ms/step - loss: 0.0296 - categorical_accuracy: 0.9400\n",
      "32/32 [==============================] - 0s 5ms/step - loss: 0.2701 - categorical_accuracy: 0.5480\n",
      "32/32 [==============================] - 0s 5ms/step - loss: 0.9514 - categorical_accuracy: 0.1350\n",
      "32/32 [==============================] - 0s 3ms/step - loss: 0.4133 - categorical_accuracy: 0.4800\n",
      "32/32 [==============================] - 0s 6ms/step - loss: 0.2049 - categorical_accuracy: 0.6110\n",
      "32/32 [==============================] - 0s 13ms/step - loss: 0.1178 - categorical_accuracy: 0.7880\n",
      "32/32 [==============================] - 0s 7ms/step - loss: 0.2502 - categorical_accuracy: 0.6360\n",
      "32/32 [==============================] - 0s 6ms/step - loss: 0.0508 - categorical_accuracy: 0.8840\n",
      "32/32 [==============================] - 0s 8ms/step - loss: 0.3113 - categorical_accuracy: 0.5190\n",
      "32/32 [==============================] - 0s 5ms/step - loss: 0.9050 - categorical_accuracy: 0.2100\n",
      "32/32 [==============================] - 0s 4ms/step - loss: 0.1195 - categorical_accuracy: 0.7800\n",
      "32/32 [==============================] - 0s 4ms/step - loss: 0.3197 - categorical_accuracy: 0.5820\n",
      "5:\n",
      "32/32 [==============================] - 0s 8ms/step - loss: 0.1045 - categorical_accuracy: 0.8360\n",
      "32/32 [==============================] - 0s 9ms/step - loss: 0.0472 - categorical_accuracy: 0.9250\n",
      "32/32 [==============================] - 0s 9ms/step - loss: 0.1605 - categorical_accuracy: 0.6510\n",
      "32/32 [==============================] - 0s 7ms/step - loss: 0.0362 - categorical_accuracy: 0.9110\n",
      "32/32 [==============================] - 0s 6ms/step - loss: 0.4057 - categorical_accuracy: 0.6220\n",
      "32/32 [==============================] - 0s 5ms/step - loss: 0.0189 - categorical_accuracy: 0.9580\n",
      "32/32 [==============================] - 0s 3ms/step - loss: 0.1865 - categorical_accuracy: 0.6870\n",
      "32/32 [==============================] - 0s 3ms/step - loss: 0.7950 - categorical_accuracy: 0.1910\n",
      "32/32 [==============================] - 0s 3ms/step - loss: 0.4410 - categorical_accuracy: 0.4960\n",
      "32/32 [==============================] - 0s 10ms/step - loss: 0.1579 - categorical_accuracy: 0.6780\n",
      "32/32 [==============================] - 0s 5ms/step - loss: 0.0793 - categorical_accuracy: 0.8800\n",
      "32/32 [==============================] - 0s 7ms/step - loss: 0.1567 - categorical_accuracy: 0.7810\n",
      "32/32 [==============================] - 0s 5ms/step - loss: 0.0538 - categorical_accuracy: 0.8880\n",
      "32/32 [==============================] - 0s 5ms/step - loss: 0.3624 - categorical_accuracy: 0.5240\n",
      "32/32 [==============================] - 0s 4ms/step - loss: 0.8309 - categorical_accuracy: 0.2280\n",
      "32/32 [==============================] - 0s 4ms/step - loss: 0.0609 - categorical_accuracy: 0.8770\n",
      "32/32 [==============================] - 0s 10ms/step - loss: 0.2558 - categorical_accuracy: 0.6610\n",
      "6:\n",
      "32/32 [==============================] - 0s 4ms/step - loss: 0.0960 - categorical_accuracy: 0.8430\n",
      "32/32 [==============================] - 0s 13ms/step - loss: 0.0216 - categorical_accuracy: 0.9710\n",
      "32/32 [==============================] - 0s 10ms/step - loss: 0.1247 - categorical_accuracy: 0.7490\n",
      "32/32 [==============================] - 0s 7ms/step - loss: 0.0284 - categorical_accuracy: 0.9340\n",
      "32/32 [==============================] - 0s 8ms/step - loss: 0.3549 - categorical_accuracy: 0.6370\n",
      "32/32 [==============================] - 0s 11ms/step - loss: 0.0170 - categorical_accuracy: 0.9560\n",
      "32/32 [==============================] - 0s 6ms/step - loss: 0.1673 - categorical_accuracy: 0.7230\n",
      "32/32 [==============================] - 0s 11ms/step - loss: 0.5736 - categorical_accuracy: 0.3320\n",
      "32/32 [==============================] - 0s 7ms/step - loss: 0.3634 - categorical_accuracy: 0.5550\n",
      "32/32 [==============================] - 0s 9ms/step - loss: 0.0954 - categorical_accuracy: 0.7890\n",
      "32/32 [==============================] - 0s 11ms/step - loss: 0.0357 - categorical_accuracy: 0.9420\n",
      "32/32 [==============================] - 0s 9ms/step - loss: 0.1473 - categorical_accuracy: 0.7840\n",
      "32/32 [==============================] - 0s 8ms/step - loss: 0.0255 - categorical_accuracy: 0.9490\n",
      "32/32 [==============================] - 0s 6ms/step - loss: 0.2731 - categorical_accuracy: 0.6050\n",
      "32/32 [==============================] - 0s 11ms/step - loss: 0.6197 - categorical_accuracy: 0.3070\n",
      "32/32 [==============================] - 0s 3ms/step - loss: 0.0299 - categorical_accuracy: 0.9350\n",
      "32/32 [==============================] - 0s 4ms/step - loss: 0.1994 - categorical_accuracy: 0.7160\n",
      "7:\n",
      "32/32 [==============================] - 0s 10ms/step - loss: 0.0425 - categorical_accuracy: 0.9100\n",
      "32/32 [==============================] - 0s 3ms/step - loss: 0.0113 - categorical_accuracy: 0.9850\n",
      "32/32 [==============================] - 0s 6ms/step - loss: 0.0542 - categorical_accuracy: 0.8770\n",
      "32/32 [==============================] - 0s 9ms/step - loss: 0.0175 - categorical_accuracy: 0.9570\n",
      "32/32 [==============================] - 0s 5ms/step - loss: 0.2687 - categorical_accuracy: 0.6640\n",
      "32/32 [==============================] - 0s 8ms/step - loss: 0.0090 - categorical_accuracy: 0.9770\n",
      "32/32 [==============================] - 0s 3ms/step - loss: 0.1262 - categorical_accuracy: 0.7820\n",
      "32/32 [==============================] - 0s 3ms/step - loss: 0.3585 - categorical_accuracy: 0.4700\n",
      "32/32 [==============================] - 0s 4ms/step - loss: 0.2113 - categorical_accuracy: 0.6770\n",
      "32/32 [==============================] - 0s 5ms/step - loss: 0.0379 - categorical_accuracy: 0.8990\n",
      "32/32 [==============================] - 0s 9ms/step - loss: 0.0093 - categorical_accuracy: 0.9830\n",
      "32/32 [==============================] - 0s 5ms/step - loss: 0.0916 - categorical_accuracy: 0.8630\n",
      "32/32 [==============================] - 0s 5ms/step - loss: 0.0148 - categorical_accuracy: 0.9650\n",
      "32/32 [==============================] - 0s 8ms/step - loss: 0.1457 - categorical_accuracy: 0.7650\n",
      "32/32 [==============================] - 0s 6ms/step - loss: 0.3214 - categorical_accuracy: 0.4570\n",
      "32/32 [==============================] - 0s 10ms/step - loss: 0.0186 - categorical_accuracy: 0.9580\n",
      "32/32 [==============================] - 0s 6ms/step - loss: 0.1063 - categorical_accuracy: 0.8270\n",
      "8:\n",
      "32/32 [==============================] - 0s 6ms/step - loss: 5.0242e-04 - categorical_accuracy: 0.9990\n",
      "32/32 [==============================] - 0s 6ms/step - loss: 0.0017 - categorical_accuracy: 1.0000\n",
      "32/32 [==============================] - 0s 5ms/step - loss: 0.0033 - categorical_accuracy: 0.9910\n",
      "32/32 [==============================] - 0s 11ms/step - loss: 0.0055 - categorical_accuracy: 0.9840\n",
      "32/32 [==============================] - 0s 5ms/step - loss: 0.0585 - categorical_accuracy: 0.8800\n",
      "32/32 [==============================] - 0s 4ms/step - loss: 8.6416e-04 - categorical_accuracy: 0.9980\n",
      "32/32 [==============================] - 0s 9ms/step - loss: 0.0104 - categorical_accuracy: 0.9700\n",
      "32/32 [==============================] - 0s 3ms/step - loss: 0.0752 - categorical_accuracy: 0.8210\n",
      "32/32 [==============================] - 0s 4ms/step - loss: 0.0430 - categorical_accuracy: 0.9170\n",
      "32/32 [==============================] - 0s 10ms/step - loss: 0.0022 - categorical_accuracy: 0.9940\n",
      "32/32 [==============================] - 0s 5ms/step - loss: 7.1098e-04 - categorical_accuracy: 0.9990\n",
      "32/32 [==============================] - 0s 3ms/step - loss: 0.0184 - categorical_accuracy: 0.9600\n",
      "32/32 [==============================] - 0s 10ms/step - loss: 0.0041 - categorical_accuracy: 0.9960\n",
      "32/32 [==============================] - 0s 3ms/step - loss: 0.0104 - categorical_accuracy: 0.9750\n",
      "32/32 [==============================] - 0s 5ms/step - loss: 0.1042 - categorical_accuracy: 0.7900\n",
      "32/32 [==============================] - 0s 10ms/step - loss: 0.0026 - categorical_accuracy: 0.9960\n",
      "32/32 [==============================] - 0s 5ms/step - loss: 0.0091 - categorical_accuracy: 0.9760\n",
      "9:\n",
      "32/32 [==============================] - 0s 8ms/step - loss: 5.1801e-12 - categorical_accuracy: 1.0000\n",
      "32/32 [==============================] - 0s 3ms/step - loss: 0.0064 - categorical_accuracy: 1.0000\n",
      "32/32 [==============================] - 0s 4ms/step - loss: 1.0846e-06 - categorical_accuracy: 1.0000\n",
      "32/32 [==============================] - 0s 6ms/step - loss: 3.3652e-04 - categorical_accuracy: 1.0000\n",
      "32/32 [==============================] - 0s 3ms/step - loss: 3.7877e-07 - categorical_accuracy: 1.0000\n",
      "32/32 [==============================] - 0s 5ms/step - loss: 2.0788e-09 - categorical_accuracy: 1.0000\n",
      "32/32 [==============================] - 0s 11ms/step - loss: 1.8539e-07 - categorical_accuracy: 1.0000\n",
      "32/32 [==============================] - 0s 4ms/step - loss: 9.6264e-04 - categorical_accuracy: 0.9990\n",
      "32/32 [==============================] - 0s 3ms/step - loss: 0.0013 - categorical_accuracy: 1.0000\n",
      "32/32 [==============================] - 0s 7ms/step - loss: 7.6264e-07 - categorical_accuracy: 1.0000\n",
      "32/32 [==============================] - 0s 3ms/step - loss: 1.9334e-04 - categorical_accuracy: 1.0000\n",
      "32/32 [==============================] - 0s 4ms/step - loss: 7.3254e-07 - categorical_accuracy: 1.0000\n",
      "32/32 [==============================] - 0s 8ms/step - loss: 0.0049 - categorical_accuracy: 0.9970\n",
      "32/32 [==============================] - 0s 7ms/step - loss: 5.6847e-09 - categorical_accuracy: 1.0000\n",
      "32/32 [==============================] - 0s 10ms/step - loss: 0.0509 - categorical_accuracy: 0.8800\n",
      "32/32 [==============================] - 0s 4ms/step - loss: 6.1301e-05 - categorical_accuracy: 1.0000\n",
      "32/32 [==============================] - 0s 9ms/step - loss: 5.3657e-06 - categorical_accuracy: 1.0000\n"
     ]
    }
   ],
   "source": [
    "jpeg_acc = []\n",
    "#以不同的品質等級來儲存每個 JPEG 影像。 品質層級 0 對應到最大壓縮，而品質層級 100 對應到最小壓縮。\n",
    "for i in range(len(quality)):\n",
    "    print(\"{}:\".format(i))\n",
    "    jpeg_tmp_acc = []\n",
    "    for j in range(BIT_COUNT+1):\n",
    "        _,acc = decoder.evaluate(jpeg_iterarion(x_test_adv[j],quality[i]), np.array([user_code[j]] * len(x_test)))\n",
    "        jpeg_tmp_acc.append(acc)\n",
    "        del(acc)\n",
    "        gc.collect()\n",
    "    jpeg_acc.append(np.mean(jpeg_tmp_acc))\n",
    "    del(jpeg_tmp_acc)\n",
    "    gc.collect()"
   ],
   "metadata": {
    "collapsed": false,
    "pycharm": {
     "name": "#%%\n"
    }
   }
  },
  {
   "cell_type": "code",
   "execution_count": 9,
   "outputs": [
    {
     "data": {
      "text/plain": "<Figure size 432x288 with 1 Axes>",
      "image/png": "[encoded data removed]"
     },
     "metadata": {
      "needs_background": "light"
     },
     "output_type": "display_data"
    }
   ],
   "source": [
    "plt.plot(quality,jpeg_acc)\n",
    "plt.xticks(fontsize=10)\n",
    "plt.yticks(fontsize=10)\n",
    "plt.axhline(y=0.9,color='r',linestyle='--')\n",
    "plt.xlim(max(quality),min(quality))\n",
    "plt.xlabel(\"Quality\",fontsize=15)\n",
    "plt.ylabel(\"Accuracy\",fontsize=15)\n",
    "plt.title(\"JPEG Compression\",fontsize=15)\n",
    "plt.savefig(\"jpeg_compression_acc_10.png\")"
   ],
   "metadata": {
    "collapsed": false,
    "pycharm": {
     "name": "#%%\n"
    }
   }
  },
  {
   "cell_type": "code",
   "execution_count": null,
   "outputs": [],
   "source": [],
   "metadata": {
    "collapsed": false,
    "pycharm": {
     "name": "#%%\n"
    }
   }
  }
 ],
 "metadata": {
  "kernelspec": {
   "display_name": "Python 3",
   "language": "python",
   "name": "python3"
  },
  "language_info": {
   "codemirror_mode": {
    "name": "ipython",
    "version": 2
   },
   "file_extension": ".py",
   "mimetype": "text/x-python",
   "name": "python",
   "nbconvert_exporter": "python",
   "pygments_lexer": "ipython2",
   "version": "2.7.6"
  }
 },
 "nbformat": 4,
 "nbformat_minor": 0
}