{
 "cells": [
  {
   "cell_type": "code",
   "execution_count": 1,
   "metadata": {
    "collapsed": true,
    "pycharm": {
     "name": "#%%\n"
    }
   },
   "outputs": [
    {
     "name": "stdout",
     "output_type": "stream",
     "text": [
      "Wed Aug 10 16:25:03 2022       \n",
      "+-----------------------------------------------------------------------------+\n",
      "| NVIDIA-SMI 516.59       Driver Version: 516.59       CUDA Version: 11.7     |\n",
      "|-------------------------------+----------------------+----------------------+\n",
      "| GPU  Name            TCC/WDDM | Bus-Id        Disp.A | Volatile Uncorr. ECC |\n",
      "| Fan  Temp  Perf  Pwr:Usage/Cap|         Memory-Usage | GPU-Util  Compute M. |\n",
      "|                               |                      |               MIG M. |\n",
      "|===============================+======================+======================|\n",
      "|   0  NVIDIA GeForce ... WDDM  | 00000000:01:00.0  On |                  N/A |\n",
      "| 26%   38C    P8     5W / 120W |    994MiB /  6144MiB |     13%      Default |\n",
      "|                               |                      |                  N/A |\n",
      "+-------------------------------+----------------------+----------------------+\n",
      "                                                                               \n",
      "+-----------------------------------------------------------------------------+\n",
      "| Processes:                                                                  |\n",
      "|  GPU   GI   CI        PID   Type   Process name                  GPU Memory |\n",
      "|        ID   ID                                                   Usage      |\n",
      "|=============================================================================|\n",
      "|    0   N/A  N/A      2444    C+G   C:\\Windows\\explorer.exe         N/A      |\n",
      "|    0   N/A  N/A      4056    C+G   ...indows\\System32\\mstsc.exe    N/A      |\n",
      "|    0   N/A  N/A      8556    C+G   ...dows\\System32\\dllhost.exe    N/A      |\n",
      "|    0   N/A  N/A     11544    C+G   ...293.47\\msedgewebview2.exe    N/A      |\n",
      "|    0   N/A  N/A     12260    C+G   ...ekyb3d8bbwe\\HxOutlook.exe    N/A      |\n",
      "|    0   N/A  N/A     12328    C+G   ... Host\\Razer Synapse 3.exe    N/A      |\n",
      "|    0   N/A  N/A     12628    C+G   ...y\\ShellExperienceHost.exe    N/A      |\n",
      "|    0   N/A  N/A     14556    C+G   ...artMenuExperienceHost.exe    N/A      |\n",
      "|    0   N/A  N/A     15364    C+G   ...n1h2txyewy\\SearchHost.exe    N/A      |\n",
      "|    0   N/A  N/A     16500    C+G   ...lPanel\\SystemSettings.exe    N/A      |\n",
      "|    0   N/A  N/A     17296    C+G   ...2txyewy\\TextInputHost.exe    N/A      |\n",
      "|    0   N/A  N/A     17972    C+G   ...werToys.PowerLauncher.exe    N/A      |\n",
      "|    0   N/A  N/A     19976    C+G   ...perience\\NVIDIA Share.exe    N/A      |\n",
      "|    0   N/A  N/A     21468    C+G   ...perience\\NVIDIA Share.exe    N/A      |\n",
      "|    0   N/A  N/A     21948    C+G   ...e\\PhoneExperienceHost.exe    N/A      |\n",
      "|    0   N/A  N/A     22436    C+G   ...293.47\\msedgewebview2.exe    N/A      |\n",
      "|    0   N/A  N/A     22684    C+G   ... iCUE 4 Software\\iCUE.exe    N/A      |\n",
      "|    0   N/A  N/A     23928    C+G   ...bin\\jetbrains-toolbox.exe    N/A      |\n",
      "|    0   N/A  N/A     23996    C+G   ...in7x64\\steamwebhelper.exe    N/A      |\n",
      "|    0   N/A  N/A     24564    C+G   ...bbwe\\Microsoft.Photos.exe    N/A      |\n",
      "|    0   N/A  N/A     25396    C+G   ...ekyb3d8bbwe\\onenoteim.exe    N/A      |\n",
      "|    0   N/A  N/A     26308    C+G   ...ekyb3d8bbwe\\XboxPcApp.exe    N/A      |\n",
      "|    0   N/A  N/A     27500    C+G   ...\\app-1.0.9005\\Discord.exe    N/A      |\n",
      "|    0   N/A  N/A     28140    C+G   ...wekyb3d8bbwe\\Video.UI.exe    N/A      |\n",
      "|    0   N/A  N/A     28260    C+G   ...arp.BrowserSubprocess.exe    N/A      |\n",
      "|    0   N/A  N/A     29156    C+G   ...qxf38zg5c\\Skype\\Skype.exe    N/A      |\n",
      "|    0   N/A  N/A     31804    C+G   ...b3d8bbwe\\WinStore.App.exe    N/A      |\n",
      "|    0   N/A  N/A     32516    C+G   C:\\Windows\\explorer.exe         N/A      |\n",
      "|    0   N/A  N/A     32732    C+G   ...txyewy\\MiniSearchHost.exe    N/A      |\n",
      "|    0   N/A  N/A     35396    C+G   ...ge\\Application\\msedge.exe    N/A      |\n",
      "|    0   N/A  N/A     37192    C+G   ...root\\Office16\\WINWORD.EXE    N/A      |\n",
      "|    0   N/A  N/A     41696    C+G   C:\\Windows\\explorer.exe         N/A      |\n",
      "+-----------------------------------------------------------------------------+\n"
     ]
    }
   ],
   "source": [
    "import gc\n",
    "!nvidia-smi"
   ]
  },
  {
   "cell_type": "code",
   "execution_count": 2,
   "outputs": [],
   "source": [
    "import tensorflow as tf\n",
    "from tensorflow.keras.datasets import mnist, fashion_mnist,cifar10\n",
    "from tensorflow.keras.models import Model\n",
    "from tensorflow.keras.layers import Input, Conv2D, Dense, MaxPooling2D, Flatten\n",
    "from tensorflow.keras.optimizers import Adam\n",
    "import matplotlib.pyplot as plt\n",
    "import numpy as np"
   ],
   "metadata": {
    "collapsed": false,
    "pycharm": {
     "name": "#%%\n"
    }
   }
  },
  {
   "cell_type": "code",
   "execution_count": 3,
   "outputs": [],
   "source": [
    "BIT_COUNT = 16\n",
    "JPEG_QUALITY = 80"
   ],
   "metadata": {
    "collapsed": false,
    "pycharm": {
     "name": "#%%\n"
    }
   }
  },
  {
   "cell_type": "code",
   "execution_count": 4,
   "outputs": [],
   "source": [
    "def rgb2gray(rgb):\n",
    "    if len(rgb.shape)==3:\n",
    "        r, g, b = rgb[:,:,0], rgb[:,:,1], rgb[:,:,2]\n",
    "    else:\n",
    "        r, g, b = rgb[:,:,:,0], rgb[:,:,:,1], rgb[:,:,:,2]\n",
    "\n",
    "\n",
    "    gray = 0.2989 * r + 0.5870 * g + 0.1140 * b\n",
    "\n",
    "    return gray"
   ],
   "metadata": {
    "collapsed": false,
    "pycharm": {
     "name": "#%%\n"
    }
   }
  },
  {
   "cell_type": "markdown",
   "source": [
    "# 引入CIFAR10\n"
   ],
   "metadata": {
    "collapsed": false,
    "pycharm": {
     "name": "#%% md\n"
    }
   }
  },
  {
   "cell_type": "code",
   "execution_count": 5,
   "outputs": [],
   "source": [
    "(x_train, y_train), (x_test, y_test) =  cifar10.load_data()\n",
    "x_train = x_train.astype('float32') / 255.0\n",
    "x_test = x_test.astype('float32') / 255.0\n",
    "\n",
    "x_train = rgb2gray(x_train)\n",
    "x_train = np.expand_dims(x_train, axis=-1)\n",
    "x_test = rgb2gray(x_test)\n",
    "x_test = np.expand_dims(x_test, axis=-1)\n",
    "\n",
    "x_train = x_train[:1500]\n",
    "\n",
    "y_train = y_train[:1500]\n",
    "x_test = x_test[:1500]\n",
    "\n",
    "x_train = tf.image.resize(x_train, [28,28]).numpy()\n",
    "x_test = tf.image.resize(x_test, [28,28]).numpy()\n",
    "\n",
    "num_classes = 10\n",
    "image_shape = (28, 28, 1)\n",
    "x_train = x_train.reshape((-1,) + image_shape)\n",
    "x_test = x_test.reshape((-1,) + image_shape)\n",
    "\n",
    "# x_train =  np.concatenate((x_train[:,:14, :14, :] , x_train[:,:14, 14:, :] , x_train[:,14:, :14, :] , x_train[:,14:, 14:, :]))\n",
    "# x_test =  np.concatenate((x_test[:,:14, :14, :] , x_test[:,:14, 14:, :] , x_test[:,14:, :14, :] , x_test[:,14:, 14:, :]))\n",
    "\n",
    "y_train = tf.keras.utils.to_categorical(y_train, num_classes)\n",
    "y_test = tf.keras.utils.to_categorical(y_test, num_classes)"
   ],
   "metadata": {
    "collapsed": false,
    "pycharm": {
     "name": "#%%\n"
    }
   }
  },
  {
   "cell_type": "markdown",
   "source": [
    "# decoder網路"
   ],
   "metadata": {
    "collapsed": false,
    "pycharm": {
     "name": "#%% md\n"
    }
   }
  },
  {
   "cell_type": "code",
   "execution_count": 6,
   "outputs": [],
   "source": [
    "########\n",
    "from tensorflow.keras.layers import RandomFlip, RandomRotation, RandomZoom\n",
    "\n",
    "data_augmentation = tf.keras.Sequential([\n",
    "    RandomRotation(0.02, fill_mode = 'constant'),\n",
    "    RandomZoom(.2, .2)\n",
    "])\n",
    "###########"
   ],
   "metadata": {
    "collapsed": false,
    "pycharm": {
     "name": "#%%\n"
    }
   }
  },
  {
   "cell_type": "code",
   "execution_count": 7,
   "outputs": [],
   "source": [
    "adam = Adam(learning_rate=0.0002, beta_1=0.5)"
   ],
   "metadata": {
    "collapsed": false,
    "pycharm": {
     "name": "#%%\n"
    }
   }
  },
  {
   "cell_type": "code",
   "execution_count": 8,
   "outputs": [
    {
     "name": "stdout",
     "output_type": "stream",
     "text": [
      "Model: \"model\"\n",
      "_________________________________________________________________\n",
      " Layer (type)                Output Shape              Param #   \n",
      "=================================================================\n",
      " input_1 (InputLayer)        [(None, 28, 28, 1)]       0         \n",
      "                                                                 \n",
      " conv2d (Conv2D)             (None, 28, 28, 64)        640       \n",
      "                                                                 \n",
      " max_pooling2d (MaxPooling2D  (None, 14, 14, 64)       0         \n",
      " )                                                               \n",
      "                                                                 \n",
      " conv2d_1 (Conv2D)           (None, 14, 14, 32)        18464     \n",
      "                                                                 \n",
      " max_pooling2d_1 (MaxPooling  (None, 7, 7, 32)         0         \n",
      " 2D)                                                             \n",
      "                                                                 \n",
      " conv2d_2 (Conv2D)           (None, 7, 7, 16)          4624      \n",
      "                                                                 \n",
      " max_pooling2d_2 (MaxPooling  (None, 3, 3, 16)         0         \n",
      " 2D)                                                             \n",
      "                                                                 \n",
      " flatten (Flatten)           (None, 144)               0         \n",
      "                                                                 \n",
      " dense (Dense)               (None, 512)               74240     \n",
      "                                                                 \n",
      " dense_1 (Dense)             (None, 256)               131328    \n",
      "                                                                 \n",
      " dense_2 (Dense)             (None, 128)               32896     \n",
      "                                                                 \n",
      " dense_3 (Dense)             (None, 17)                2193      \n",
      "                                                                 \n",
      "=================================================================\n",
      "Total params: 264,385\n",
      "Trainable params: 264,385\n",
      "Non-trainable params: 0\n",
      "_________________________________________________________________\n"
     ]
    },
    {
     "data": {
      "image/png": "[encoded data removed]",
      "text/plain": "<IPython.core.display.Image object>"
     },
     "execution_count": 8,
     "metadata": {},
     "output_type": "execute_result"
    }
   ],
   "source": [
    "inputs = Input((28, 28, 1))\n",
    "x = Conv2D(64, (3, 3), padding=\"same\", activation='relu')(inputs)\n",
    "x = MaxPooling2D((2, 2))(x)\n",
    "x = Conv2D(32, (3, 3), padding=\"same\", activation='relu')(x)\n",
    "x = MaxPooling2D((2, 2))(x)\n",
    "x = Conv2D(16, (3, 3), padding=\"same\", activation='relu')(x)\n",
    "x = MaxPooling2D((2, 2))(x)\n",
    "x = Flatten()(x)\n",
    "x = Dense(512, activation='relu')(x)\n",
    "x = Dense(256, activation='relu')(x)\n",
    "x = Dense(128, activation='relu')(x)\n",
    "x = Dense(BIT_COUNT+1, activation=\"softmax\")(x)\n",
    "decoder = Model(inputs=inputs, outputs=x)\n",
    "decoder.compile(optimizer=adam, loss='binary_crossentropy', metrics=['categorical_accuracy'])\n",
    "decoder.summary()\n",
    "from keras.utils.vis_utils import plot_model\n",
    "plot_model(decoder, to_file='model.png', show_shapes=True,show_layer_names=False)"
   ],
   "metadata": {
    "collapsed": false,
    "pycharm": {
     "name": "#%%\n"
    }
   }
  },
  {
   "cell_type": "code",
   "execution_count": 9,
   "outputs": [],
   "source": [
    "iterations = 7  #攻擊次數\n",
    "alpha = 0.0001  #攻擊程度\n",
    "epsilon = 8.0 / 255  #攻擊範圍\n",
    "\n",
    "\n",
    "#loss_object = tf.keras.losses.BinaryCrossentropy()  #我們選擇的loss function\n",
    "\n",
    "\n",
    "#利用pgd的idea修改圖片 讓它生出我想要的label\n",
    "def pgd_attack_to_target(input_image, target_label, loss_object, model, epsilon, alpha, iterations):\n",
    "    x_adv = input_image  # 複製一個圖片 (不要動到原圖片)\n",
    "    for i in range(iterations):  # 做很多次\n",
    "        x_adv = tf.convert_to_tensor(x_adv)  # 將圖片轉成tensor\n",
    "        with tf.GradientTape() as tape:  #開始計算梯度\n",
    "            tape.watch(x_adv)  # 要計算的圖片是x_adv\n",
    "            prediction = model(x_adv)  #先做判斷(取得目前的結果)\n",
    "            loss = loss_object(target_label, prediction)  # 計算loss(距離target有多遠)\n",
    "        grad = tape.gradient(loss, x_adv)  # 計算梯度 (loss對x_adv的梯度，d_loss/d_x_adv)\n",
    "        x_adv_new = x_adv - alpha * tf.sign(grad)  # 更新圖片(做梯度下降會讓預測結果接近我想要的label)\n",
    "        x_adv = tf.clip_by_value(x_adv_new, x_adv - epsilon, x_adv + epsilon)  # 限制圖片的範圍\n",
    "        x_adv = tf.clip_by_value(x_adv, 0, 1)  # 限制圖片的範圍(圖片要在0~1之間)\n",
    "        x_adv = x_adv.numpy()  # 將圖片轉成numpy\n",
    "    return x_adv  # 回傳攻擊後的圖片"
   ],
   "metadata": {
    "collapsed": false,
    "pycharm": {
     "name": "#%%\n"
    }
   }
  },
  {
   "cell_type": "code",
   "execution_count": 10,
   "outputs": [],
   "source": [
    "def plot_loss(losses):\n",
    "    \"\"\"\n",
    "    @losses.keys():\n",
    "        0: loss\n",
    "        1: accuracy\n",
    "    \"\"\"\n",
    "    dec_loss = losses[\"decoder\"]\n",
    "\n",
    "    plt.figure(figsize=(10, 8))\n",
    "    plt.plot(dec_loss, label=\"decoder loss\")\n",
    "    plt.xlabel('Epochs')\n",
    "    plt.ylabel('Loss')\n",
    "    plt.legend()\n",
    "    plt.show()"
   ],
   "metadata": {
    "collapsed": false,
    "pycharm": {
     "name": "#%%\n"
    }
   }
  },
  {
   "cell_type": "code",
   "execution_count": 11,
   "outputs": [
    {
     "name": "stdout",
     "output_type": "stream",
     "text": [
      "[[1. 0. 0. 0. 0. 0. 0. 0. 0. 0. 0. 0. 0. 0. 0. 0. 0.]\n",
      " [0. 1. 0. 0. 0. 0. 0. 0. 0. 0. 0. 0. 0. 0. 0. 0. 0.]\n",
      " [0. 0. 1. 0. 0. 0. 0. 0. 0. 0. 0. 0. 0. 0. 0. 0. 0.]\n",
      " [0. 0. 0. 1. 0. 0. 0. 0. 0. 0. 0. 0. 0. 0. 0. 0. 0.]\n",
      " [0. 0. 0. 0. 1. 0. 0. 0. 0. 0. 0. 0. 0. 0. 0. 0. 0.]\n",
      " [0. 0. 0. 0. 0. 1. 0. 0. 0. 0. 0. 0. 0. 0. 0. 0. 0.]\n",
      " [0. 0. 0. 0. 0. 0. 1. 0. 0. 0. 0. 0. 0. 0. 0. 0. 0.]\n",
      " [0. 0. 0. 0. 0. 0. 0. 1. 0. 0. 0. 0. 0. 0. 0. 0. 0.]\n",
      " [0. 0. 0. 0. 0. 0. 0. 0. 1. 0. 0. 0. 0. 0. 0. 0. 0.]\n",
      " [0. 0. 0. 0. 0. 0. 0. 0. 0. 1. 0. 0. 0. 0. 0. 0. 0.]\n",
      " [0. 0. 0. 0. 0. 0. 0. 0. 0. 0. 1. 0. 0. 0. 0. 0. 0.]\n",
      " [0. 0. 0. 0. 0. 0. 0. 0. 0. 0. 0. 1. 0. 0. 0. 0. 0.]\n",
      " [0. 0. 0. 0. 0. 0. 0. 0. 0. 0. 0. 0. 1. 0. 0. 0. 0.]\n",
      " [0. 0. 0. 0. 0. 0. 0. 0. 0. 0. 0. 0. 0. 1. 0. 0. 0.]\n",
      " [0. 0. 0. 0. 0. 0. 0. 0. 0. 0. 0. 0. 0. 0. 1. 0. 0.]\n",
      " [0. 0. 0. 0. 0. 0. 0. 0. 0. 0. 0. 0. 0. 0. 0. 1. 0.]\n",
      " [0. 0. 0. 0. 0. 0. 0. 0. 0. 0. 0. 0. 0. 0. 0. 0. 1.]]\n"
     ]
    }
   ],
   "source": [
    "list = np.array([ i for i in range(BIT_COUNT+1)])\n",
    "user_code = np.eye(BIT_COUNT+1)[list]\n",
    "print(user_code)  #生成onehot encoding"
   ],
   "metadata": {
    "collapsed": false,
    "pycharm": {
     "name": "#%%\n"
    }
   }
  },
  {
   "cell_type": "markdown",
   "source": [
    "# jpeg_compression"
   ],
   "metadata": {
    "collapsed": false,
    "pycharm": {
     "name": "#%% md\n"
    }
   }
  },
  {
   "cell_type": "code",
   "execution_count": 12,
   "outputs": [],
   "source": [
    "from skimage import io,util\n",
    "\n",
    "def jpeg_compression(img,quality = 95):\n",
    "    return tf.io.encode_jpeg((img*255).astype('uint8'),quality=quality,format='grayscale',x_density=28,y_density=28)\n",
    "\n",
    "def jpeg_decompression(img):\n",
    "    return tf.io.decode_jpeg(img,channels=1,dct_method='INTEGER_ACCURATE')\n",
    "\n",
    "def single_jpeg_compression(img_org, quality):\n",
    "    return jpeg_decompression(jpeg_compression(img_org,quality)).numpy().astype('float32')/255.0\n",
    "\n",
    "\n",
    "def batch_jpeg_compression(img_batch, quality):\n",
    "    result_img = np.zeros_like(img_batch)\n",
    "    for i in range(img_batch.shape[0]):\n",
    "        result_img[i] = jpeg_decompression(jpeg_compression(img_batch[i],quality)).numpy().astype('float32')/255.0\n",
    "    return result_img\n"
   ],
   "metadata": {
    "collapsed": false,
    "pycharm": {
     "name": "#%%\n"
    }
   }
  },
  {
   "cell_type": "code",
   "execution_count": 13,
   "outputs": [
    {
     "data": {
      "text/plain": "(1500, 28, 28, 1)"
     },
     "execution_count": 13,
     "metadata": {},
     "output_type": "execute_result"
    }
   ],
   "source": [
    "x_train.shape"
   ],
   "metadata": {
    "collapsed": false,
    "pycharm": {
     "name": "#%%\n"
    }
   }
  },
  {
   "cell_type": "code",
   "execution_count": 14,
   "outputs": [
    {
     "data": {
      "text/plain": "<matplotlib.image.AxesImage at 0x22d185f2670>"
     },
     "execution_count": 14,
     "metadata": {},
     "output_type": "execute_result"
    },
    {
     "data": {
      "text/plain": "<Figure size 432x288 with 1 Axes>",
      "image/png": "[encoded data removed]"
     },
     "metadata": {
      "needs_background": "light"
     },
     "output_type": "display_data"
    }
   ],
   "source": [
    "batch_test = batch_jpeg_compression(x_train,90)\n",
    "plt.imshow(batch_test[0,:,:,0],cmap='gray')"
   ],
   "metadata": {
    "collapsed": false,
    "pycharm": {
     "name": "#%%\n"
    }
   }
  },
  {
   "cell_type": "code",
   "execution_count": 15,
   "outputs": [
    {
     "data": {
      "text/plain": "<matplotlib.image.AxesImage at 0x22d18432790>"
     },
     "execution_count": 15,
     "metadata": {},
     "output_type": "execute_result"
    },
    {
     "data": {
      "text/plain": "<Figure size 432x288 with 1 Axes>",
      "image/png": "[encoded data removed]"
     },
     "metadata": {
      "needs_background": "light"
     },
     "output_type": "display_data"
    }
   ],
   "source": [
    "test_img = x_train[0]\n",
    "plt.imshow(test_img[:,:,0],cmap='gray')"
   ],
   "metadata": {
    "collapsed": false,
    "pycharm": {
     "name": "#%%\n"
    }
   }
  },
  {
   "cell_type": "code",
   "execution_count": 16,
   "outputs": [
    {
     "data": {
      "text/plain": "<Figure size 720x720 with 4 Axes>",
      "image/png": "[encoded data removed]"
     },
     "metadata": {
      "needs_background": "light"
     },
     "output_type": "display_data"
    }
   ],
   "source": [
    "\n",
    "plt.figure(figsize=(10,10))\n",
    "for idx,quality in enumerate([1, 20, 50,90]):\n",
    "    jpeg_result = single_jpeg_compression(test_img,quality)\n",
    "    plt.subplot(1,4,idx+1)\n",
    "\n",
    "    plt.imshow(jpeg_result[:,:,0],cmap='gray')\n",
    "    #plt.imshow(np.log(cv2.magnitude(low_pass_f[:,:,0],low_pass_f[:,:,1])),cmap='gray')\n",
    "    plt.axis('off')\n",
    "\n",
    "\n",
    "plt.show()"
   ],
   "metadata": {
    "collapsed": false,
    "pycharm": {
     "name": "#%%\n"
    }
   }
  },
  {
   "cell_type": "code",
   "execution_count": 17,
   "outputs": [
    {
     "name": "stdout",
     "output_type": "stream",
     "text": [
      "1594/1594 [==============================] - 5s 3ms/step - loss: 0.2309 - categorical_accuracy: 0.0581\n",
      "epoch:0  decoder_loss:[0.23091934621334076]\n",
      "1594/1594 [==============================] - 4s 3ms/step - loss: 0.2243 - categorical_accuracy: 0.0593\n",
      "epoch:1  decoder_loss:[0.22428996860980988]\n",
      "1594/1594 [==============================] - 4s 3ms/step - loss: 0.2242 - categorical_accuracy: 0.0588\n",
      "epoch:2  decoder_loss:[0.22422100603580475]\n",
      "1594/1594 [==============================] - 4s 3ms/step - loss: 0.2241 - categorical_accuracy: 0.0569\n",
      "epoch:3  decoder_loss:[0.2241472452878952]\n",
      "1594/1594 [==============================] - 4s 3ms/step - loss: 0.2241 - categorical_accuracy: 0.0580\n",
      "epoch:4  decoder_loss:[0.22409602999687195]\n",
      "1594/1594 [==============================] - 4s 3ms/step - loss: 0.2241 - categorical_accuracy: 0.0563\n",
      "epoch:5  decoder_loss:[0.22406692802906036]\n",
      "1594/1594 [==============================] - 4s 3ms/step - loss: 0.2240 - categorical_accuracy: 0.0593\n",
      "epoch:6  decoder_loss:[0.22403377294540405]\n",
      "1594/1594 [==============================] - 4s 3ms/step - loss: 0.2240 - categorical_accuracy: 0.0585\n",
      "epoch:7  decoder_loss:[0.22396521270275116]\n",
      "1594/1594 [==============================] - 4s 3ms/step - loss: 0.2240 - categorical_accuracy: 0.0581\n",
      "epoch:8  decoder_loss:[0.22398747503757477]\n",
      "1594/1594 [==============================] - 4s 3ms/step - loss: 0.2240 - categorical_accuracy: 0.0600\n",
      "epoch:9  decoder_loss:[0.22395318746566772]\n",
      "1594/1594 [==============================] - 4s 3ms/step - loss: 0.2239 - categorical_accuracy: 0.0585\n",
      "epoch:10  decoder_loss:[0.22393672168254852]\n",
      "1594/1594 [==============================] - 4s 3ms/step - loss: 0.2239 - categorical_accuracy: 0.0594\n",
      "epoch:11  decoder_loss:[0.22389817237854004]\n",
      "1594/1594 [==============================] - 5s 3ms/step - loss: 0.2237 - categorical_accuracy: 0.0631\n",
      "epoch:12  decoder_loss:[0.22374647855758667]\n",
      "1594/1594 [==============================] - 4s 3ms/step - loss: 0.2230 - categorical_accuracy: 0.0715\n",
      "epoch:13  decoder_loss:[0.2230200320482254]\n",
      "1594/1594 [==============================] - 4s 3ms/step - loss: 0.2214 - categorical_accuracy: 0.0806\n",
      "epoch:14  decoder_loss:[0.22135749459266663]\n",
      "1594/1594 [==============================] - 5s 3ms/step - loss: 0.2186 - categorical_accuracy: 0.0946\n",
      "epoch:15  decoder_loss:[0.21863742172718048]\n",
      "1594/1594 [==============================] - 5s 3ms/step - loss: 0.2153 - categorical_accuracy: 0.1135\n",
      "epoch:16  decoder_loss:[0.21525244414806366]\n",
      "1594/1594 [==============================] - 5s 3ms/step - loss: 0.2112 - categorical_accuracy: 0.1335\n",
      "epoch:17  decoder_loss:[0.21118693053722382]\n",
      "1594/1594 [==============================] - 5s 3ms/step - loss: 0.2064 - categorical_accuracy: 0.1572\n",
      "epoch:18  decoder_loss:[0.20637409389019012]\n",
      "1594/1594 [==============================] - 5s 3ms/step - loss: 0.2019 - categorical_accuracy: 0.1851\n",
      "epoch:19  decoder_loss:[0.20186494290828705]\n",
      "1594/1594 [==============================] - 4s 3ms/step - loss: 0.1964 - categorical_accuracy: 0.2168\n",
      "epoch:20  decoder_loss:[0.1964346021413803]\n",
      "1594/1594 [==============================] - 4s 3ms/step - loss: 0.1908 - categorical_accuracy: 0.2477\n",
      "epoch:21  decoder_loss:[0.1908220797777176]\n",
      "1594/1594 [==============================] - 4s 3ms/step - loss: 0.1849 - categorical_accuracy: 0.2812\n",
      "epoch:22  decoder_loss:[0.18491846323013306]\n",
      "1594/1594 [==============================] - 5s 3ms/step - loss: 0.1787 - categorical_accuracy: 0.3153\n",
      "epoch:23  decoder_loss:[0.17871469259262085]\n",
      "1594/1594 [==============================] - 5s 3ms/step - loss: 0.1722 - categorical_accuracy: 0.3475\n",
      "epoch:24  decoder_loss:[0.1722126603126526]\n",
      "1594/1594 [==============================] - 5s 3ms/step - loss: 0.1658 - categorical_accuracy: 0.3765\n",
      "epoch:25  decoder_loss:[0.16577300429344177]\n",
      "1594/1594 [==============================] - 5s 3ms/step - loss: 0.1601 - categorical_accuracy: 0.4011\n",
      "epoch:26  decoder_loss:[0.16008451581001282]\n",
      "1594/1594 [==============================] - 5s 3ms/step - loss: 0.1538 - categorical_accuracy: 0.4265\n",
      "epoch:27  decoder_loss:[0.15380744636058807]\n",
      "1594/1594 [==============================] - 5s 3ms/step - loss: 0.1479 - categorical_accuracy: 0.4516\n",
      "epoch:28  decoder_loss:[0.14793506264686584]\n",
      "1594/1594 [==============================] - 5s 3ms/step - loss: 0.1425 - categorical_accuracy: 0.4688\n",
      "epoch:29  decoder_loss:[0.1425129771232605]\n",
      "1594/1594 [==============================] - 5s 3ms/step - loss: 0.1375 - categorical_accuracy: 0.4881\n",
      "epoch:30  decoder_loss:[0.13754349946975708]\n",
      "1594/1594 [==============================] - 5s 3ms/step - loss: 0.1329 - categorical_accuracy: 0.5054\n",
      "epoch:31  decoder_loss:[0.13289988040924072]\n",
      "1594/1594 [==============================] - 5s 3ms/step - loss: 0.1287 - categorical_accuracy: 0.5191\n",
      "epoch:32  decoder_loss:[0.12874256074428558]\n",
      "1594/1594 [==============================] - 5s 3ms/step - loss: 0.1251 - categorical_accuracy: 0.5313\n",
      "epoch:33  decoder_loss:[0.12505555152893066]\n",
      "1594/1594 [==============================] - 5s 3ms/step - loss: 0.1219 - categorical_accuracy: 0.5422\n",
      "epoch:34  decoder_loss:[0.12188813835382462]\n",
      "1594/1594 [==============================] - 5s 3ms/step - loss: 0.1186 - categorical_accuracy: 0.5521\n",
      "epoch:35  decoder_loss:[0.11864158511161804]\n",
      "1594/1594 [==============================] - 5s 3ms/step - loss: 0.1160 - categorical_accuracy: 0.5636\n",
      "epoch:36  decoder_loss:[0.11598753184080124]\n",
      "1594/1594 [==============================] - 5s 3ms/step - loss: 0.1136 - categorical_accuracy: 0.5695\n",
      "epoch:37  decoder_loss:[0.11357947438955307]\n",
      "1594/1594 [==============================] - 5s 3ms/step - loss: 0.1113 - categorical_accuracy: 0.5779\n",
      "epoch:38  decoder_loss:[0.11134149134159088]\n",
      "1594/1594 [==============================] - 5s 3ms/step - loss: 0.1095 - categorical_accuracy: 0.5858\n",
      "epoch:39  decoder_loss:[0.10946770757436752]\n",
      "1594/1594 [==============================] - 5s 3ms/step - loss: 0.1077 - categorical_accuracy: 0.5905\n",
      "epoch:40  decoder_loss:[0.10765362530946732]\n",
      "1594/1594 [==============================] - 5s 3ms/step - loss: 0.1052 - categorical_accuracy: 0.5988\n",
      "epoch:41  decoder_loss:[0.10524000227451324]\n",
      "1594/1594 [==============================] - 5s 3ms/step - loss: 0.1042 - categorical_accuracy: 0.6027\n",
      "epoch:42  decoder_loss:[0.10423194617033005]\n",
      "1594/1594 [==============================] - 5s 3ms/step - loss: 0.1025 - categorical_accuracy: 0.6084\n",
      "epoch:43  decoder_loss:[0.10248003154993057]\n",
      "1594/1594 [==============================] - 5s 3ms/step - loss: 0.1010 - categorical_accuracy: 0.6119\n",
      "epoch:44  decoder_loss:[0.10097367316484451]\n",
      "1594/1594 [==============================] - 5s 3ms/step - loss: 0.0997 - categorical_accuracy: 0.6180\n",
      "epoch:45  decoder_loss:[0.09967361390590668]\n",
      "1594/1594 [==============================] - 5s 3ms/step - loss: 0.0988 - categorical_accuracy: 0.6224\n",
      "epoch:46  decoder_loss:[0.09876042604446411]\n",
      "1594/1594 [==============================] - 5s 3ms/step - loss: 0.0967 - categorical_accuracy: 0.6295\n",
      "epoch:47  decoder_loss:[0.09672144800424576]\n",
      "1594/1594 [==============================] - 5s 3ms/step - loss: 0.0958 - categorical_accuracy: 0.6362\n",
      "epoch:48  decoder_loss:[0.09576783329248428]\n",
      "1594/1594 [==============================] - 5s 3ms/step - loss: 0.0946 - categorical_accuracy: 0.6382\n",
      "epoch:49  decoder_loss:[0.09458258002996445]\n",
      "1594/1594 [==============================] - 5s 3ms/step - loss: 0.0930 - categorical_accuracy: 0.6453\n",
      "epoch:50  decoder_loss:[0.09296225011348724]\n",
      "1594/1594 [==============================] - 5s 3ms/step - loss: 0.0921 - categorical_accuracy: 0.6489\n",
      "epoch:51  decoder_loss:[0.09206487238407135]\n",
      "1594/1594 [==============================] - 5s 3ms/step - loss: 0.0909 - categorical_accuracy: 0.6552\n",
      "epoch:52  decoder_loss:[0.09093745052814484]\n",
      "1594/1594 [==============================] - 5s 3ms/step - loss: 0.0893 - categorical_accuracy: 0.6598\n",
      "epoch:53  decoder_loss:[0.08931145817041397]\n",
      "1594/1594 [==============================] - 5s 3ms/step - loss: 0.0885 - categorical_accuracy: 0.6633\n",
      "epoch:54  decoder_loss:[0.08846627175807953]\n",
      "1594/1594 [==============================] - 5s 3ms/step - loss: 0.0877 - categorical_accuracy: 0.6669\n",
      "epoch:55  decoder_loss:[0.08772012591362]\n",
      "1594/1594 [==============================] - 5s 3ms/step - loss: 0.0864 - categorical_accuracy: 0.6737\n",
      "epoch:56  decoder_loss:[0.0864105373620987]\n",
      "1594/1594 [==============================] - 5s 3ms/step - loss: 0.0851 - categorical_accuracy: 0.6771\n",
      "epoch:57  decoder_loss:[0.08505688607692719]\n",
      "1594/1594 [==============================] - 4s 3ms/step - loss: 0.0841 - categorical_accuracy: 0.6832\n",
      "epoch:58  decoder_loss:[0.08407964557409286]\n",
      "1594/1594 [==============================] - 4s 3ms/step - loss: 0.0832 - categorical_accuracy: 0.6830\n",
      "epoch:59  decoder_loss:[0.08322793245315552]\n",
      "1594/1594 [==============================] - 4s 3ms/step - loss: 0.0820 - categorical_accuracy: 0.6900\n",
      "epoch:60  decoder_loss:[0.08196569234132767]\n",
      "1594/1594 [==============================] - 4s 3ms/step - loss: 0.0807 - categorical_accuracy: 0.6952\n",
      "epoch:61  decoder_loss:[0.08066429942846298]\n",
      "1594/1594 [==============================] - 4s 3ms/step - loss: 0.0793 - categorical_accuracy: 0.6993\n",
      "epoch:62  decoder_loss:[0.07930181920528412]\n",
      "1594/1594 [==============================] - 4s 3ms/step - loss: 0.0784 - categorical_accuracy: 0.7077\n",
      "epoch:63  decoder_loss:[0.07836992293596268]\n",
      "1594/1594 [==============================] - 4s 3ms/step - loss: 0.0774 - categorical_accuracy: 0.7091\n",
      "epoch:64  decoder_loss:[0.07740280032157898]\n",
      "1594/1594 [==============================] - 4s 3ms/step - loss: 0.0762 - categorical_accuracy: 0.7123\n",
      "epoch:65  decoder_loss:[0.07621406763792038]\n",
      "1594/1594 [==============================] - 4s 3ms/step - loss: 0.0754 - categorical_accuracy: 0.7189\n",
      "epoch:66  decoder_loss:[0.0753651112318039]\n",
      "1594/1594 [==============================] - 4s 3ms/step - loss: 0.0741 - categorical_accuracy: 0.7233\n",
      "epoch:67  decoder_loss:[0.07414592802524567]\n",
      "1594/1594 [==============================] - 5s 3ms/step - loss: 0.0735 - categorical_accuracy: 0.7246\n",
      "epoch:68  decoder_loss:[0.07348933070898056]\n",
      "1594/1594 [==============================] - 4s 3ms/step - loss: 0.0724 - categorical_accuracy: 0.7289\n",
      "epoch:69  decoder_loss:[0.07237137854099274]\n",
      "1594/1594 [==============================] - 5s 3ms/step - loss: 0.0715 - categorical_accuracy: 0.7324\n",
      "epoch:70  decoder_loss:[0.07146339118480682]\n",
      "1594/1594 [==============================] - 5s 3ms/step - loss: 0.0701 - categorical_accuracy: 0.7395\n",
      "epoch:71  decoder_loss:[0.07013262808322906]\n",
      "1594/1594 [==============================] - 4s 3ms/step - loss: 0.0693 - categorical_accuracy: 0.7438\n",
      "epoch:72  decoder_loss:[0.06927205622196198]\n",
      "1594/1594 [==============================] - 5s 3ms/step - loss: 0.0686 - categorical_accuracy: 0.7443\n",
      "epoch:73  decoder_loss:[0.06863489001989365]\n",
      "1594/1594 [==============================] - 4s 3ms/step - loss: 0.0676 - categorical_accuracy: 0.7494\n",
      "epoch:74  decoder_loss:[0.06756502389907837]\n",
      "1594/1594 [==============================] - 4s 3ms/step - loss: 0.0667 - categorical_accuracy: 0.7522\n",
      "epoch:75  decoder_loss:[0.06667499989271164]\n",
      "1594/1594 [==============================] - 4s 3ms/step - loss: 0.0657 - categorical_accuracy: 0.7562\n",
      "epoch:76  decoder_loss:[0.06573683023452759]\n",
      "1594/1594 [==============================] - 4s 3ms/step - loss: 0.0647 - categorical_accuracy: 0.7608\n",
      "epoch:77  decoder_loss:[0.06465230882167816]\n",
      "1594/1594 [==============================] - 4s 3ms/step - loss: 0.0633 - categorical_accuracy: 0.7659\n",
      "epoch:78  decoder_loss:[0.063266821205616]\n",
      "1594/1594 [==============================] - 4s 3ms/step - loss: 0.0626 - categorical_accuracy: 0.7674\n",
      "epoch:79  decoder_loss:[0.06261733174324036]\n",
      "1594/1594 [==============================] - 5s 3ms/step - loss: 0.0617 - categorical_accuracy: 0.7732\n",
      "epoch:80  decoder_loss:[0.06167886406183243]\n",
      "1594/1594 [==============================] - 4s 3ms/step - loss: 0.0611 - categorical_accuracy: 0.7747\n",
      "epoch:81  decoder_loss:[0.06114538013935089]\n",
      "1594/1594 [==============================] - 4s 3ms/step - loss: 0.0597 - categorical_accuracy: 0.7810\n",
      "epoch:82  decoder_loss:[0.05972881242632866]\n",
      "1594/1594 [==============================] - 4s 3ms/step - loss: 0.0588 - categorical_accuracy: 0.7859\n",
      "epoch:83  decoder_loss:[0.05884320288896561]\n",
      "1594/1594 [==============================] - 4s 3ms/step - loss: 0.0578 - categorical_accuracy: 0.7895\n",
      "epoch:84  decoder_loss:[0.0578240230679512]\n",
      "1594/1594 [==============================] - 4s 3ms/step - loss: 0.0567 - categorical_accuracy: 0.7940\n",
      "epoch:85  decoder_loss:[0.05669702962040901]\n",
      "1594/1594 [==============================] - 5s 3ms/step - loss: 0.0564 - categorical_accuracy: 0.7936\n",
      "epoch:86  decoder_loss:[0.05636456236243248]\n",
      "1594/1594 [==============================] - 5s 3ms/step - loss: 0.0552 - categorical_accuracy: 0.7988\n",
      "epoch:87  decoder_loss:[0.055246319621801376]\n",
      "1594/1594 [==============================] - 5s 3ms/step - loss: 0.0547 - categorical_accuracy: 0.8000\n",
      "epoch:88  decoder_loss:[0.05470141023397446]\n",
      "1594/1594 [==============================] - 5s 3ms/step - loss: 0.0534 - categorical_accuracy: 0.8069\n",
      "epoch:89  decoder_loss:[0.05340036004781723]\n",
      "1594/1594 [==============================] - 5s 3ms/step - loss: 0.0530 - categorical_accuracy: 0.8072\n",
      "epoch:90  decoder_loss:[0.05296711251139641]\n",
      "1594/1594 [==============================] - 5s 3ms/step - loss: 0.0521 - categorical_accuracy: 0.8112\n",
      "epoch:91  decoder_loss:[0.05209135636687279]\n",
      "1594/1594 [==============================] - 5s 3ms/step - loss: 0.0514 - categorical_accuracy: 0.8142\n",
      "epoch:92  decoder_loss:[0.051351629197597504]\n",
      "1594/1594 [==============================] - 5s 3ms/step - loss: 0.0502 - categorical_accuracy: 0.8183\n",
      "epoch:93  decoder_loss:[0.05019765719771385]\n",
      "1594/1594 [==============================] - 5s 3ms/step - loss: 0.0496 - categorical_accuracy: 0.8216\n",
      "epoch:94  decoder_loss:[0.04959432780742645]\n",
      "1594/1594 [==============================] - 5s 3ms/step - loss: 0.0488 - categorical_accuracy: 0.8249\n",
      "epoch:95  decoder_loss:[0.048751551657915115]\n",
      "1594/1594 [==============================] - 5s 3ms/step - loss: 0.0483 - categorical_accuracy: 0.8250\n",
      "epoch:96  decoder_loss:[0.04832899942994118]\n",
      "1594/1594 [==============================] - 5s 3ms/step - loss: 0.0474 - categorical_accuracy: 0.8293\n",
      "epoch:97  decoder_loss:[0.047395579516887665]\n",
      "1594/1594 [==============================] - 5s 3ms/step - loss: 0.0464 - categorical_accuracy: 0.8345\n",
      "epoch:98  decoder_loss:[0.04639311879873276]\n",
      "1594/1594 [==============================] - 5s 3ms/step - loss: 0.0459 - categorical_accuracy: 0.8370\n",
      "epoch:99  decoder_loss:[0.04594641178846359]\n"
     ]
    }
   ],
   "source": [
    "EPOCH = 100\n",
    "DATA_LENGTH = len(x_train)\n",
    "\n",
    "# x_train_adv[0]是沒有攻擊的圖片\n",
    "x_train_adv = [x_train.copy() for _ in range(BIT_COUNT+1)]\n",
    "\n",
    "losses = {\"decoder\": []}\n",
    "\n",
    "#開始訓練\n",
    "for epoch in range(EPOCH):\n",
    "\n",
    "    ##第一步 調整圖片 讓decoder能正確讀取出user_code\n",
    "    for i in range(1, BIT_COUNT+1):\n",
    "        x_train_adv[i] = pgd_attack_to_target(x_train_adv[i], [user_code[i]] * DATA_LENGTH,\n",
    "                                              tf.keras.losses.CategoricalCrossentropy(), decoder, epsilon,\n",
    "                                              alpha, iterations)\n",
    "\n",
    "    ##第二步 data augmentation(旋轉，縮放....)\n",
    "  #  x_train_adv_att = [data_augmentation(x_train_adv[i]) for i in range(BIT_COUNT+1)]\n",
    "\n",
    "    #做低通濾波\n",
    "    x_train_adv_low_pass = [batch_jpeg_compression(data_augmentation(x_train_adv[i]).numpy(),JPEG_QUALITY) for i in range(BIT_COUNT+1)]\n",
    "\n",
    "\n",
    "    #第四步 訓練Decoder\n",
    "    decoder_x = np.concatenate((np.concatenate([batch_jpeg_compression(x_train_adv[i],JPEG_QUALITY) for i in range(BIT_COUNT+1)]),\n",
    "                               # np.concatenate([x_train_adv_att[i] for i in range(BIT_COUNT+1)]),\n",
    "                                np.concatenate([x_train_adv_low_pass[i] for i in range(BIT_COUNT+1)])))\n",
    "    decoder_y = np.concatenate((np.concatenate([[user_code[i]] * DATA_LENGTH for i in range(BIT_COUNT+1)]),\n",
    "                              #  np.concatenate([[user_code[i]] * DATA_LENGTH for i in range(BIT_COUNT+1)]),\n",
    "                                np.concatenate([[user_code[i]] * DATA_LENGTH for i in range(BIT_COUNT+1)])))\n",
    "\n",
    "    decoder_loss = decoder.fit(decoder_x, decoder_y, epochs=1)\n",
    "\n",
    "    del decoder_x\n",
    "    del decoder_y\n",
    "   # del x_train_adv_att\n",
    "    del x_train_adv_low_pass\n",
    "    gc.collect()\n",
    "\n",
    "    #紀錄loss\n",
    "    # losses[\"discriminator\"].append(discriminator_loss.history[\"loss\"])\n",
    "    losses[\"decoder\"].append(decoder_loss.history[\"loss\"])\n",
    "    print(\"epoch:{}  decoder_loss:{}\".format(epoch, decoder_loss.history[\"loss\"]))\n",
    "\n"
   ],
   "metadata": {
    "collapsed": false,
    "pycharm": {
     "name": "#%%\n"
    }
   }
  },
  {
   "cell_type": "code",
   "execution_count": 18,
   "outputs": [
    {
     "data": {
      "text/plain": "<Figure size 720x576 with 1 Axes>",
      "image/png": "[encoded data removed]"
     },
     "metadata": {
      "needs_background": "light"
     },
     "output_type": "display_data"
    }
   ],
   "source": [
    "plot_loss(losses)"
   ],
   "metadata": {
    "collapsed": false,
    "pycharm": {
     "name": "#%%\n"
    }
   }
  },
  {
   "cell_type": "code",
   "execution_count": 19,
   "outputs": [],
   "source": [
    "decoder.save('models/jpeg_compression_cifar_adversarial_{}.h5'.format(JPEG_QUALITY))"
   ],
   "metadata": {
    "collapsed": false,
    "pycharm": {
     "name": "#%%\n"
    }
   }
  },
  {
   "cell_type": "markdown",
   "source": [
    "# TEST"
   ],
   "metadata": {
    "collapsed": false,
    "pycharm": {
     "name": "#%% md\n"
    }
   }
  },
  {
   "cell_type": "code",
   "execution_count": 20,
   "outputs": [
    {
     "data": {
      "text/plain": "2647"
     },
     "execution_count": 20,
     "metadata": {},
     "output_type": "execute_result"
    }
   ],
   "source": [
    "\n",
    "del x_train_adv\n",
    "del x_train\n",
    "gc.collect()"
   ],
   "metadata": {
    "collapsed": false,
    "pycharm": {
     "name": "#%%\n"
    }
   }
  },
  {
   "cell_type": "code",
   "execution_count": 21,
   "outputs": [
    {
     "name": "stdout",
     "output_type": "stream",
     "text": [
      "epoch: 1\n",
      "epoch: 2\n",
      "epoch: 3\n",
      "epoch: 4\n",
      "epoch: 5\n",
      "epoch: 6\n",
      "epoch: 7\n",
      "epoch: 8\n",
      "epoch: 9\n",
      "epoch: 10\n",
      "epoch: 11\n",
      "epoch: 12\n",
      "epoch: 13\n",
      "epoch: 14\n",
      "epoch: 15\n",
      "epoch: 16\n",
      "epoch: 17\n",
      "epoch: 18\n",
      "epoch: 19\n",
      "epoch: 20\n"
     ]
    }
   ],
   "source": [
    "x_test_adv = [x_test.copy() for i in range(BIT_COUNT+1)]\n",
    "for epoch in range(20):\n",
    "    print(\"epoch:\",epoch+1)\n",
    "    for i in range(1, BIT_COUNT+1):\n",
    "\n",
    "        x_test_adv[i] = pgd_attack_to_target(x_test_adv[i], [user_code[i]] * len(x_test),\n",
    "                                             tf.keras.losses.CategoricalCrossentropy(), decoder, epsilon, alpha,\n",
    "                                             iterations)"
   ],
   "metadata": {
    "collapsed": false,
    "pycharm": {
     "name": "#%%\n"
    }
   }
  },
  {
   "cell_type": "code",
   "execution_count": 22,
   "outputs": [
    {
     "name": "stdout",
     "output_type": "stream",
     "text": [
      "47/47 [==============================] - 0s 2ms/step - loss: 0.1348 - categorical_accuracy: 0.6280\n",
      "47/47 [==============================] - 0s 1ms/step - loss: 9.7528e-04 - categorical_accuracy: 0.9987\n",
      "47/47 [==============================] - 0s 2ms/step - loss: 5.0222e-04 - categorical_accuracy: 0.9980\n",
      "47/47 [==============================] - 0s 2ms/step - loss: 0.0015 - categorical_accuracy: 0.9967\n",
      "47/47 [==============================] - 0s 1ms/step - loss: 2.6331e-04 - categorical_accuracy: 1.0000\n",
      "47/47 [==============================] - 0s 2ms/step - loss: 0.0014 - categorical_accuracy: 0.9967\n",
      "47/47 [==============================] - 0s 1ms/step - loss: 0.0012 - categorical_accuracy: 0.9967\n",
      "47/47 [==============================] - 0s 1ms/step - loss: 8.8656e-05 - categorical_accuracy: 1.0000\n",
      "47/47 [==============================] - 0s 2ms/step - loss: 0.0030 - categorical_accuracy: 0.9907\n",
      "47/47 [==============================] - 0s 2ms/step - loss: 5.0327e-04 - categorical_accuracy: 0.9987\n",
      "47/47 [==============================] - 0s 2ms/step - loss: 7.9655e-04 - categorical_accuracy: 0.9980\n",
      "47/47 [==============================] - 0s 2ms/step - loss: 0.0022 - categorical_accuracy: 0.9933\n",
      "47/47 [==============================] - 0s 2ms/step - loss: 5.5103e-04 - categorical_accuracy: 0.9973\n",
      "47/47 [==============================] - 0s 1ms/step - loss: 7.2788e-04 - categorical_accuracy: 0.9980\n",
      "47/47 [==============================] - 0s 2ms/step - loss: 2.3371e-04 - categorical_accuracy: 1.0000\n",
      "47/47 [==============================] - 0s 1ms/step - loss: 0.0035 - categorical_accuracy: 0.9913\n",
      "47/47 [==============================] - 0s 1ms/step - loss: 0.0016 - categorical_accuracy: 0.9967\n",
      "accuracy: 0.9752156909774331 ± 0.0868451320276667\n"
     ]
    }
   ],
   "source": [
    "test_acc_list = []\n",
    "\n",
    "for i in range(BIT_COUNT+1):\n",
    "    result = decoder.evaluate(x_test_adv[i], np.array([user_code[i]] * len(x_test)))\n",
    "    test_acc_list.append(result[1])\n",
    "print(\"accuracy:\",np.mean(test_acc_list),\"±\",np.std(test_acc_list))"
   ],
   "metadata": {
    "collapsed": false,
    "pycharm": {
     "name": "#%%\n"
    }
   }
  },
  {
   "cell_type": "code",
   "execution_count": 23,
   "outputs": [],
   "source": [
    "x_test_adv_att = [data_augmentation(x_test_adv[i]) for i in range(BIT_COUNT+1)]"
   ],
   "metadata": {
    "collapsed": false,
    "pycharm": {
     "name": "#%%\n"
    }
   }
  },
  {
   "cell_type": "code",
   "execution_count": 24,
   "outputs": [
    {
     "name": "stdout",
     "output_type": "stream",
     "text": [
      "47/47 [==============================] - 0s 2ms/step - loss: 0.1840 - categorical_accuracy: 0.3480\n",
      "47/47 [==============================] - 0s 2ms/step - loss: 0.1517 - categorical_accuracy: 0.4433\n",
      "47/47 [==============================] - 0s 2ms/step - loss: 0.1278 - categorical_accuracy: 0.5653\n",
      "47/47 [==============================] - 0s 2ms/step - loss: 0.1385 - categorical_accuracy: 0.5127\n",
      "47/47 [==============================] - 0s 2ms/step - loss: 0.1206 - categorical_accuracy: 0.5733\n",
      "47/47 [==============================] - 0s 2ms/step - loss: 0.1269 - categorical_accuracy: 0.5513\n",
      "47/47 [==============================] - 0s 2ms/step - loss: 0.1448 - categorical_accuracy: 0.4920\n",
      "47/47 [==============================] - 0s 2ms/step - loss: 0.1028 - categorical_accuracy: 0.6367\n",
      "47/47 [==============================] - 0s 2ms/step - loss: 0.1676 - categorical_accuracy: 0.3953\n",
      "47/47 [==============================] - 0s 2ms/step - loss: 0.1221 - categorical_accuracy: 0.5527\n",
      "47/47 [==============================] - 0s 2ms/step - loss: 0.1280 - categorical_accuracy: 0.5560\n",
      "47/47 [==============================] - 0s 2ms/step - loss: 0.1391 - categorical_accuracy: 0.5413\n",
      "47/47 [==============================] - 0s 2ms/step - loss: 0.1072 - categorical_accuracy: 0.6280\n",
      "47/47 [==============================] - 0s 2ms/step - loss: 0.1332 - categorical_accuracy: 0.5360\n",
      "47/47 [==============================] - 0s 2ms/step - loss: 0.0998 - categorical_accuracy: 0.6567\n",
      "47/47 [==============================] - 0s 2ms/step - loss: 0.1420 - categorical_accuracy: 0.5040\n",
      "47/47 [==============================] - 0s 2ms/step - loss: 0.1118 - categorical_accuracy: 0.6273\n",
      "accuracy: 0.536470585009631 ± 0.08113694757748201\n"
     ]
    }
   ],
   "source": [
    "test_att_acc_list = []\n",
    "for i in range(BIT_COUNT+1):\n",
    "    result = decoder.evaluate(x_test_adv_att[i], np.array([user_code[i]] * len(x_test)))\n",
    "    test_att_acc_list.append(result[1])\n",
    "print(\"accuracy:\",np.mean(test_att_acc_list),\"±\",np.std(test_att_acc_list))"
   ],
   "metadata": {
    "collapsed": false,
    "pycharm": {
     "name": "#%%\n"
    }
   }
  },
  {
   "cell_type": "code",
   "execution_count": 25,
   "outputs": [
    {
     "name": "stdout",
     "output_type": "stream",
     "text": [
      "psnr: 40.30947285493457 ± 0.1295194699522018\n"
     ]
    }
   ],
   "source": [
    "from skimage.metrics import peak_signal_noise_ratio\n",
    "test_psnr_list = []\n",
    "for i in range(1,BIT_COUNT+1):\n",
    "    test_psnr_list.append(peak_signal_noise_ratio(x_test, x_test_adv[i]))\n",
    "print(\"psnr:\",np.mean(test_psnr_list),\"±\",np.std(test_psnr_list))"
   ],
   "metadata": {
    "collapsed": false,
    "pycharm": {
     "name": "#%%\n"
    }
   }
  },
  {
   "cell_type": "code",
   "execution_count": 25,
   "outputs": [],
   "source": [],
   "metadata": {
    "collapsed": false,
    "pycharm": {
     "name": "#%%\n"
    }
   }
  }
 ],
 "metadata": {
  "kernelspec": {
   "display_name": "Python 3",
   "language": "python",
   "name": "python3"
  },
  "language_info": {
   "codemirror_mode": {
    "name": "ipython",
    "version": 2
   },
   "file_extension": ".py",
   "mimetype": "text/x-python",
   "name": "python",
   "nbconvert_exporter": "python",
   "pygments_lexer": "ipython2",
   "version": "2.7.6"
  }
 },
 "nbformat": 4,
 "nbformat_minor": 0
}