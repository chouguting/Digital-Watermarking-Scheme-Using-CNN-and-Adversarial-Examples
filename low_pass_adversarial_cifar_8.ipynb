{
 "cells": [
  {
   "cell_type": "code",
   "execution_count": 1,
   "metadata": {
    "collapsed": true,
    "pycharm": {
     "name": "#%%\n"
    }
   },
   "outputs": [
    {
     "name": "stdout",
     "output_type": "stream",
     "text": [
      "Tue Aug  2 18:22:35 2022       \n",
      "+-----------------------------------------------------------------------------+\n",
      "| NVIDIA-SMI 516.59       Driver Version: 516.59       CUDA Version: 11.7     |\n",
      "|-------------------------------+----------------------+----------------------+\n",
      "| GPU  Name            TCC/WDDM | Bus-Id        Disp.A | Volatile Uncorr. ECC |\n",
      "| Fan  Temp  Perf  Pwr:Usage/Cap|         Memory-Usage | GPU-Util  Compute M. |\n",
      "|                               |                      |               MIG M. |\n",
      "|===============================+======================+======================|\n",
      "|   0  NVIDIA GeForce ... WDDM  | 00000000:01:00.0  On |                  N/A |\n",
      "| 27%   38C    P5     6W / 120W |   1022MiB /  6144MiB |     33%      Default |\n",
      "|                               |                      |                  N/A |\n",
      "+-------------------------------+----------------------+----------------------+\n",
      "                                                                               \n",
      "+-----------------------------------------------------------------------------+\n",
      "| Processes:                                                                  |\n",
      "|  GPU   GI   CI        PID   Type   Process name                  GPU Memory |\n",
      "|        ID   ID                                                   Usage      |\n",
      "|=============================================================================|\n",
      "|    0   N/A  N/A      2772    C+G   ...bbwe\\Microsoft.Photos.exe    N/A      |\n",
      "|    0   N/A  N/A      3440    C+G   ...n64\\EpicGamesLauncher.exe    N/A      |\n",
      "|    0   N/A  N/A      3744    C+G   ...dows\\System32\\dllhost.exe    N/A      |\n",
      "|    0   N/A  N/A      9660    C+G   ...artMenuExperienceHost.exe    N/A      |\n",
      "|    0   N/A  N/A     14840    C+G   ...ekyb3d8bbwe\\YourPhone.exe    N/A      |\n",
      "|    0   N/A  N/A     16512    C+G   ...wekyb3d8bbwe\\Video.UI.exe    N/A      |\n",
      "|    0   N/A  N/A     17352    C+G   C:\\Windows\\explorer.exe         N/A      |\n",
      "|    0   N/A  N/A     18532    C+G   ...werToys.PowerLauncher.exe    N/A      |\n",
      "|    0   N/A  N/A     18604    C+G   ...ort Assistant\\DSATray.exe    N/A      |\n",
      "|    0   N/A  N/A     20560    C+G   ...264.49\\msedgewebview2.exe    N/A      |\n",
      "|    0   N/A  N/A     23532    C+G   ... iCUE 4 Software\\iCUE.exe    N/A      |\n",
      "|    0   N/A  N/A     25032    C+G   ...arp.BrowserSubprocess.exe    N/A      |\n",
      "|    0   N/A  N/A     25244    C+G   ...e\\root\\Office16\\EXCEL.EXE    N/A      |\n",
      "|    0   N/A  N/A     26048    C+G   ...\\app-1.0.9005\\Discord.exe    N/A      |\n",
      "|    0   N/A  N/A     27324    C+G   ... Host\\Razer Synapse 3.exe    N/A      |\n",
      "|    0   N/A  N/A     29420    C+G   ...8ptj331gd3tyt\\LINEAPP.exe    N/A      |\n",
      "|    0   N/A  N/A     32692    C+G   ...b3d8bbwe\\WinStore.App.exe    N/A      |\n",
      "|    0   N/A  N/A     37616    C+G   ...264.77\\msedgewebview2.exe    N/A      |\n",
      "|    0   N/A  N/A     38844    C+G   ...qxf38zg5c\\Skype\\Skype.exe    N/A      |\n",
      "|    0   N/A  N/A     50680    C+G   ...8wekyb3d8bbwe\\GameBar.exe    N/A      |\n",
      "|    0   N/A  N/A     54208    C+G   ...s\\Win64\\EpicWebHelper.exe    N/A      |\n",
      "|    0   N/A  N/A     56288    C+G   ...2txyewy\\TextInputHost.exe    N/A      |\n",
      "|    0   N/A  N/A     56324    C+G   ...icrosoft.Media.Player.exe    N/A      |\n",
      "|    0   N/A  N/A     57548    C+G   ...bin\\jetbrains-toolbox.exe    N/A      |\n",
      "|    0   N/A  N/A     60748    C+G   ...n1h2txyewy\\SearchHost.exe    N/A      |\n",
      "|    0   N/A  N/A     63144    C+G   ...IA GeForce Experience.exe    N/A      |\n",
      "|    0   N/A  N/A     63524    C+G   ...txyewy\\MiniSearchHost.exe    N/A      |\n",
      "|    0   N/A  N/A     63620    C+G   ...in7x64\\steamwebhelper.exe    N/A      |\n",
      "|    0   N/A  N/A     64704    C+G   ...ekyb3d8bbwe\\onenoteim.exe    N/A      |\n",
      "|    0   N/A  N/A     66140    C+G   ...lPanel\\SystemSettings.exe    N/A      |\n",
      "|    0   N/A  N/A     66628    C+G   ...ekyb3d8bbwe\\XboxPcApp.exe    N/A      |\n",
      "|    0   N/A  N/A     68648    C+G   ...ekyb3d8bbwe\\HxOutlook.exe    N/A      |\n",
      "|    0   N/A  N/A     71744    C+G   ...y\\ShellExperienceHost.exe    N/A      |\n",
      "|    0   N/A  N/A     71836    C+G   ...3d8bbwe\\CalculatorApp.exe    N/A      |\n",
      "|    0   N/A  N/A     74648    C+G   ...ll\\1.0.0.475\\LineCall.exe    N/A      |\n",
      "|    0   N/A  N/A     77816    C+G   ...les (x86)\\Steam\\steam.exe    N/A      |\n",
      "|    0   N/A  N/A     82108    C+G   ...ge\\Application\\msedge.exe    N/A      |\n",
      "|    0   N/A  N/A     84824    C+G   ...perience\\NVIDIA Share.exe    N/A      |\n",
      "|    0   N/A  N/A     85688    C+G   ...icrosoft VS Code\\Code.exe    N/A      |\n",
      "+-----------------------------------------------------------------------------+\n"
     ]
    }
   ],
   "source": [
    "import gc\n",
    "!nvidia-smi"
   ]
  },
  {
   "cell_type": "code",
   "execution_count": 2,
   "outputs": [],
   "source": [
    "import tensorflow as tf\n",
    "from tensorflow.keras.datasets import mnist, fashion_mnist,cifar10\n",
    "from tensorflow.keras.models import Model\n",
    "from tensorflow.keras.layers import Input, Conv2D, Dense, MaxPooling2D, Flatten\n",
    "from tensorflow.keras.optimizers import Adam\n",
    "import matplotlib.pyplot as plt\n",
    "import numpy as np"
   ],
   "metadata": {
    "collapsed": false,
    "pycharm": {
     "name": "#%%\n"
    }
   }
  },
  {
   "cell_type": "code",
   "execution_count": 3,
   "outputs": [],
   "source": [
    "BIT_COUNT = 16\n",
    "FREQUENCY = 8"
   ],
   "metadata": {
    "collapsed": false,
    "pycharm": {
     "name": "#%%\n"
    }
   }
  },
  {
   "cell_type": "code",
   "execution_count": 4,
   "outputs": [],
   "source": [
    "def rgb2gray(rgb):\n",
    "    if len(rgb.shape)==3:\n",
    "        r, g, b = rgb[:,:,0], rgb[:,:,1], rgb[:,:,2]\n",
    "    else:\n",
    "        r, g, b = rgb[:,:,:,0], rgb[:,:,:,1], rgb[:,:,:,2]\n",
    "\n",
    "\n",
    "    gray = 0.2989 * r + 0.5870 * g + 0.1140 * b\n",
    "\n",
    "    return gray"
   ],
   "metadata": {
    "collapsed": false,
    "pycharm": {
     "name": "#%%\n"
    }
   }
  },
  {
   "cell_type": "markdown",
   "source": [
    "# 引入CIFAR10\n"
   ],
   "metadata": {
    "collapsed": false,
    "pycharm": {
     "name": "#%% md\n"
    }
   }
  },
  {
   "cell_type": "code",
   "execution_count": 5,
   "outputs": [],
   "source": [
    "(x_train, y_train), (x_test, y_test) =  cifar10.load_data()\n",
    "x_train = x_train.astype('float32') / 255.0\n",
    "x_test = x_test.astype('float32') / 255.0\n",
    "\n",
    "x_train = rgb2gray(x_train)\n",
    "x_train = np.expand_dims(x_train, axis=-1)\n",
    "x_test = rgb2gray(x_test)\n",
    "x_test = np.expand_dims(x_test, axis=-1)\n",
    "\n",
    "x_train = x_train[:1500]\n",
    "\n",
    "y_train = y_train[:1500]\n",
    "x_test = x_test[:1500]\n",
    "\n",
    "x_train = tf.image.resize(x_train, [28,28]).numpy()\n",
    "x_test = tf.image.resize(x_test, [28,28]).numpy()\n",
    "\n",
    "num_classes = 10\n",
    "image_shape = (28, 28, 1)\n",
    "x_train = x_train.reshape((-1,) + image_shape)\n",
    "x_test = x_test.reshape((-1,) + image_shape)\n",
    "\n",
    "# x_train =  np.concatenate((x_train[:,:14, :14, :] , x_train[:,:14, 14:, :] , x_train[:,14:, :14, :] , x_train[:,14:, 14:, :]))\n",
    "# x_test =  np.concatenate((x_test[:,:14, :14, :] , x_test[:,:14, 14:, :] , x_test[:,14:, :14, :] , x_test[:,14:, 14:, :]))\n",
    "\n",
    "y_train = tf.keras.utils.to_categorical(y_train, num_classes)\n",
    "y_test = tf.keras.utils.to_categorical(y_test, num_classes)"
   ],
   "metadata": {
    "collapsed": false,
    "pycharm": {
     "name": "#%%\n"
    }
   }
  },
  {
   "cell_type": "markdown",
   "source": [
    "# decoder網路"
   ],
   "metadata": {
    "collapsed": false,
    "pycharm": {
     "name": "#%% md\n"
    }
   }
  },
  {
   "cell_type": "code",
   "execution_count": 6,
   "outputs": [],
   "source": [
    "########\n",
    "from tensorflow.keras.layers import RandomFlip, RandomRotation, RandomZoom\n",
    "\n",
    "data_augmentation = tf.keras.Sequential([\n",
    "    RandomRotation(0.02, fill_mode = 'constant'),\n",
    "    RandomZoom(.2, .2)\n",
    "])\n",
    "###########"
   ],
   "metadata": {
    "collapsed": false,
    "pycharm": {
     "name": "#%%\n"
    }
   }
  },
  {
   "cell_type": "code",
   "execution_count": 7,
   "outputs": [],
   "source": [
    "adam = Adam(learning_rate=0.0002, beta_1=0.5)"
   ],
   "metadata": {
    "collapsed": false,
    "pycharm": {
     "name": "#%%\n"
    }
   }
  },
  {
   "cell_type": "code",
   "execution_count": 8,
   "outputs": [
    {
     "name": "stdout",
     "output_type": "stream",
     "text": [
      "Model: \"model\"\n",
      "_________________________________________________________________\n",
      " Layer (type)                Output Shape              Param #   \n",
      "=================================================================\n",
      " input_1 (InputLayer)        [(None, 28, 28, 1)]       0         \n",
      "                                                                 \n",
      " conv2d (Conv2D)             (None, 28, 28, 64)        640       \n",
      "                                                                 \n",
      " max_pooling2d (MaxPooling2D  (None, 14, 14, 64)       0         \n",
      " )                                                               \n",
      "                                                                 \n",
      " conv2d_1 (Conv2D)           (None, 14, 14, 32)        18464     \n",
      "                                                                 \n",
      " max_pooling2d_1 (MaxPooling  (None, 7, 7, 32)         0         \n",
      " 2D)                                                             \n",
      "                                                                 \n",
      " conv2d_2 (Conv2D)           (None, 7, 7, 16)          4624      \n",
      "                                                                 \n",
      " max_pooling2d_2 (MaxPooling  (None, 3, 3, 16)         0         \n",
      " 2D)                                                             \n",
      "                                                                 \n",
      " flatten (Flatten)           (None, 144)               0         \n",
      "                                                                 \n",
      " dense (Dense)               (None, 512)               74240     \n",
      "                                                                 \n",
      " dense_1 (Dense)             (None, 256)               131328    \n",
      "                                                                 \n",
      " dense_2 (Dense)             (None, 128)               32896     \n",
      "                                                                 \n",
      " dense_3 (Dense)             (None, 17)                2193      \n",
      "                                                                 \n",
      "=================================================================\n",
      "Total params: 264,385\n",
      "Trainable params: 264,385\n",
      "Non-trainable params: 0\n",
      "_________________________________________________________________\n"
     ]
    },
    {
     "data": {
      "image/png": "[encoded data removed]",
      "text/plain": "<IPython.core.display.Image object>"
     },
     "execution_count": 8,
     "metadata": {},
     "output_type": "execute_result"
    }
   ],
   "source": [
    "inputs = Input((28, 28, 1))\n",
    "x = Conv2D(64, (3, 3), padding=\"same\", activation='relu')(inputs)\n",
    "x = MaxPooling2D((2, 2))(x)\n",
    "x = Conv2D(32, (3, 3), padding=\"same\", activation='relu')(x)\n",
    "x = MaxPooling2D((2, 2))(x)\n",
    "x = Conv2D(16, (3, 3), padding=\"same\", activation='relu')(x)\n",
    "x = MaxPooling2D((2, 2))(x)\n",
    "x = Flatten()(x)\n",
    "x = Dense(512, activation='relu')(x)\n",
    "x = Dense(256, activation='relu')(x)\n",
    "x = Dense(128, activation='relu')(x)\n",
    "x = Dense(BIT_COUNT+1, activation=\"softmax\")(x)\n",
    "decoder = Model(inputs=inputs, outputs=x)\n",
    "decoder.compile(optimizer=adam, loss='binary_crossentropy', metrics=['categorical_accuracy'])\n",
    "decoder.summary()\n",
    "from keras.utils.vis_utils import plot_model\n",
    "plot_model(decoder, to_file='model.png', show_shapes=True,show_layer_names=False)"
   ],
   "metadata": {
    "collapsed": false,
    "pycharm": {
     "name": "#%%\n"
    }
   }
  },
  {
   "cell_type": "code",
   "execution_count": 9,
   "outputs": [],
   "source": [
    "iterations = 7  #攻擊次數\n",
    "alpha = 0.0001  #攻擊程度\n",
    "epsilon = 8.0 / 255  #攻擊範圍\n",
    "\n",
    "\n",
    "#loss_object = tf.keras.losses.BinaryCrossentropy()  #我們選擇的loss function\n",
    "\n",
    "\n",
    "#利用pgd的idea修改圖片 讓它生出我想要的label\n",
    "def pgd_attack_to_target(input_image, target_label, loss_object, model, epsilon, alpha, iterations):\n",
    "    x_adv = input_image  # 複製一個圖片 (不要動到原圖片)\n",
    "    for i in range(iterations):  # 做很多次\n",
    "        x_adv = tf.convert_to_tensor(x_adv)  # 將圖片轉成tensor\n",
    "        with tf.GradientTape() as tape:  #開始計算梯度\n",
    "            tape.watch(x_adv)  # 要計算的圖片是x_adv\n",
    "            prediction = model(x_adv)  #先做判斷(取得目前的結果)\n",
    "            loss = loss_object(target_label, prediction)  # 計算loss(距離target有多遠)\n",
    "        grad = tape.gradient(loss, x_adv)  # 計算梯度 (loss對x_adv的梯度，d_loss/d_x_adv)\n",
    "        x_adv_new = x_adv - alpha * tf.sign(grad)  # 更新圖片(做梯度下降會讓預測結果接近我想要的label)\n",
    "        x_adv = tf.clip_by_value(x_adv_new, x_adv - epsilon, x_adv + epsilon)  # 限制圖片的範圍\n",
    "        x_adv = tf.clip_by_value(x_adv, 0, 1)  # 限制圖片的範圍(圖片要在0~1之間)\n",
    "        x_adv = x_adv.numpy()  # 將圖片轉成numpy\n",
    "    return x_adv  # 回傳攻擊後的圖片"
   ],
   "metadata": {
    "collapsed": false,
    "pycharm": {
     "name": "#%%\n"
    }
   }
  },
  {
   "cell_type": "code",
   "execution_count": 10,
   "outputs": [],
   "source": [
    "def plot_loss(losses):\n",
    "    \"\"\"\n",
    "    @losses.keys():\n",
    "        0: loss\n",
    "        1: accuracy\n",
    "    \"\"\"\n",
    "    dec_loss = losses[\"decoder\"]\n",
    "\n",
    "    plt.figure(figsize=(10, 8))\n",
    "    plt.plot(dec_loss, label=\"decoder loss\")\n",
    "    plt.xlabel('Epochs')\n",
    "    plt.ylabel('Loss')\n",
    "    plt.legend()\n",
    "    plt.show()"
   ],
   "metadata": {
    "collapsed": false,
    "pycharm": {
     "name": "#%%\n"
    }
   }
  },
  {
   "cell_type": "code",
   "execution_count": 11,
   "outputs": [
    {
     "name": "stdout",
     "output_type": "stream",
     "text": [
      "[[1. 0. 0. 0. 0. 0. 0. 0. 0. 0. 0. 0. 0. 0. 0. 0. 0.]\n",
      " [0. 1. 0. 0. 0. 0. 0. 0. 0. 0. 0. 0. 0. 0. 0. 0. 0.]\n",
      " [0. 0. 1. 0. 0. 0. 0. 0. 0. 0. 0. 0. 0. 0. 0. 0. 0.]\n",
      " [0. 0. 0. 1. 0. 0. 0. 0. 0. 0. 0. 0. 0. 0. 0. 0. 0.]\n",
      " [0. 0. 0. 0. 1. 0. 0. 0. 0. 0. 0. 0. 0. 0. 0. 0. 0.]\n",
      " [0. 0. 0. 0. 0. 1. 0. 0. 0. 0. 0. 0. 0. 0. 0. 0. 0.]\n",
      " [0. 0. 0. 0. 0. 0. 1. 0. 0. 0. 0. 0. 0. 0. 0. 0. 0.]\n",
      " [0. 0. 0. 0. 0. 0. 0. 1. 0. 0. 0. 0. 0. 0. 0. 0. 0.]\n",
      " [0. 0. 0. 0. 0. 0. 0. 0. 1. 0. 0. 0. 0. 0. 0. 0. 0.]\n",
      " [0. 0. 0. 0. 0. 0. 0. 0. 0. 1. 0. 0. 0. 0. 0. 0. 0.]\n",
      " [0. 0. 0. 0. 0. 0. 0. 0. 0. 0. 1. 0. 0. 0. 0. 0. 0.]\n",
      " [0. 0. 0. 0. 0. 0. 0. 0. 0. 0. 0. 1. 0. 0. 0. 0. 0.]\n",
      " [0. 0. 0. 0. 0. 0. 0. 0. 0. 0. 0. 0. 1. 0. 0. 0. 0.]\n",
      " [0. 0. 0. 0. 0. 0. 0. 0. 0. 0. 0. 0. 0. 1. 0. 0. 0.]\n",
      " [0. 0. 0. 0. 0. 0. 0. 0. 0. 0. 0. 0. 0. 0. 1. 0. 0.]\n",
      " [0. 0. 0. 0. 0. 0. 0. 0. 0. 0. 0. 0. 0. 0. 0. 1. 0.]\n",
      " [0. 0. 0. 0. 0. 0. 0. 0. 0. 0. 0. 0. 0. 0. 0. 0. 1.]]\n"
     ]
    }
   ],
   "source": [
    "list = np.array([ i for i in range(BIT_COUNT+1)])\n",
    "user_code = np.eye(BIT_COUNT+1)[list]\n",
    "print(user_code)  #生成onehot encoding"
   ],
   "metadata": {
    "collapsed": false,
    "pycharm": {
     "name": "#%%\n"
    }
   }
  },
  {
   "cell_type": "markdown",
   "source": [
    "# low pass filter"
   ],
   "metadata": {
    "collapsed": false,
    "pycharm": {
     "name": "#%% md\n"
    }
   }
  },
  {
   "cell_type": "code",
   "execution_count": 12,
   "outputs": [],
   "source": [
    "def low_pass(fshift_origin, freq):\n",
    "    fshift = fshift_origin.copy()\n",
    "    cy, cx = fshift.shape[0]//2,fshift.shape[1]//2  #常跟寬的一半是中心點\n",
    "    h = np.arange(fshift.shape[0]).reshape((-1,1)) - cy\n",
    "    w = np.arange(fshift.shape[1]).reshape((1,-1)) - cx\n",
    "    freq = freq**2\n",
    "    fshift = np.where(h**2+w**2<=freq,fshift,0)\n",
    "    return fshift\n",
    "    #上面這四行等於下面這幾行註解\n",
    "#    for y in range(fshift.shape[0]):\n",
    "#        dy = (y - cy)**2\n",
    "#        for x in range(fshift.shape[1]):\n",
    "#            dx = (x-cx)**2\n",
    "#            if dx+dy > freq:     ＃大於這個範圍(圓)的設為零（為了方便省略開根號）\n",
    "#                fshift[y, x] = 0\n",
    "#     ifft_f = np.fft.ifft2(np.fft.fftshift(fshift))\n",
    "#     return np.abs(ifft_f)  #回傳挖洞後的頻率圖\n",
    "\n",
    "def get_low_pass_image(img_original, freq):\n",
    "    f_img = np.fft.fft2(img_original) # cv2.dft(np.float32(img),flags = cv2.DFT_COMPLEX_OUTPUT) # produce a two-channel image\n",
    "    fshift_img = np.fft.fftshift(f_img)\n",
    "    ifft_f = np.fft.ifft2(np.fft.fftshift(low_pass(fshift_img,freq)))\n",
    "    return np.abs(ifft_f)\n",
    "\n",
    "def batch_low_pass_image(img_batch, freq):\n",
    "    result_img = np.zeros_like(img_batch)\n",
    "    for i in range(img_batch.shape[0]):\n",
    "        f_img = np.fft.fft2(img_batch[i,:,:,0]) # cv2.dft(np.float32(img),flags = cv2.DFT_COMPLEX_OUTPUT) # produce a two-channel image\n",
    "        fshift_img = np.fft.fftshift(f_img)\n",
    "        ifft_f = np.fft.ifft2(np.fft.fftshift(low_pass(fshift_img,freq)))\n",
    "        result_img[i,:,:,0] = np.abs(ifft_f)\n",
    "    return result_img\n"
   ],
   "metadata": {
    "collapsed": false,
    "pycharm": {
     "name": "#%%\n"
    }
   }
  },
  {
   "cell_type": "code",
   "execution_count": 13,
   "outputs": [
    {
     "data": {
      "text/plain": "(1500, 28, 28, 1)"
     },
     "execution_count": 13,
     "metadata": {},
     "output_type": "execute_result"
    }
   ],
   "source": [
    "x_train.shape"
   ],
   "metadata": {
    "collapsed": false,
    "pycharm": {
     "name": "#%%\n"
    }
   }
  },
  {
   "cell_type": "code",
   "execution_count": 14,
   "outputs": [
    {
     "data": {
      "text/plain": "<matplotlib.image.AxesImage at 0x1b68072c280>"
     },
     "execution_count": 14,
     "metadata": {},
     "output_type": "execute_result"
    },
    {
     "data": {
      "text/plain": "<Figure size 432x288 with 1 Axes>",
      "image/png": "[encoded data removed]"
     },
     "metadata": {
      "needs_background": "light"
     },
     "output_type": "display_data"
    }
   ],
   "source": [
    "batch_test = batch_low_pass_image(x_train,5)\n",
    "plt.imshow(batch_test[0,:,:,0],cmap='gray')"
   ],
   "metadata": {
    "collapsed": false,
    "pycharm": {
     "name": "#%%\n"
    }
   }
  },
  {
   "cell_type": "code",
   "execution_count": 15,
   "outputs": [
    {
     "data": {
      "text/plain": "<matplotlib.image.AxesImage at 0x1b684b42100>"
     },
     "execution_count": 15,
     "metadata": {},
     "output_type": "execute_result"
    },
    {
     "data": {
      "text/plain": "<Figure size 432x288 with 1 Axes>",
      "image/png": "[encoded data removed]"
     },
     "metadata": {
      "needs_background": "light"
     },
     "output_type": "display_data"
    }
   ],
   "source": [
    "test_img = x_train[0,:,:,0]\n",
    "plt.imshow(test_img,cmap='gray')"
   ],
   "metadata": {
    "collapsed": false,
    "pycharm": {
     "name": "#%%\n"
    }
   }
  },
  {
   "cell_type": "code",
   "execution_count": 16,
   "outputs": [
    {
     "data": {
      "text/plain": "<Figure size 864x864 with 9 Axes>",
      "image/png": "[encoded data removed]"
     },
     "metadata": {
      "needs_background": "light"
     },
     "output_type": "display_data"
    }
   ],
   "source": [
    "f = np.fft.fft2(test_img) # cv2.dft(np.float32(img),flags = cv2.DFT_COMPLEX_OUTPUT) # produce a two-channel image\n",
    "fshift = np.fft.fftshift(f)\n",
    "# low pass\n",
    "plt.figure(figsize=(12,12))\n",
    "\n",
    "for idx,freq in enumerate([5, 10, 14]):\n",
    "    low_pass_f = low_pass(fshift,freq)\n",
    "    plt.subplot(3,3,idx+4)\n",
    "    plt.imshow(np.log(np.abs(low_pass_f)+0.001),cmap='gray')\n",
    "    #plt.imshow(np.log(cv2.magnitude(low_pass_f[:,:,0],low_pass_f[:,:,1])),cmap='gray')\n",
    "    plt.axis('off')\n",
    "\n",
    "    plt.subplot(3,3,idx+1)\n",
    "   # ifft_f = cv2.idft(np.fft.fftshift(low_pass_f))\n",
    "    ifft_f = np.fft.ifft2(np.fft.fftshift(low_pass_f))\n",
    "    plt.imshow(np.abs(ifft_f), cmap = 'gray')  #把虛部的值算出來加上\n",
    "    plt.axis('off')\n",
    "\n",
    "    plt.subplot(3,3,idx+7)\n",
    "   # ifft_f = cv2.idft(np.fft.fftshift(low_pass_f))\n",
    "    plt.imshow(get_low_pass_image(test_img,freq), cmap = 'gray')  #把虛部的值算出來加上\n",
    "    plt.axis('off')\n",
    "\n",
    "plt.show()"
   ],
   "metadata": {
    "collapsed": false,
    "pycharm": {
     "name": "#%%\n"
    }
   }
  },
  {
   "cell_type": "code",
   "execution_count": 17,
   "outputs": [
    {
     "name": "stdout",
     "output_type": "stream",
     "text": [
      "1594/1594 [==============================] - 6s 3ms/step - loss: 0.2297 - categorical_accuracy: 0.0592\n",
      "epoch:0  decoder_loss:[0.22972773015499115]\n",
      "1594/1594 [==============================] - 6s 4ms/step - loss: 0.2244 - categorical_accuracy: 0.0594\n",
      "epoch:1  decoder_loss:[0.22439497709274292]\n",
      "1594/1594 [==============================] - 7s 4ms/step - loss: 0.2242 - categorical_accuracy: 0.0596\n",
      "epoch:2  decoder_loss:[0.22422228753566742]\n",
      "1594/1594 [==============================] - 6s 4ms/step - loss: 0.2242 - categorical_accuracy: 0.0577\n",
      "epoch:3  decoder_loss:[0.22418135404586792]\n",
      "1594/1594 [==============================] - 6s 4ms/step - loss: 0.2241 - categorical_accuracy: 0.0575\n",
      "epoch:4  decoder_loss:[0.22410693764686584]\n",
      "1594/1594 [==============================] - 6s 4ms/step - loss: 0.2241 - categorical_accuracy: 0.0582\n",
      "epoch:5  decoder_loss:[0.22407199442386627]\n",
      "1594/1594 [==============================] - 6s 4ms/step - loss: 0.2241 - categorical_accuracy: 0.0579\n",
      "epoch:6  decoder_loss:[0.22406673431396484]\n",
      "1594/1594 [==============================] - 6s 4ms/step - loss: 0.2240 - categorical_accuracy: 0.0587\n",
      "epoch:7  decoder_loss:[0.22402343153953552]\n",
      "1594/1594 [==============================] - 6s 4ms/step - loss: 0.2240 - categorical_accuracy: 0.0572\n",
      "epoch:8  decoder_loss:[0.2240084409713745]\n",
      "1594/1594 [==============================] - 6s 4ms/step - loss: 0.2240 - categorical_accuracy: 0.0590\n",
      "epoch:9  decoder_loss:[0.22398686408996582]\n",
      "1594/1594 [==============================] - 7s 4ms/step - loss: 0.2240 - categorical_accuracy: 0.0572\n",
      "epoch:10  decoder_loss:[0.2239614725112915]\n",
      "1594/1594 [==============================] - 6s 4ms/step - loss: 0.2240 - categorical_accuracy: 0.0591\n",
      "epoch:11  decoder_loss:[0.22395704686641693]\n",
      "1594/1594 [==============================] - 6s 4ms/step - loss: 0.2239 - categorical_accuracy: 0.0588\n",
      "epoch:12  decoder_loss:[0.22394274175167084]\n",
      "1594/1594 [==============================] - 6s 4ms/step - loss: 0.2239 - categorical_accuracy: 0.0580\n",
      "epoch:13  decoder_loss:[0.22391654551029205]\n",
      "1594/1594 [==============================] - 6s 4ms/step - loss: 0.2239 - categorical_accuracy: 0.0576\n",
      "epoch:14  decoder_loss:[0.22392310202121735]\n",
      "1594/1594 [==============================] - 6s 4ms/step - loss: 0.2239 - categorical_accuracy: 0.0581\n",
      "epoch:15  decoder_loss:[0.22390776872634888]\n",
      "1594/1594 [==============================] - 6s 4ms/step - loss: 0.2239 - categorical_accuracy: 0.0582\n",
      "epoch:16  decoder_loss:[0.22390858829021454]\n",
      "1594/1594 [==============================] - 6s 4ms/step - loss: 0.2239 - categorical_accuracy: 0.0599\n",
      "epoch:17  decoder_loss:[0.22389261424541473]\n",
      "1594/1594 [==============================] - 6s 4ms/step - loss: 0.2239 - categorical_accuracy: 0.0584\n",
      "epoch:18  decoder_loss:[0.22389274835586548]\n",
      "1594/1594 [==============================] - 6s 4ms/step - loss: 0.2239 - categorical_accuracy: 0.0581\n",
      "epoch:19  decoder_loss:[0.2238919883966446]\n",
      "1594/1594 [==============================] - 6s 4ms/step - loss: 0.2239 - categorical_accuracy: 0.0587\n",
      "epoch:20  decoder_loss:[0.22386720776557922]\n",
      "1594/1594 [==============================] - 6s 4ms/step - loss: 0.2237 - categorical_accuracy: 0.0627\n",
      "epoch:21  decoder_loss:[0.22371147572994232]\n",
      "1594/1594 [==============================] - 6s 4ms/step - loss: 0.2233 - categorical_accuracy: 0.0707\n",
      "epoch:22  decoder_loss:[0.22327060997486115]\n",
      "1594/1594 [==============================] - 6s 4ms/step - loss: 0.2223 - categorical_accuracy: 0.0786\n",
      "epoch:23  decoder_loss:[0.2223401814699173]\n",
      "1594/1594 [==============================] - 6s 4ms/step - loss: 0.2208 - categorical_accuracy: 0.0888\n",
      "epoch:24  decoder_loss:[0.2208298146724701]\n",
      "1594/1594 [==============================] - 6s 4ms/step - loss: 0.2186 - categorical_accuracy: 0.1050\n",
      "epoch:25  decoder_loss:[0.21858951449394226]\n",
      "1594/1594 [==============================] - 6s 4ms/step - loss: 0.2157 - categorical_accuracy: 0.1193\n",
      "epoch:26  decoder_loss:[0.2157285362482071]\n",
      "1594/1594 [==============================] - 6s 4ms/step - loss: 0.2126 - categorical_accuracy: 0.1366\n",
      "epoch:27  decoder_loss:[0.21261537075042725]\n",
      "1594/1594 [==============================] - 7s 4ms/step - loss: 0.2093 - categorical_accuracy: 0.1525\n",
      "epoch:28  decoder_loss:[0.2092575877904892]\n",
      "1594/1594 [==============================] - 6s 4ms/step - loss: 0.2057 - categorical_accuracy: 0.1725\n",
      "epoch:29  decoder_loss:[0.2056921124458313]\n",
      "1594/1594 [==============================] - 6s 4ms/step - loss: 0.2017 - categorical_accuracy: 0.1964\n",
      "epoch:30  decoder_loss:[0.20170944929122925]\n",
      "1594/1594 [==============================] - 6s 4ms/step - loss: 0.1979 - categorical_accuracy: 0.2176\n",
      "epoch:31  decoder_loss:[0.1979486644268036]\n",
      "1594/1594 [==============================] - 6s 4ms/step - loss: 0.1944 - categorical_accuracy: 0.2420\n",
      "epoch:32  decoder_loss:[0.19443480670452118]\n",
      "1594/1594 [==============================] - 6s 4ms/step - loss: 0.1900 - categorical_accuracy: 0.2679\n",
      "epoch:33  decoder_loss:[0.1900152564048767]\n",
      "1594/1594 [==============================] - 7s 4ms/step - loss: 0.1858 - categorical_accuracy: 0.2927\n",
      "epoch:34  decoder_loss:[0.18583309650421143]\n",
      "1594/1594 [==============================] - 7s 4ms/step - loss: 0.1810 - categorical_accuracy: 0.3162\n",
      "epoch:35  decoder_loss:[0.1809733659029007]\n",
      "1594/1594 [==============================] - 6s 4ms/step - loss: 0.1766 - categorical_accuracy: 0.3387\n",
      "epoch:36  decoder_loss:[0.17664022743701935]\n",
      "1594/1594 [==============================] - 6s 4ms/step - loss: 0.1713 - categorical_accuracy: 0.3653\n",
      "epoch:37  decoder_loss:[0.17126278579235077]\n",
      "1594/1594 [==============================] - 6s 4ms/step - loss: 0.1662 - categorical_accuracy: 0.3858\n",
      "epoch:38  decoder_loss:[0.1662108600139618]\n",
      "1594/1594 [==============================] - 6s 4ms/step - loss: 0.1609 - categorical_accuracy: 0.4108\n",
      "epoch:39  decoder_loss:[0.16085906326770782]\n",
      "1594/1594 [==============================] - 5s 3ms/step - loss: 0.1554 - categorical_accuracy: 0.4318\n",
      "epoch:40  decoder_loss:[0.1553521305322647]\n",
      "1594/1594 [==============================] - 5s 3ms/step - loss: 0.1497 - categorical_accuracy: 0.4592\n",
      "epoch:41  decoder_loss:[0.14973299205303192]\n",
      "1594/1594 [==============================] - 5s 3ms/step - loss: 0.1446 - categorical_accuracy: 0.4797\n",
      "epoch:42  decoder_loss:[0.1445835679769516]\n",
      "1594/1594 [==============================] - 5s 3ms/step - loss: 0.1389 - categorical_accuracy: 0.5011\n",
      "epoch:43  decoder_loss:[0.13894803822040558]\n",
      "1594/1594 [==============================] - 5s 3ms/step - loss: 0.1345 - categorical_accuracy: 0.5187\n",
      "epoch:44  decoder_loss:[0.1344679296016693]\n",
      "1594/1594 [==============================] - 5s 3ms/step - loss: 0.1299 - categorical_accuracy: 0.5391\n",
      "epoch:45  decoder_loss:[0.1299424171447754]\n",
      "1594/1594 [==============================] - 5s 3ms/step - loss: 0.1249 - categorical_accuracy: 0.5595\n",
      "epoch:46  decoder_loss:[0.12489435821771622]\n",
      "1594/1594 [==============================] - 5s 3ms/step - loss: 0.1214 - categorical_accuracy: 0.5714\n",
      "epoch:47  decoder_loss:[0.12139170616865158]\n",
      "1594/1594 [==============================] - 5s 3ms/step - loss: 0.1168 - categorical_accuracy: 0.5885\n",
      "epoch:48  decoder_loss:[0.11675004661083221]\n",
      "1594/1594 [==============================] - 6s 3ms/step - loss: 0.1128 - categorical_accuracy: 0.5982\n",
      "epoch:49  decoder_loss:[0.11277003586292267]\n"
     ]
    }
   ],
   "source": [
    "EPOCH = 50\n",
    "DATA_LENGTH = len(x_train)\n",
    "\n",
    "# x_train_adv[0]是沒有攻擊的圖片\n",
    "x_train_adv = [x_train.copy() for _ in range(BIT_COUNT+1)]\n",
    "\n",
    "losses = {\"decoder\": []}\n",
    "\n",
    "#開始訓練\n",
    "for epoch in range(EPOCH):\n",
    "\n",
    "    ##第一步 調整圖片 讓decoder能正確讀取出user_code\n",
    "    for i in range(1, BIT_COUNT+1):\n",
    "        x_train_adv[i] = pgd_attack_to_target(x_train_adv[i], [user_code[i]] * DATA_LENGTH,\n",
    "                                              tf.keras.losses.CategoricalCrossentropy(), decoder, epsilon,\n",
    "                                              alpha, iterations)\n",
    "\n",
    "    ##第二步 data augmentation(旋轉，縮放....)\n",
    "  #  x_train_adv_att = [data_augmentation(x_train_adv[i]) for i in range(BIT_COUNT+1)]\n",
    "\n",
    "    #做低通濾波\n",
    "    x_train_adv_low_pass = [batch_low_pass_image(data_augmentation(x_train_adv[i]),FREQUENCY) for i in range(BIT_COUNT+1)]\n",
    "\n",
    "\n",
    "    #第四步 訓練Decoder\n",
    "    decoder_x = np.concatenate((np.concatenate([batch_low_pass_image(x_train_adv[i],FREQUENCY) for i in range(BIT_COUNT+1)]),\n",
    "                               # np.concatenate([x_train_adv_att[i] for i in range(BIT_COUNT+1)]),\n",
    "                                np.concatenate([x_train_adv_low_pass[i] for i in range(BIT_COUNT+1)])))\n",
    "    decoder_y = np.concatenate((np.concatenate([[user_code[i]] * DATA_LENGTH for i in range(BIT_COUNT+1)]),\n",
    "                              #  np.concatenate([[user_code[i]] * DATA_LENGTH for i in range(BIT_COUNT+1)]),\n",
    "                                np.concatenate([[user_code[i]] * DATA_LENGTH for i in range(BIT_COUNT+1)])))\n",
    "\n",
    "    decoder_loss = decoder.fit(decoder_x, decoder_y, epochs=1)\n",
    "\n",
    "    del decoder_x\n",
    "    del decoder_y\n",
    "   # del x_train_adv_att\n",
    "    del x_train_adv_low_pass\n",
    "    gc.collect()\n",
    "\n",
    "    #紀錄loss\n",
    "    # losses[\"discriminator\"].append(discriminator_loss.history[\"loss\"])\n",
    "    losses[\"decoder\"].append(decoder_loss.history[\"loss\"])\n",
    "    print(\"epoch:{}  decoder_loss:{}\".format(epoch, decoder_loss.history[\"loss\"]))\n",
    "\n"
   ],
   "metadata": {
    "collapsed": false,
    "pycharm": {
     "name": "#%%\n"
    }
   }
  },
  {
   "cell_type": "code",
   "execution_count": 18,
   "outputs": [
    {
     "data": {
      "text/plain": "<Figure size 720x576 with 1 Axes>",
      "image/png": "[encoded data removed]"
     },
     "metadata": {
      "needs_background": "light"
     },
     "output_type": "display_data"
    }
   ],
   "source": [
    "plot_loss(losses)"
   ],
   "metadata": {
    "collapsed": false,
    "pycharm": {
     "name": "#%%\n"
    }
   }
  },
  {
   "cell_type": "code",
   "execution_count": 19,
   "outputs": [],
   "source": [
    "decoder.save('models/decoder_low_pass_cifar_adversarial_{}.h5'.format(FREQUENCY))"
   ],
   "metadata": {
    "collapsed": false,
    "pycharm": {
     "name": "#%%\n"
    }
   }
  },
  {
   "cell_type": "markdown",
   "source": [
    "# TEST"
   ],
   "metadata": {
    "collapsed": false,
    "pycharm": {
     "name": "#%% md\n"
    }
   }
  },
  {
   "cell_type": "code",
   "execution_count": 20,
   "outputs": [
    {
     "data": {
      "text/plain": "2531"
     },
     "execution_count": 20,
     "metadata": {},
     "output_type": "execute_result"
    }
   ],
   "source": [
    "\n",
    "del x_train_adv\n",
    "del x_train\n",
    "gc.collect()"
   ],
   "metadata": {
    "collapsed": false,
    "pycharm": {
     "name": "#%%\n"
    }
   }
  },
  {
   "cell_type": "code",
   "execution_count": 21,
   "outputs": [
    {
     "name": "stdout",
     "output_type": "stream",
     "text": [
      "epoch: 1\n",
      "epoch: 2\n",
      "epoch: 3\n",
      "epoch: 4\n",
      "epoch: 5\n",
      "epoch: 6\n",
      "epoch: 7\n",
      "epoch: 8\n",
      "epoch: 9\n",
      "epoch: 10\n",
      "epoch: 11\n",
      "epoch: 12\n",
      "epoch: 13\n",
      "epoch: 14\n",
      "epoch: 15\n",
      "epoch: 16\n",
      "epoch: 17\n",
      "epoch: 18\n",
      "epoch: 19\n",
      "epoch: 20\n"
     ]
    }
   ],
   "source": [
    "x_test_adv = [x_test.copy() for i in range(BIT_COUNT+1)]\n",
    "for epoch in range(20):\n",
    "    print(\"epoch:\",epoch+1)\n",
    "    for i in range(1, BIT_COUNT+1):\n",
    "\n",
    "        x_test_adv[i] = pgd_attack_to_target(x_test_adv[i], [user_code[i]] * len(x_test),\n",
    "                                             tf.keras.losses.CategoricalCrossentropy(), decoder, epsilon, alpha,\n",
    "                                             iterations)"
   ],
   "metadata": {
    "collapsed": false,
    "pycharm": {
     "name": "#%%\n"
    }
   }
  },
  {
   "cell_type": "code",
   "execution_count": 22,
   "outputs": [
    {
     "name": "stdout",
     "output_type": "stream",
     "text": [
      "47/47 [==============================] - 0s 3ms/step - loss: 0.2848 - categorical_accuracy: 0.0833\n",
      "47/47 [==============================] - 0s 2ms/step - loss: 0.0063 - categorical_accuracy: 0.9920\n",
      "47/47 [==============================] - 0s 2ms/step - loss: 0.0059 - categorical_accuracy: 0.9933\n",
      "47/47 [==============================] - 0s 2ms/step - loss: 0.0049 - categorical_accuracy: 0.9927\n",
      "47/47 [==============================] - 0s 2ms/step - loss: 0.0049 - categorical_accuracy: 0.9933\n",
      "47/47 [==============================] - 0s 2ms/step - loss: 0.0054 - categorical_accuracy: 0.9927\n",
      "47/47 [==============================] - 0s 2ms/step - loss: 0.0056 - categorical_accuracy: 0.9927\n",
      "47/47 [==============================] - 0s 2ms/step - loss: 0.0030 - categorical_accuracy: 0.9947\n",
      "47/47 [==============================] - 0s 2ms/step - loss: 0.0057 - categorical_accuracy: 0.9920\n",
      "47/47 [==============================] - 0s 2ms/step - loss: 0.0072 - categorical_accuracy: 0.9907\n",
      "47/47 [==============================] - 0s 2ms/step - loss: 0.0059 - categorical_accuracy: 0.9907\n",
      "47/47 [==============================] - 0s 2ms/step - loss: 0.0073 - categorical_accuracy: 0.9893\n",
      "47/47 [==============================] - 0s 2ms/step - loss: 0.0096 - categorical_accuracy: 0.9907\n",
      "47/47 [==============================] - 0s 2ms/step - loss: 0.0074 - categorical_accuracy: 0.9840\n",
      "47/47 [==============================] - 0s 2ms/step - loss: 0.0027 - categorical_accuracy: 0.9960\n",
      "47/47 [==============================] - 0s 2ms/step - loss: 0.0065 - categorical_accuracy: 0.9940\n",
      "47/47 [==============================] - 0s 2ms/step - loss: 0.0055 - categorical_accuracy: 0.9907\n",
      "accuracy: 0.9383921636378064 ± 0.21377981062382415\n"
     ]
    }
   ],
   "source": [
    "test_acc_list = []\n",
    "\n",
    "for i in range(BIT_COUNT+1):\n",
    "    result = decoder.evaluate(x_test_adv[i], np.array([user_code[i]] * len(x_test)))\n",
    "    test_acc_list.append(result[1])\n",
    "print(\"accuracy:\",np.mean(test_acc_list),\"±\",np.std(test_acc_list))"
   ],
   "metadata": {
    "collapsed": false,
    "pycharm": {
     "name": "#%%\n"
    }
   }
  },
  {
   "cell_type": "code",
   "execution_count": 23,
   "outputs": [],
   "source": [
    "x_test_adv_att = [data_augmentation(x_test_adv[i]) for i in range(BIT_COUNT+1)]"
   ],
   "metadata": {
    "collapsed": false,
    "pycharm": {
     "name": "#%%\n"
    }
   }
  },
  {
   "cell_type": "code",
   "execution_count": 24,
   "outputs": [
    {
     "name": "stdout",
     "output_type": "stream",
     "text": [
      "47/47 [==============================] - 0s 2ms/step - loss: 0.2259 - categorical_accuracy: 0.1267\n",
      "47/47 [==============================] - 0s 2ms/step - loss: 0.1938 - categorical_accuracy: 0.3660\n",
      "47/47 [==============================] - 0s 2ms/step - loss: 0.1575 - categorical_accuracy: 0.4720\n",
      "47/47 [==============================] - 0s 2ms/step - loss: 0.1579 - categorical_accuracy: 0.4440\n",
      "47/47 [==============================] - 0s 2ms/step - loss: 0.1748 - categorical_accuracy: 0.3693\n",
      "47/47 [==============================] - 0s 2ms/step - loss: 0.1738 - categorical_accuracy: 0.3833\n",
      "47/47 [==============================] - 0s 2ms/step - loss: 0.1707 - categorical_accuracy: 0.4187\n",
      "47/47 [==============================] - 0s 2ms/step - loss: 0.1469 - categorical_accuracy: 0.4613\n",
      "47/47 [==============================] - 0s 2ms/step - loss: 0.1838 - categorical_accuracy: 0.3580\n",
      "47/47 [==============================] - 0s 2ms/step - loss: 0.1704 - categorical_accuracy: 0.4087\n",
      "47/47 [==============================] - 0s 2ms/step - loss: 0.1640 - categorical_accuracy: 0.4220\n",
      "47/47 [==============================] - 0s 2ms/step - loss: 0.1831 - categorical_accuracy: 0.3633\n",
      "47/47 [==============================] - 0s 2ms/step - loss: 0.1989 - categorical_accuracy: 0.3253\n",
      "47/47 [==============================] - 0s 2ms/step - loss: 0.1929 - categorical_accuracy: 0.3467\n",
      "47/47 [==============================] - 0s 2ms/step - loss: 0.1579 - categorical_accuracy: 0.4393\n",
      "47/47 [==============================] - 0s 2ms/step - loss: 0.1520 - categorical_accuracy: 0.4767\n",
      "47/47 [==============================] - 0s 2ms/step - loss: 0.1766 - categorical_accuracy: 0.4020\n",
      "accuracy: 0.3872549007920658 ± 0.07861676095896215\n"
     ]
    }
   ],
   "source": [
    "test_att_acc_list = []\n",
    "for i in range(BIT_COUNT+1):\n",
    "    result = decoder.evaluate(x_test_adv_att[i], np.array([user_code[i]] * len(x_test)))\n",
    "    test_att_acc_list.append(result[1])\n",
    "print(\"accuracy:\",np.mean(test_att_acc_list),\"±\",np.std(test_att_acc_list))"
   ],
   "metadata": {
    "collapsed": false,
    "pycharm": {
     "name": "#%%\n"
    }
   }
  },
  {
   "cell_type": "code",
   "execution_count": 25,
   "outputs": [
    {
     "name": "stdout",
     "output_type": "stream",
     "text": [
      "psnr: 40.25748466415515 ± 0.11701283163493516\n"
     ]
    }
   ],
   "source": [
    "from skimage.metrics import peak_signal_noise_ratio\n",
    "test_psnr_list = []\n",
    "for i in range(1,BIT_COUNT+1):\n",
    "    test_psnr_list.append(peak_signal_noise_ratio(x_test, x_test_adv[i]))\n",
    "print(\"psnr:\",np.mean(test_psnr_list),\"±\",np.std(test_psnr_list))"
   ],
   "metadata": {
    "collapsed": false,
    "pycharm": {
     "name": "#%%\n"
    }
   }
  },
  {
   "cell_type": "code",
   "execution_count": 25,
   "outputs": [],
   "source": [],
   "metadata": {
    "collapsed": false,
    "pycharm": {
     "name": "#%%\n"
    }
   }
  }
 ],
 "metadata": {
  "kernelspec": {
   "display_name": "Python 3",
   "language": "python",
   "name": "python3"
  },
  "language_info": {
   "codemirror_mode": {
    "name": "ipython",
    "version": 2
   },
   "file_extension": ".py",
   "mimetype": "text/x-python",
   "name": "python",
   "nbconvert_exporter": "python",
   "pygments_lexer": "ipython2",
   "version": "2.7.6"
  }
 },
 "nbformat": 4,
 "nbformat_minor": 0
}