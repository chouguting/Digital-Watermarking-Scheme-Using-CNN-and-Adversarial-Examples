{
 "cells": [
  {
   "cell_type": "code",
   "execution_count": 1,
   "metadata": {
    "collapsed": true,
    "pycharm": {
     "name": "#%%\n"
    }
   },
   "outputs": [
    {
     "name": "stdout",
     "output_type": "stream",
     "text": [
      "Tue Aug  9 17:36:31 2022       \n",
      "+-----------------------------------------------------------------------------+\n",
      "| NVIDIA-SMI 516.59       Driver Version: 516.59       CUDA Version: 11.7     |\n",
      "|-------------------------------+----------------------+----------------------+\n",
      "| GPU  Name            TCC/WDDM | Bus-Id        Disp.A | Volatile Uncorr. ECC |\n",
      "| Fan  Temp  Perf  Pwr:Usage/Cap|         Memory-Usage | GPU-Util  Compute M. |\n",
      "|                               |                      |               MIG M. |\n",
      "|===============================+======================+======================|\n",
      "|   0  NVIDIA GeForce ... WDDM  | 00000000:01:00.0  On |                  N/A |\n",
      "| 27%   37C    P8     4W / 120W |   1105MiB /  6144MiB |      5%      Default |\n",
      "|                               |                      |                  N/A |\n",
      "+-------------------------------+----------------------+----------------------+\n",
      "                                                                               \n",
      "+-----------------------------------------------------------------------------+\n",
      "| Processes:                                                                  |\n",
      "|  GPU   GI   CI        PID   Type   Process name                  GPU Memory |\n",
      "|        ID   ID                                                   Usage      |\n",
      "|=============================================================================|\n",
      "|    0   N/A  N/A      2444    C+G   C:\\Windows\\explorer.exe         N/A      |\n",
      "|    0   N/A  N/A      5880    C+G   ...ge\\Application\\msedge.exe    N/A      |\n",
      "|    0   N/A  N/A      6584    C+G   ...IA GeForce Experience.exe    N/A      |\n",
      "|    0   N/A  N/A      8556    C+G   ...dows\\System32\\dllhost.exe    N/A      |\n",
      "|    0   N/A  N/A     10328    C+G   ...lPanel\\SystemSettings.exe    N/A      |\n",
      "|    0   N/A  N/A     11544    C+G   ...293.47\\msedgewebview2.exe    N/A      |\n",
      "|    0   N/A  N/A     12260    C+G   ...ekyb3d8bbwe\\HxOutlook.exe    N/A      |\n",
      "|    0   N/A  N/A     12328    C+G   ... Host\\Razer Synapse 3.exe    N/A      |\n",
      "|    0   N/A  N/A     12628    C+G   ...y\\ShellExperienceHost.exe    N/A      |\n",
      "|    0   N/A  N/A     14556    C+G   ...artMenuExperienceHost.exe    N/A      |\n",
      "|    0   N/A  N/A     15364    C+G   ...n1h2txyewy\\SearchHost.exe    N/A      |\n",
      "|    0   N/A  N/A     16476    C+G   ...ekyb3d8bbwe\\onenoteim.exe    N/A      |\n",
      "|    0   N/A  N/A     17296    C+G   ...2txyewy\\TextInputHost.exe    N/A      |\n",
      "|    0   N/A  N/A     17972    C+G   ...werToys.PowerLauncher.exe    N/A      |\n",
      "|    0   N/A  N/A     19976    C+G   ...perience\\NVIDIA Share.exe    N/A      |\n",
      "|    0   N/A  N/A     21468    C+G   ...perience\\NVIDIA Share.exe    N/A      |\n",
      "|    0   N/A  N/A     21948    C+G   ...e\\PhoneExperienceHost.exe    N/A      |\n",
      "|    0   N/A  N/A     22436    C+G   ...293.47\\msedgewebview2.exe    N/A      |\n",
      "|    0   N/A  N/A     22684    C+G   ... iCUE 4 Software\\iCUE.exe    N/A      |\n",
      "|    0   N/A  N/A     23928    C+G   ...bin\\jetbrains-toolbox.exe    N/A      |\n",
      "|    0   N/A  N/A     23996    C+G   ...in7x64\\steamwebhelper.exe    N/A      |\n",
      "|    0   N/A  N/A     24564    C+G   ...bbwe\\Microsoft.Photos.exe    N/A      |\n",
      "|    0   N/A  N/A     26308    C+G   ...ekyb3d8bbwe\\XboxPcApp.exe    N/A      |\n",
      "|    0   N/A  N/A     27500    C+G   ...\\app-1.0.9005\\Discord.exe    N/A      |\n",
      "|    0   N/A  N/A     28140    C+G   ...wekyb3d8bbwe\\Video.UI.exe    N/A      |\n",
      "|    0   N/A  N/A     28260    C+G   ...arp.BrowserSubprocess.exe    N/A      |\n",
      "|    0   N/A  N/A     29156    C+G   ...qxf38zg5c\\Skype\\Skype.exe    N/A      |\n",
      "|    0   N/A  N/A     31932    C+G   C:\\Windows\\explorer.exe         N/A      |\n",
      "|    0   N/A  N/A     34432    C+G   ...8bbwe\\WindowsTerminal.exe    N/A      |\n",
      "|    0   N/A  N/A     34840    C+G   ...indows\\System32\\mstsc.exe    N/A      |\n",
      "+-----------------------------------------------------------------------------+\n"
     ]
    }
   ],
   "source": [
    "import gc\n",
    "!nvidia-smi"
   ]
  },
  {
   "cell_type": "code",
   "execution_count": 2,
   "outputs": [],
   "source": [
    "import tensorflow as tf\n",
    "from tensorflow.keras.datasets import mnist, fashion_mnist,cifar10\n",
    "from tensorflow.keras.models import Model\n",
    "from tensorflow.keras.layers import Input, Conv2D, Dense, MaxPooling2D, Flatten\n",
    "from tensorflow.keras.optimizers import Adam\n",
    "import matplotlib.pyplot as plt\n",
    "import numpy as np"
   ],
   "metadata": {
    "collapsed": false,
    "pycharm": {
     "name": "#%%\n"
    }
   }
  },
  {
   "cell_type": "code",
   "execution_count": 3,
   "outputs": [],
   "source": [
    "BIT_COUNT = 16\n",
    "SALT_AND_PEPPER_AMOUNT = 0.01"
   ],
   "metadata": {
    "collapsed": false,
    "pycharm": {
     "name": "#%%\n"
    }
   }
  },
  {
   "cell_type": "code",
   "execution_count": 4,
   "outputs": [],
   "source": [
    "def rgb2gray(rgb):\n",
    "    if len(rgb.shape)==3:\n",
    "        r, g, b = rgb[:,:,0], rgb[:,:,1], rgb[:,:,2]\n",
    "    else:\n",
    "        r, g, b = rgb[:,:,:,0], rgb[:,:,:,1], rgb[:,:,:,2]\n",
    "\n",
    "\n",
    "    gray = 0.2989 * r + 0.5870 * g + 0.1140 * b\n",
    "\n",
    "    return gray"
   ],
   "metadata": {
    "collapsed": false,
    "pycharm": {
     "name": "#%%\n"
    }
   }
  },
  {
   "cell_type": "markdown",
   "source": [
    "# 引入CIFAR10\n"
   ],
   "metadata": {
    "collapsed": false,
    "pycharm": {
     "name": "#%% md\n"
    }
   }
  },
  {
   "cell_type": "code",
   "execution_count": 5,
   "outputs": [],
   "source": [
    "(x_train, y_train), (x_test, y_test) =  cifar10.load_data()\n",
    "x_train = x_train.astype('float32') / 255.0\n",
    "x_test = x_test.astype('float32') / 255.0\n",
    "\n",
    "x_train = rgb2gray(x_train)\n",
    "x_train = np.expand_dims(x_train, axis=-1)\n",
    "x_test = rgb2gray(x_test)\n",
    "x_test = np.expand_dims(x_test, axis=-1)\n",
    "\n",
    "x_train = x_train[:1500]\n",
    "\n",
    "y_train = y_train[:1500]\n",
    "x_test = x_test[:1500]\n",
    "\n",
    "x_train = tf.image.resize(x_train, [28,28]).numpy()\n",
    "x_test = tf.image.resize(x_test, [28,28]).numpy()\n",
    "\n",
    "num_classes = 10\n",
    "image_shape = (28, 28, 1)\n",
    "x_train = x_train.reshape((-1,) + image_shape)\n",
    "x_test = x_test.reshape((-1,) + image_shape)\n",
    "\n",
    "# x_train =  np.concatenate((x_train[:,:14, :14, :] , x_train[:,:14, 14:, :] , x_train[:,14:, :14, :] , x_train[:,14:, 14:, :]))\n",
    "# x_test =  np.concatenate((x_test[:,:14, :14, :] , x_test[:,:14, 14:, :] , x_test[:,14:, :14, :] , x_test[:,14:, 14:, :]))\n",
    "\n",
    "y_train = tf.keras.utils.to_categorical(y_train, num_classes)\n",
    "y_test = tf.keras.utils.to_categorical(y_test, num_classes)"
   ],
   "metadata": {
    "collapsed": false,
    "pycharm": {
     "name": "#%%\n"
    }
   }
  },
  {
   "cell_type": "markdown",
   "source": [
    "# decoder網路"
   ],
   "metadata": {
    "collapsed": false,
    "pycharm": {
     "name": "#%% md\n"
    }
   }
  },
  {
   "cell_type": "code",
   "execution_count": 6,
   "outputs": [],
   "source": [
    "########\n",
    "from tensorflow.keras.layers import RandomFlip, RandomRotation, RandomZoom\n",
    "\n",
    "data_augmentation = tf.keras.Sequential([\n",
    "    RandomRotation(0.02, fill_mode = 'constant'),\n",
    "    RandomZoom(.2, .2)\n",
    "])\n",
    "###########"
   ],
   "metadata": {
    "collapsed": false,
    "pycharm": {
     "name": "#%%\n"
    }
   }
  },
  {
   "cell_type": "code",
   "execution_count": 7,
   "outputs": [],
   "source": [
    "adam = Adam(learning_rate=0.0002, beta_1=0.5)"
   ],
   "metadata": {
    "collapsed": false,
    "pycharm": {
     "name": "#%%\n"
    }
   }
  },
  {
   "cell_type": "code",
   "execution_count": 8,
   "outputs": [
    {
     "name": "stdout",
     "output_type": "stream",
     "text": [
      "Model: \"model\"\n",
      "_________________________________________________________________\n",
      " Layer (type)                Output Shape              Param #   \n",
      "=================================================================\n",
      " input_1 (InputLayer)        [(None, 28, 28, 1)]       0         \n",
      "                                                                 \n",
      " conv2d (Conv2D)             (None, 28, 28, 64)        640       \n",
      "                                                                 \n",
      " max_pooling2d (MaxPooling2D  (None, 14, 14, 64)       0         \n",
      " )                                                               \n",
      "                                                                 \n",
      " conv2d_1 (Conv2D)           (None, 14, 14, 32)        18464     \n",
      "                                                                 \n",
      " max_pooling2d_1 (MaxPooling  (None, 7, 7, 32)         0         \n",
      " 2D)                                                             \n",
      "                                                                 \n",
      " conv2d_2 (Conv2D)           (None, 7, 7, 16)          4624      \n",
      "                                                                 \n",
      " max_pooling2d_2 (MaxPooling  (None, 3, 3, 16)         0         \n",
      " 2D)                                                             \n",
      "                                                                 \n",
      " flatten (Flatten)           (None, 144)               0         \n",
      "                                                                 \n",
      " dense (Dense)               (None, 512)               74240     \n",
      "                                                                 \n",
      " dense_1 (Dense)             (None, 256)               131328    \n",
      "                                                                 \n",
      " dense_2 (Dense)             (None, 128)               32896     \n",
      "                                                                 \n",
      " dense_3 (Dense)             (None, 17)                2193      \n",
      "                                                                 \n",
      "=================================================================\n",
      "Total params: 264,385\n",
      "Trainable params: 264,385\n",
      "Non-trainable params: 0\n",
      "_________________________________________________________________\n"
     ]
    },
    {
     "data": {
      "image/png": "[encoded data removed]",
      "text/plain": "<IPython.core.display.Image object>"
     },
     "execution_count": 8,
     "metadata": {},
     "output_type": "execute_result"
    }
   ],
   "source": [
    "inputs = Input((28, 28, 1))\n",
    "x = Conv2D(64, (3, 3), padding=\"same\", activation='relu')(inputs)\n",
    "x = MaxPooling2D((2, 2))(x)\n",
    "x = Conv2D(32, (3, 3), padding=\"same\", activation='relu')(x)\n",
    "x = MaxPooling2D((2, 2))(x)\n",
    "x = Conv2D(16, (3, 3), padding=\"same\", activation='relu')(x)\n",
    "x = MaxPooling2D((2, 2))(x)\n",
    "x = Flatten()(x)\n",
    "x = Dense(512, activation='relu')(x)\n",
    "x = Dense(256, activation='relu')(x)\n",
    "x = Dense(128, activation='relu')(x)\n",
    "x = Dense(BIT_COUNT+1, activation=\"softmax\")(x)\n",
    "decoder = Model(inputs=inputs, outputs=x)\n",
    "decoder.compile(optimizer=adam, loss='binary_crossentropy', metrics=['categorical_accuracy'])\n",
    "decoder.summary()\n",
    "from keras.utils.vis_utils import plot_model\n",
    "plot_model(decoder, to_file='model.png', show_shapes=True,show_layer_names=False)"
   ],
   "metadata": {
    "collapsed": false,
    "pycharm": {
     "name": "#%%\n"
    }
   }
  },
  {
   "cell_type": "code",
   "execution_count": 9,
   "outputs": [],
   "source": [
    "iterations = 7  #攻擊次數\n",
    "alpha = 0.0001  #攻擊程度\n",
    "epsilon = 8.0 / 255  #攻擊範圍\n",
    "\n",
    "\n",
    "#loss_object = tf.keras.losses.BinaryCrossentropy()  #我們選擇的loss function\n",
    "\n",
    "\n",
    "#利用pgd的idea修改圖片 讓它生出我想要的label\n",
    "def pgd_attack_to_target(input_image, target_label, loss_object, model, epsilon, alpha, iterations):\n",
    "    x_adv = input_image  # 複製一個圖片 (不要動到原圖片)\n",
    "    for i in range(iterations):  # 做很多次\n",
    "        x_adv = tf.convert_to_tensor(x_adv)  # 將圖片轉成tensor\n",
    "        with tf.GradientTape() as tape:  #開始計算梯度\n",
    "            tape.watch(x_adv)  # 要計算的圖片是x_adv\n",
    "            prediction = model(x_adv)  #先做判斷(取得目前的結果)\n",
    "            loss = loss_object(target_label, prediction)  # 計算loss(距離target有多遠)\n",
    "        grad = tape.gradient(loss, x_adv)  # 計算梯度 (loss對x_adv的梯度，d_loss/d_x_adv)\n",
    "        x_adv_new = x_adv - alpha * tf.sign(grad)  # 更新圖片(做梯度下降會讓預測結果接近我想要的label)\n",
    "        x_adv = tf.clip_by_value(x_adv_new, x_adv - epsilon, x_adv + epsilon)  # 限制圖片的範圍\n",
    "        x_adv = tf.clip_by_value(x_adv, 0, 1)  # 限制圖片的範圍(圖片要在0~1之間)\n",
    "        x_adv = x_adv.numpy()  # 將圖片轉成numpy\n",
    "    return x_adv  # 回傳攻擊後的圖片"
   ],
   "metadata": {
    "collapsed": false,
    "pycharm": {
     "name": "#%%\n"
    }
   }
  },
  {
   "cell_type": "code",
   "execution_count": 10,
   "outputs": [],
   "source": [
    "def plot_loss(losses):\n",
    "    \"\"\"\n",
    "    @losses.keys():\n",
    "        0: loss\n",
    "        1: accuracy\n",
    "    \"\"\"\n",
    "    dec_loss = losses[\"decoder\"]\n",
    "\n",
    "    plt.figure(figsize=(10, 8))\n",
    "    plt.plot(dec_loss, label=\"decoder loss\")\n",
    "    plt.xlabel('Epochs')\n",
    "    plt.ylabel('Loss')\n",
    "    plt.legend()\n",
    "    plt.show()"
   ],
   "metadata": {
    "collapsed": false,
    "pycharm": {
     "name": "#%%\n"
    }
   }
  },
  {
   "cell_type": "code",
   "execution_count": 11,
   "outputs": [
    {
     "name": "stdout",
     "output_type": "stream",
     "text": [
      "[[1. 0. 0. 0. 0. 0. 0. 0. 0. 0. 0. 0. 0. 0. 0. 0. 0.]\n",
      " [0. 1. 0. 0. 0. 0. 0. 0. 0. 0. 0. 0. 0. 0. 0. 0. 0.]\n",
      " [0. 0. 1. 0. 0. 0. 0. 0. 0. 0. 0. 0. 0. 0. 0. 0. 0.]\n",
      " [0. 0. 0. 1. 0. 0. 0. 0. 0. 0. 0. 0. 0. 0. 0. 0. 0.]\n",
      " [0. 0. 0. 0. 1. 0. 0. 0. 0. 0. 0. 0. 0. 0. 0. 0. 0.]\n",
      " [0. 0. 0. 0. 0. 1. 0. 0. 0. 0. 0. 0. 0. 0. 0. 0. 0.]\n",
      " [0. 0. 0. 0. 0. 0. 1. 0. 0. 0. 0. 0. 0. 0. 0. 0. 0.]\n",
      " [0. 0. 0. 0. 0. 0. 0. 1. 0. 0. 0. 0. 0. 0. 0. 0. 0.]\n",
      " [0. 0. 0. 0. 0. 0. 0. 0. 1. 0. 0. 0. 0. 0. 0. 0. 0.]\n",
      " [0. 0. 0. 0. 0. 0. 0. 0. 0. 1. 0. 0. 0. 0. 0. 0. 0.]\n",
      " [0. 0. 0. 0. 0. 0. 0. 0. 0. 0. 1. 0. 0. 0. 0. 0. 0.]\n",
      " [0. 0. 0. 0. 0. 0. 0. 0. 0. 0. 0. 1. 0. 0. 0. 0. 0.]\n",
      " [0. 0. 0. 0. 0. 0. 0. 0. 0. 0. 0. 0. 1. 0. 0. 0. 0.]\n",
      " [0. 0. 0. 0. 0. 0. 0. 0. 0. 0. 0. 0. 0. 1. 0. 0. 0.]\n",
      " [0. 0. 0. 0. 0. 0. 0. 0. 0. 0. 0. 0. 0. 0. 1. 0. 0.]\n",
      " [0. 0. 0. 0. 0. 0. 0. 0. 0. 0. 0. 0. 0. 0. 0. 1. 0.]\n",
      " [0. 0. 0. 0. 0. 0. 0. 0. 0. 0. 0. 0. 0. 0. 0. 0. 1.]]\n"
     ]
    }
   ],
   "source": [
    "list = np.array([ i for i in range(BIT_COUNT+1)])\n",
    "user_code = np.eye(BIT_COUNT+1)[list]\n",
    "print(user_code)  #生成onehot encoding"
   ],
   "metadata": {
    "collapsed": false,
    "pycharm": {
     "name": "#%%\n"
    }
   }
  },
  {
   "cell_type": "markdown",
   "source": [
    "# salt&pepper"
   ],
   "metadata": {
    "collapsed": false,
    "pycharm": {
     "name": "#%% md\n"
    }
   }
  },
  {
   "cell_type": "code",
   "execution_count": 12,
   "outputs": [],
   "source": [
    "from skimage import io,util\n",
    "\n",
    "\n",
    "def salt_and_pepper(img_orgin,amount):\n",
    "    return  util.noise.random_noise(img_orgin.copy() ,mode ='s&p',amount = amount)\n",
    "\n",
    "def batch_salt_and_pepper(img_batch, size):\n",
    "    result_img = np.zeros_like(img_batch)\n",
    "    for i in range(img_batch.shape[0]):\n",
    "        result_img[i,:,:,0] = salt_and_pepper(img_batch[i,:,:,0],size)\n",
    "    return result_img\n"
   ],
   "metadata": {
    "collapsed": false,
    "pycharm": {
     "name": "#%%\n"
    }
   }
  },
  {
   "cell_type": "code",
   "execution_count": 13,
   "outputs": [
    {
     "data": {
      "text/plain": "(1500, 28, 28, 1)"
     },
     "execution_count": 13,
     "metadata": {},
     "output_type": "execute_result"
    }
   ],
   "source": [
    "x_train.shape"
   ],
   "metadata": {
    "collapsed": false,
    "pycharm": {
     "name": "#%%\n"
    }
   }
  },
  {
   "cell_type": "code",
   "execution_count": 14,
   "outputs": [
    {
     "data": {
      "text/plain": "<matplotlib.image.AxesImage at 0x23f73bc1760>"
     },
     "execution_count": 14,
     "metadata": {},
     "output_type": "execute_result"
    },
    {
     "data": {
      "text/plain": "<Figure size 432x288 with 1 Axes>",
      "image/png": "[encoded data removed]"
     },
     "metadata": {
      "needs_background": "light"
     },
     "output_type": "display_data"
    }
   ],
   "source": [
    "batch_test = batch_salt_and_pepper(x_train,SALT_AND_PEPPER_AMOUNT)\n",
    "plt.imshow(batch_test[0,:,:,0],cmap='gray')"
   ],
   "metadata": {
    "collapsed": false,
    "pycharm": {
     "name": "#%%\n"
    }
   }
  },
  {
   "cell_type": "code",
   "execution_count": 15,
   "outputs": [
    {
     "data": {
      "text/plain": "<matplotlib.image.AxesImage at 0x23f77d3a430>"
     },
     "execution_count": 15,
     "metadata": {},
     "output_type": "execute_result"
    },
    {
     "data": {
      "text/plain": "<Figure size 432x288 with 1 Axes>",
      "image/png": "[encoded data removed]"
     },
     "metadata": {
      "needs_background": "light"
     },
     "output_type": "display_data"
    }
   ],
   "source": [
    "test_img = x_train[0,:,:,0]\n",
    "plt.imshow(test_img,cmap='gray')"
   ],
   "metadata": {
    "collapsed": false,
    "pycharm": {
     "name": "#%%\n"
    }
   }
  },
  {
   "cell_type": "code",
   "execution_count": 16,
   "outputs": [
    {
     "data": {
      "text/plain": "<Figure size 720x720 with 3 Axes>",
      "image/png": "[encoded data removed]"
     },
     "metadata": {
      "needs_background": "light"
     },
     "output_type": "display_data"
    }
   ],
   "source": [
    "\n",
    "plt.figure(figsize=(10,10))\n",
    "for idx,size in enumerate([0.001, 0.005, 0.01]):\n",
    "    salt_and_pepper_result = salt_and_pepper(test_img,size)\n",
    "    plt.subplot(1,3,idx+1)\n",
    "\n",
    "    plt.imshow(salt_and_pepper_result,cmap='gray')\n",
    "    #plt.imshow(np.log(cv2.magnitude(low_pass_f[:,:,0],low_pass_f[:,:,1])),cmap='gray')\n",
    "    plt.axis('off')\n",
    "\n",
    "\n",
    "plt.show()"
   ],
   "metadata": {
    "collapsed": false,
    "pycharm": {
     "name": "#%%\n"
    }
   }
  },
  {
   "cell_type": "code",
   "execution_count": 17,
   "outputs": [
    {
     "name": "stdout",
     "output_type": "stream",
     "text": [
      "1594/1594 [==============================] - 5s 3ms/step - loss: 0.2296 - categorical_accuracy: 0.0576\n",
      "epoch:0  decoder_loss:[0.2295522689819336]\n",
      "1594/1594 [==============================] - 4s 3ms/step - loss: 0.2243 - categorical_accuracy: 0.0602\n",
      "epoch:1  decoder_loss:[0.22434435784816742]\n",
      "1594/1594 [==============================] - 4s 3ms/step - loss: 0.2242 - categorical_accuracy: 0.0594\n",
      "epoch:2  decoder_loss:[0.2241986095905304]\n",
      "1594/1594 [==============================] - 4s 3ms/step - loss: 0.2241 - categorical_accuracy: 0.0588\n",
      "epoch:3  decoder_loss:[0.22413486242294312]\n",
      "1594/1594 [==============================] - 4s 3ms/step - loss: 0.2241 - categorical_accuracy: 0.0584\n",
      "epoch:4  decoder_loss:[0.22409120202064514]\n",
      "1594/1594 [==============================] - 4s 3ms/step - loss: 0.2240 - categorical_accuracy: 0.0576\n",
      "epoch:5  decoder_loss:[0.22404015064239502]\n",
      "1594/1594 [==============================] - 4s 3ms/step - loss: 0.2240 - categorical_accuracy: 0.0606\n",
      "epoch:6  decoder_loss:[0.22399699687957764]\n",
      "1594/1594 [==============================] - 4s 3ms/step - loss: 0.2240 - categorical_accuracy: 0.0594\n",
      "epoch:7  decoder_loss:[0.2239849865436554]\n",
      "1594/1594 [==============================] - 4s 3ms/step - loss: 0.2239 - categorical_accuracy: 0.0601\n",
      "epoch:8  decoder_loss:[0.22393754124641418]\n",
      "1594/1594 [==============================] - 4s 3ms/step - loss: 0.2238 - categorical_accuracy: 0.0627\n",
      "epoch:9  decoder_loss:[0.22376424074172974]\n",
      "1594/1594 [==============================] - 4s 3ms/step - loss: 0.2231 - categorical_accuracy: 0.0707\n",
      "epoch:10  decoder_loss:[0.22312919795513153]\n",
      "1594/1594 [==============================] - 5s 3ms/step - loss: 0.2209 - categorical_accuracy: 0.0861\n",
      "epoch:11  decoder_loss:[0.22087889909744263]\n",
      "1594/1594 [==============================] - 5s 3ms/step - loss: 0.2163 - categorical_accuracy: 0.1102\n",
      "epoch:12  decoder_loss:[0.21634414792060852]\n",
      "1594/1594 [==============================] - 4s 3ms/step - loss: 0.2101 - categorical_accuracy: 0.1462\n",
      "epoch:13  decoder_loss:[0.21012844145298004]\n",
      "1594/1594 [==============================] - 5s 3ms/step - loss: 0.2026 - categorical_accuracy: 0.1932\n",
      "epoch:14  decoder_loss:[0.2026330828666687]\n",
      "1594/1594 [==============================] - 5s 3ms/step - loss: 0.1938 - categorical_accuracy: 0.2495\n",
      "epoch:15  decoder_loss:[0.19380253553390503]\n",
      "1594/1594 [==============================] - 5s 3ms/step - loss: 0.1834 - categorical_accuracy: 0.3185\n",
      "epoch:16  decoder_loss:[0.18341001868247986]\n",
      "1594/1594 [==============================] - 5s 3ms/step - loss: 0.1716 - categorical_accuracy: 0.3783\n",
      "epoch:17  decoder_loss:[0.17163807153701782]\n",
      "1594/1594 [==============================] - 5s 3ms/step - loss: 0.1592 - categorical_accuracy: 0.4294\n",
      "epoch:18  decoder_loss:[0.1592063158750534]\n",
      "1594/1594 [==============================] - 5s 3ms/step - loss: 0.1470 - categorical_accuracy: 0.4682\n",
      "epoch:19  decoder_loss:[0.14704643189907074]\n",
      "1594/1594 [==============================] - 5s 3ms/step - loss: 0.1377 - categorical_accuracy: 0.4928\n",
      "epoch:20  decoder_loss:[0.13772185146808624]\n",
      "1594/1594 [==============================] - 5s 3ms/step - loss: 0.1300 - categorical_accuracy: 0.5154\n",
      "epoch:21  decoder_loss:[0.1300288885831833]\n",
      "1594/1594 [==============================] - 5s 3ms/step - loss: 0.1234 - categorical_accuracy: 0.5344\n",
      "epoch:22  decoder_loss:[0.12344849109649658]\n",
      "1594/1594 [==============================] - 5s 3ms/step - loss: 0.1183 - categorical_accuracy: 0.5494\n",
      "epoch:23  decoder_loss:[0.11827510595321655]\n",
      "1594/1594 [==============================] - 5s 3ms/step - loss: 0.1141 - categorical_accuracy: 0.5628\n",
      "epoch:24  decoder_loss:[0.11413070559501648]\n",
      "1594/1594 [==============================] - 5s 3ms/step - loss: 0.1107 - categorical_accuracy: 0.5755\n",
      "epoch:25  decoder_loss:[0.11067494750022888]\n",
      "1594/1594 [==============================] - 5s 3ms/step - loss: 0.1071 - categorical_accuracy: 0.5876\n",
      "epoch:26  decoder_loss:[0.10712187737226486]\n",
      "1594/1594 [==============================] - 5s 3ms/step - loss: 0.1040 - categorical_accuracy: 0.6003\n",
      "epoch:27  decoder_loss:[0.1040128692984581]\n",
      "1594/1594 [==============================] - 5s 3ms/step - loss: 0.1011 - categorical_accuracy: 0.6114\n",
      "epoch:28  decoder_loss:[0.10113257169723511]\n",
      "1594/1594 [==============================] - 5s 3ms/step - loss: 0.0974 - categorical_accuracy: 0.6280\n",
      "epoch:29  decoder_loss:[0.09740979224443436]\n",
      "1594/1594 [==============================] - 5s 3ms/step - loss: 0.0944 - categorical_accuracy: 0.6400\n",
      "epoch:30  decoder_loss:[0.09444806724786758]\n",
      "1594/1594 [==============================] - 5s 3ms/step - loss: 0.0912 - categorical_accuracy: 0.6518\n",
      "epoch:31  decoder_loss:[0.0911712795495987]\n",
      "1594/1594 [==============================] - 5s 3ms/step - loss: 0.0887 - categorical_accuracy: 0.6615\n",
      "epoch:32  decoder_loss:[0.0887281522154808]\n",
      "1594/1594 [==============================] - 5s 3ms/step - loss: 0.0850 - categorical_accuracy: 0.6770\n",
      "epoch:33  decoder_loss:[0.08504154533147812]\n",
      "1594/1594 [==============================] - 5s 3ms/step - loss: 0.0820 - categorical_accuracy: 0.6905\n",
      "epoch:34  decoder_loss:[0.08204202353954315]\n",
      "1594/1594 [==============================] - 5s 3ms/step - loss: 0.0785 - categorical_accuracy: 0.7022\n",
      "epoch:35  decoder_loss:[0.07850667834281921]\n",
      "1594/1594 [==============================] - 5s 3ms/step - loss: 0.0760 - categorical_accuracy: 0.7140\n",
      "epoch:36  decoder_loss:[0.07601094990968704]\n",
      "1594/1594 [==============================] - 5s 3ms/step - loss: 0.0735 - categorical_accuracy: 0.7255\n",
      "epoch:37  decoder_loss:[0.07348436862230301]\n",
      "1594/1594 [==============================] - 5s 3ms/step - loss: 0.0715 - categorical_accuracy: 0.7323\n",
      "epoch:38  decoder_loss:[0.07147867977619171]\n",
      "1594/1594 [==============================] - 5s 3ms/step - loss: 0.0679 - categorical_accuracy: 0.7470\n",
      "epoch:39  decoder_loss:[0.06785175204277039]\n",
      "1594/1594 [==============================] - 5s 3ms/step - loss: 0.0656 - categorical_accuracy: 0.7567\n",
      "epoch:40  decoder_loss:[0.06561349332332611]\n",
      "1594/1594 [==============================] - 5s 3ms/step - loss: 0.0632 - categorical_accuracy: 0.7671\n",
      "epoch:41  decoder_loss:[0.06319540739059448]\n",
      "1594/1594 [==============================] - 5s 3ms/step - loss: 0.0614 - categorical_accuracy: 0.7734\n",
      "epoch:42  decoder_loss:[0.06144409254193306]\n",
      "1594/1594 [==============================] - 5s 3ms/step - loss: 0.0590 - categorical_accuracy: 0.7823\n",
      "epoch:43  decoder_loss:[0.059005800634622574]\n",
      "1594/1594 [==============================] - 5s 3ms/step - loss: 0.0572 - categorical_accuracy: 0.7909\n",
      "epoch:44  decoder_loss:[0.05721605569124222]\n",
      "1594/1594 [==============================] - 5s 3ms/step - loss: 0.0550 - categorical_accuracy: 0.7996\n",
      "epoch:45  decoder_loss:[0.05496988072991371]\n",
      "1594/1594 [==============================] - 5s 3ms/step - loss: 0.0534 - categorical_accuracy: 0.8064\n",
      "epoch:46  decoder_loss:[0.05340554937720299]\n",
      "1594/1594 [==============================] - 5s 3ms/step - loss: 0.0513 - categorical_accuracy: 0.8141\n",
      "epoch:47  decoder_loss:[0.05131535232067108]\n",
      "1594/1594 [==============================] - 5s 3ms/step - loss: 0.0492 - categorical_accuracy: 0.8222\n",
      "epoch:48  decoder_loss:[0.04917481541633606]\n",
      "1594/1594 [==============================] - 5s 3ms/step - loss: 0.0476 - categorical_accuracy: 0.8267\n",
      "epoch:49  decoder_loss:[0.047647375613451004]\n",
      "1594/1594 [==============================] - 5s 3ms/step - loss: 0.0460 - categorical_accuracy: 0.8334\n",
      "epoch:50  decoder_loss:[0.046044789254665375]\n",
      "1594/1594 [==============================] - 4s 3ms/step - loss: 0.0447 - categorical_accuracy: 0.8396\n",
      "epoch:51  decoder_loss:[0.04471800476312637]\n",
      "1594/1594 [==============================] - 5s 3ms/step - loss: 0.0430 - categorical_accuracy: 0.8474\n",
      "epoch:52  decoder_loss:[0.04299742355942726]\n",
      "1594/1594 [==============================] - 5s 3ms/step - loss: 0.0417 - categorical_accuracy: 0.8507\n",
      "epoch:53  decoder_loss:[0.04174013435840607]\n",
      "1594/1594 [==============================] - 5s 3ms/step - loss: 0.0401 - categorical_accuracy: 0.8579\n",
      "epoch:54  decoder_loss:[0.04009930416941643]\n",
      "1594/1594 [==============================] - 4s 3ms/step - loss: 0.0390 - categorical_accuracy: 0.8614\n",
      "epoch:55  decoder_loss:[0.038984447717666626]\n",
      "1594/1594 [==============================] - 4s 3ms/step - loss: 0.0370 - categorical_accuracy: 0.8684\n",
      "epoch:56  decoder_loss:[0.03703710809350014]\n",
      "1594/1594 [==============================] - 4s 3ms/step - loss: 0.0357 - categorical_accuracy: 0.8736\n",
      "epoch:57  decoder_loss:[0.0356617234647274]\n",
      "1594/1594 [==============================] - 4s 3ms/step - loss: 0.0345 - categorical_accuracy: 0.8785\n",
      "epoch:58  decoder_loss:[0.034533534198999405]\n",
      "1594/1594 [==============================] - 4s 3ms/step - loss: 0.0342 - categorical_accuracy: 0.8798\n",
      "epoch:59  decoder_loss:[0.034205395728349686]\n",
      "1594/1594 [==============================] - 4s 3ms/step - loss: 0.0321 - categorical_accuracy: 0.8877\n",
      "epoch:60  decoder_loss:[0.03209550306200981]\n",
      "1594/1594 [==============================] - 4s 3ms/step - loss: 0.0314 - categorical_accuracy: 0.8916\n",
      "epoch:61  decoder_loss:[0.03139595687389374]\n",
      "1594/1594 [==============================] - 4s 3ms/step - loss: 0.0301 - categorical_accuracy: 0.8952\n",
      "epoch:62  decoder_loss:[0.030069125816226006]\n",
      "1594/1594 [==============================] - 4s 3ms/step - loss: 0.0295 - categorical_accuracy: 0.8977\n",
      "epoch:63  decoder_loss:[0.029504327103495598]\n",
      "1594/1594 [==============================] - 5s 3ms/step - loss: 0.0283 - categorical_accuracy: 0.9029\n",
      "epoch:64  decoder_loss:[0.028294917196035385]\n",
      "1594/1594 [==============================] - 5s 3ms/step - loss: 0.0275 - categorical_accuracy: 0.9043\n",
      "epoch:65  decoder_loss:[0.02749600261449814]\n",
      "1594/1594 [==============================] - 4s 3ms/step - loss: 0.0265 - categorical_accuracy: 0.9095\n",
      "epoch:66  decoder_loss:[0.0264521986246109]\n",
      "1594/1594 [==============================] - 4s 3ms/step - loss: 0.0255 - categorical_accuracy: 0.9125\n",
      "epoch:67  decoder_loss:[0.025471346452832222]\n",
      "1594/1594 [==============================] - 4s 3ms/step - loss: 0.0245 - categorical_accuracy: 0.9150\n",
      "epoch:68  decoder_loss:[0.024549029767513275]\n",
      "1594/1594 [==============================] - 5s 3ms/step - loss: 0.0240 - categorical_accuracy: 0.9186\n",
      "epoch:69  decoder_loss:[0.023992016911506653]\n",
      "1594/1594 [==============================] - 4s 3ms/step - loss: 0.0234 - categorical_accuracy: 0.9212\n",
      "epoch:70  decoder_loss:[0.023369384929537773]\n",
      "1594/1594 [==============================] - 4s 3ms/step - loss: 0.0222 - categorical_accuracy: 0.9244\n",
      "epoch:71  decoder_loss:[0.022171160206198692]\n",
      "1594/1594 [==============================] - 4s 3ms/step - loss: 0.0219 - categorical_accuracy: 0.9261\n",
      "epoch:72  decoder_loss:[0.021878963336348534]\n",
      "1594/1594 [==============================] - 4s 3ms/step - loss: 0.0211 - categorical_accuracy: 0.9288\n",
      "epoch:73  decoder_loss:[0.021089017391204834]\n",
      "1594/1594 [==============================] - 5s 3ms/step - loss: 0.0201 - categorical_accuracy: 0.9330\n",
      "epoch:74  decoder_loss:[0.020104963332414627]\n",
      "1594/1594 [==============================] - 4s 3ms/step - loss: 0.0199 - categorical_accuracy: 0.9321\n",
      "epoch:75  decoder_loss:[0.019921375438570976]\n",
      "1594/1594 [==============================] - 5s 3ms/step - loss: 0.0185 - categorical_accuracy: 0.9376\n",
      "epoch:76  decoder_loss:[0.018534401431679726]\n",
      "1594/1594 [==============================] - 5s 3ms/step - loss: 0.0184 - categorical_accuracy: 0.9388\n",
      "epoch:77  decoder_loss:[0.018350403755903244]\n",
      "1594/1594 [==============================] - 5s 3ms/step - loss: 0.0177 - categorical_accuracy: 0.9403\n",
      "epoch:78  decoder_loss:[0.017698602750897408]\n",
      "1594/1594 [==============================] - 5s 3ms/step - loss: 0.0171 - categorical_accuracy: 0.9430\n",
      "epoch:79  decoder_loss:[0.017129048705101013]\n",
      "1594/1594 [==============================] - 5s 3ms/step - loss: 0.0164 - categorical_accuracy: 0.9450\n",
      "epoch:80  decoder_loss:[0.016395768150687218]\n",
      "1594/1594 [==============================] - 5s 3ms/step - loss: 0.0161 - categorical_accuracy: 0.9466\n",
      "epoch:81  decoder_loss:[0.016129814088344574]\n",
      "1594/1594 [==============================] - 5s 3ms/step - loss: 0.0156 - categorical_accuracy: 0.9473\n",
      "epoch:82  decoder_loss:[0.01560258213430643]\n",
      "1594/1594 [==============================] - 5s 3ms/step - loss: 0.0151 - categorical_accuracy: 0.9499\n",
      "epoch:83  decoder_loss:[0.01505900826305151]\n",
      "1594/1594 [==============================] - 5s 3ms/step - loss: 0.0147 - categorical_accuracy: 0.9518\n",
      "epoch:84  decoder_loss:[0.014664409682154655]\n",
      "1594/1594 [==============================] - 5s 3ms/step - loss: 0.0140 - categorical_accuracy: 0.9537\n",
      "epoch:85  decoder_loss:[0.013964919373393059]\n",
      "1594/1594 [==============================] - 5s 3ms/step - loss: 0.0136 - categorical_accuracy: 0.9556\n",
      "epoch:86  decoder_loss:[0.013571014627814293]\n",
      "1594/1594 [==============================] - 5s 3ms/step - loss: 0.0131 - categorical_accuracy: 0.9573\n",
      "epoch:87  decoder_loss:[0.01307400967925787]\n",
      "1594/1594 [==============================] - 5s 3ms/step - loss: 0.0129 - categorical_accuracy: 0.9585\n",
      "epoch:88  decoder_loss:[0.012909428216516972]\n",
      "1594/1594 [==============================] - 5s 3ms/step - loss: 0.0124 - categorical_accuracy: 0.9591\n",
      "epoch:89  decoder_loss:[0.012411820702254772]\n",
      "1594/1594 [==============================] - 5s 3ms/step - loss: 0.0121 - categorical_accuracy: 0.9615\n",
      "epoch:90  decoder_loss:[0.012073018588125706]\n",
      "1594/1594 [==============================] - 5s 3ms/step - loss: 0.0118 - categorical_accuracy: 0.9621\n",
      "epoch:91  decoder_loss:[0.011783723719418049]\n",
      "1594/1594 [==============================] - 5s 3ms/step - loss: 0.0113 - categorical_accuracy: 0.9632\n",
      "epoch:92  decoder_loss:[0.011336405761539936]\n",
      "1594/1594 [==============================] - 5s 3ms/step - loss: 0.0109 - categorical_accuracy: 0.9647\n",
      "epoch:93  decoder_loss:[0.010930044576525688]\n",
      "1594/1594 [==============================] - 5s 3ms/step - loss: 0.0106 - categorical_accuracy: 0.9660\n",
      "epoch:94  decoder_loss:[0.010575952008366585]\n",
      "1594/1594 [==============================] - 5s 3ms/step - loss: 0.0103 - categorical_accuracy: 0.9672\n",
      "epoch:95  decoder_loss:[0.01029556430876255]\n",
      "1594/1594 [==============================] - 5s 3ms/step - loss: 0.0103 - categorical_accuracy: 0.9667\n",
      "epoch:96  decoder_loss:[0.010330194607377052]\n",
      "1594/1594 [==============================] - 5s 3ms/step - loss: 0.0097 - categorical_accuracy: 0.9690\n",
      "epoch:97  decoder_loss:[0.009679879061877728]\n",
      "1594/1594 [==============================] - 5s 3ms/step - loss: 0.0094 - categorical_accuracy: 0.9696\n",
      "epoch:98  decoder_loss:[0.009399170987308025]\n",
      "1594/1594 [==============================] - 5s 3ms/step - loss: 0.0091 - categorical_accuracy: 0.9703\n",
      "epoch:99  decoder_loss:[0.009128947742283344]\n"
     ]
    }
   ],
   "source": [
    "EPOCH = 100\n",
    "DATA_LENGTH = len(x_train)\n",
    "\n",
    "# x_train_adv[0]是沒有攻擊的圖片\n",
    "x_train_adv = [x_train.copy() for _ in range(BIT_COUNT+1)]\n",
    "\n",
    "losses = {\"decoder\": []}\n",
    "\n",
    "#開始訓練\n",
    "for epoch in range(EPOCH):\n",
    "\n",
    "    ##第一步 調整圖片 讓decoder能正確讀取出user_code\n",
    "    for i in range(1, BIT_COUNT+1):\n",
    "        x_train_adv[i] = pgd_attack_to_target(x_train_adv[i], [user_code[i]] * DATA_LENGTH,\n",
    "                                              tf.keras.losses.CategoricalCrossentropy(), decoder, epsilon,\n",
    "                                              alpha, iterations)\n",
    "\n",
    "    ##第二步 data augmentation(旋轉，縮放....)\n",
    "  #  x_train_adv_att = [data_augmentation(x_train_adv[i]) for i in range(BIT_COUNT+1)]\n",
    "\n",
    "    #做低通濾波\n",
    "    x_train_adv_low_pass = [batch_salt_and_pepper(data_augmentation(x_train_adv[i]).numpy(),SALT_AND_PEPPER_AMOUNT) for i in range(BIT_COUNT+1)]\n",
    "\n",
    "\n",
    "    #第四步 訓練Decoder\n",
    "    decoder_x = np.concatenate((np.concatenate([batch_salt_and_pepper(x_train_adv[i],SALT_AND_PEPPER_AMOUNT) for i in range(BIT_COUNT+1)]),\n",
    "                               # np.concatenate([x_train_adv_att[i] for i in range(BIT_COUNT+1)]),\n",
    "                                np.concatenate([x_train_adv_low_pass[i] for i in range(BIT_COUNT+1)])))\n",
    "    decoder_y = np.concatenate((np.concatenate([[user_code[i]] * DATA_LENGTH for i in range(BIT_COUNT+1)]),\n",
    "                              #  np.concatenate([[user_code[i]] * DATA_LENGTH for i in range(BIT_COUNT+1)]),\n",
    "                                np.concatenate([[user_code[i]] * DATA_LENGTH for i in range(BIT_COUNT+1)])))\n",
    "\n",
    "    decoder_loss = decoder.fit(decoder_x, decoder_y, epochs=1)\n",
    "\n",
    "    del decoder_x\n",
    "    del decoder_y\n",
    "   # del x_train_adv_att\n",
    "    del x_train_adv_low_pass\n",
    "    gc.collect()\n",
    "\n",
    "    #紀錄loss\n",
    "    # losses[\"discriminator\"].append(discriminator_loss.history[\"loss\"])\n",
    "    losses[\"decoder\"].append(decoder_loss.history[\"loss\"])\n",
    "    print(\"epoch:{}  decoder_loss:{}\".format(epoch, decoder_loss.history[\"loss\"]))\n",
    "\n"
   ],
   "metadata": {
    "collapsed": false,
    "pycharm": {
     "name": "#%%\n"
    }
   }
  },
  {
   "cell_type": "code",
   "execution_count": 18,
   "outputs": [
    {
     "data": {
      "text/plain": "<Figure size 720x576 with 1 Axes>",
      "image/png": "[encoded data removed]"
     },
     "metadata": {
      "needs_background": "light"
     },
     "output_type": "display_data"
    }
   ],
   "source": [
    "plot_loss(losses)"
   ],
   "metadata": {
    "collapsed": false,
    "pycharm": {
     "name": "#%%\n"
    }
   }
  },
  {
   "cell_type": "code",
   "execution_count": 19,
   "outputs": [],
   "source": [
    "decoder.save('models/decoder_salt_and_pepper_cifar_adversarial_{}.h5'.format(SALT_AND_PEPPER_AMOUNT))"
   ],
   "metadata": {
    "collapsed": false,
    "pycharm": {
     "name": "#%%\n"
    }
   }
  },
  {
   "cell_type": "markdown",
   "source": [
    "# TEST"
   ],
   "metadata": {
    "collapsed": false,
    "pycharm": {
     "name": "#%% md\n"
    }
   }
  },
  {
   "cell_type": "code",
   "execution_count": 20,
   "outputs": [
    {
     "data": {
      "text/plain": "2473"
     },
     "execution_count": 20,
     "metadata": {},
     "output_type": "execute_result"
    }
   ],
   "source": [
    "\n",
    "del x_train_adv\n",
    "del x_train\n",
    "gc.collect()"
   ],
   "metadata": {
    "collapsed": false,
    "pycharm": {
     "name": "#%%\n"
    }
   }
  },
  {
   "cell_type": "code",
   "execution_count": 21,
   "outputs": [
    {
     "name": "stdout",
     "output_type": "stream",
     "text": [
      "epoch: 1\n",
      "epoch: 2\n",
      "epoch: 3\n",
      "epoch: 4\n",
      "epoch: 5\n",
      "epoch: 6\n",
      "epoch: 7\n",
      "epoch: 8\n",
      "epoch: 9\n",
      "epoch: 10\n",
      "epoch: 11\n",
      "epoch: 12\n",
      "epoch: 13\n",
      "epoch: 14\n",
      "epoch: 15\n",
      "epoch: 16\n",
      "epoch: 17\n",
      "epoch: 18\n",
      "epoch: 19\n",
      "epoch: 20\n"
     ]
    }
   ],
   "source": [
    "x_test_adv = [x_test.copy() for i in range(BIT_COUNT+1)]\n",
    "for epoch in range(20):\n",
    "    print(\"epoch:\",epoch+1)\n",
    "    for i in range(1, BIT_COUNT+1):\n",
    "\n",
    "        x_test_adv[i] = pgd_attack_to_target(x_test_adv[i], [user_code[i]] * len(x_test),\n",
    "                                             tf.keras.losses.CategoricalCrossentropy(), decoder, epsilon, alpha,\n",
    "                                             iterations)"
   ],
   "metadata": {
    "collapsed": false,
    "pycharm": {
     "name": "#%%\n"
    }
   }
  },
  {
   "cell_type": "code",
   "execution_count": 22,
   "outputs": [
    {
     "name": "stdout",
     "output_type": "stream",
     "text": [
      "47/47 [==============================] - 0s 2ms/step - loss: 0.0102 - categorical_accuracy: 0.9667\n",
      "47/47 [==============================] - 0s 1ms/step - loss: 5.0174e-05 - categorical_accuracy: 1.0000\n",
      "47/47 [==============================] - 0s 1ms/step - loss: 6.7417e-07 - categorical_accuracy: 1.0000\n",
      "47/47 [==============================] - 0s 2ms/step - loss: 2.8371e-05 - categorical_accuracy: 1.0000\n",
      "47/47 [==============================] - 0s 2ms/step - loss: 1.0302e-04 - categorical_accuracy: 1.0000\n",
      "47/47 [==============================] - 0s 2ms/step - loss: 1.9745e-06 - categorical_accuracy: 1.0000\n",
      "47/47 [==============================] - 0s 1ms/step - loss: 1.9538e-04 - categorical_accuracy: 0.9993\n",
      "47/47 [==============================] - 0s 1ms/step - loss: 4.1070e-06 - categorical_accuracy: 1.0000\n",
      "47/47 [==============================] - 0s 1ms/step - loss: 1.1684e-04 - categorical_accuracy: 0.9993\n",
      "47/47 [==============================] - 0s 1ms/step - loss: 9.3480e-05 - categorical_accuracy: 1.0000\n",
      "47/47 [==============================] - 0s 1ms/step - loss: 4.0162e-04 - categorical_accuracy: 0.9993\n",
      "47/47 [==============================] - 0s 1ms/step - loss: 6.4122e-05 - categorical_accuracy: 1.0000\n",
      "47/47 [==============================] - 0s 1ms/step - loss: 3.7860e-06 - categorical_accuracy: 1.0000\n",
      "47/47 [==============================] - 0s 1ms/step - loss: 2.0216e-06 - categorical_accuracy: 1.0000\n",
      "47/47 [==============================] - 0s 1ms/step - loss: 1.2996e-06 - categorical_accuracy: 1.0000\n",
      "47/47 [==============================] - 0s 1ms/step - loss: 3.1150e-04 - categorical_accuracy: 0.9993\n",
      "47/47 [==============================] - 0s 2ms/step - loss: 4.6046e-05 - categorical_accuracy: 1.0000\n",
      "accuracy: 0.9978823486496421 ± 0.0078089511246272995\n"
     ]
    }
   ],
   "source": [
    "test_acc_list = []\n",
    "\n",
    "for i in range(BIT_COUNT+1):\n",
    "    result = decoder.evaluate(x_test_adv[i], np.array([user_code[i]] * len(x_test)))\n",
    "    test_acc_list.append(result[1])\n",
    "print(\"accuracy:\",np.mean(test_acc_list),\"±\",np.std(test_acc_list))"
   ],
   "metadata": {
    "collapsed": false,
    "pycharm": {
     "name": "#%%\n"
    }
   }
  },
  {
   "cell_type": "code",
   "execution_count": 23,
   "outputs": [],
   "source": [
    "x_test_adv_att = [data_augmentation(x_test_adv[i]) for i in range(BIT_COUNT+1)]"
   ],
   "metadata": {
    "collapsed": false,
    "pycharm": {
     "name": "#%%\n"
    }
   }
  },
  {
   "cell_type": "code",
   "execution_count": 24,
   "outputs": [
    {
     "name": "stdout",
     "output_type": "stream",
     "text": [
      "47/47 [==============================] - 0s 2ms/step - loss: 0.0241 - categorical_accuracy: 0.9307\n",
      "47/47 [==============================] - 0s 1ms/step - loss: 0.2000 - categorical_accuracy: 0.4687\n",
      "47/47 [==============================] - 0s 2ms/step - loss: 0.0880 - categorical_accuracy: 0.7207\n",
      "47/47 [==============================] - 0s 2ms/step - loss: 0.2004 - categorical_accuracy: 0.4327\n",
      "47/47 [==============================] - 0s 2ms/step - loss: 0.1738 - categorical_accuracy: 0.5053\n",
      "47/47 [==============================] - 0s 2ms/step - loss: 0.1153 - categorical_accuracy: 0.6460\n",
      "47/47 [==============================] - 0s 1ms/step - loss: 0.2187 - categorical_accuracy: 0.4427\n",
      "47/47 [==============================] - 0s 2ms/step - loss: 0.1665 - categorical_accuracy: 0.4993\n",
      "47/47 [==============================] - 0s 2ms/step - loss: 0.1525 - categorical_accuracy: 0.5613\n",
      "47/47 [==============================] - 0s 2ms/step - loss: 0.1690 - categorical_accuracy: 0.5413\n",
      "47/47 [==============================] - 0s 2ms/step - loss: 0.1910 - categorical_accuracy: 0.4567\n",
      "47/47 [==============================] - 0s 2ms/step - loss: 0.1890 - categorical_accuracy: 0.4993\n",
      "47/47 [==============================] - 0s 2ms/step - loss: 0.1791 - categorical_accuracy: 0.5080\n",
      "47/47 [==============================] - 0s 2ms/step - loss: 0.1266 - categorical_accuracy: 0.6167\n",
      "47/47 [==============================] - 0s 2ms/step - loss: 0.1689 - categorical_accuracy: 0.5287\n",
      "47/47 [==============================] - 0s 2ms/step - loss: 0.1670 - categorical_accuracy: 0.5627\n",
      "47/47 [==============================] - 0s 2ms/step - loss: 0.1758 - categorical_accuracy: 0.5140\n",
      "accuracy: 0.5549803937182707 ± 0.11854391806799033\n"
     ]
    }
   ],
   "source": [
    "test_att_acc_list = []\n",
    "for i in range(BIT_COUNT+1):\n",
    "    result = decoder.evaluate(x_test_adv_att[i], np.array([user_code[i]] * len(x_test)))\n",
    "    test_att_acc_list.append(result[1])\n",
    "print(\"accuracy:\",np.mean(test_att_acc_list),\"±\",np.std(test_att_acc_list))"
   ],
   "metadata": {
    "collapsed": false,
    "pycharm": {
     "name": "#%%\n"
    }
   }
  },
  {
   "cell_type": "code",
   "execution_count": 25,
   "outputs": [
    {
     "name": "stdout",
     "output_type": "stream",
     "text": [
      "psnr: 41.327861432676 ± 0.24721219971443945\n"
     ]
    }
   ],
   "source": [
    "from skimage.metrics import peak_signal_noise_ratio\n",
    "test_psnr_list = []\n",
    "for i in range(1,BIT_COUNT+1):\n",
    "    test_psnr_list.append(peak_signal_noise_ratio(x_test, x_test_adv[i]))\n",
    "print(\"psnr:\",np.mean(test_psnr_list),\"±\",np.std(test_psnr_list))"
   ],
   "metadata": {
    "collapsed": false,
    "pycharm": {
     "name": "#%%\n"
    }
   }
  },
  {
   "cell_type": "code",
   "execution_count": 25,
   "outputs": [],
   "source": [],
   "metadata": {
    "collapsed": false,
    "pycharm": {
     "name": "#%%\n"
    }
   }
  }
 ],
 "metadata": {
  "kernelspec": {
   "display_name": "Python 3",
   "language": "python",
   "name": "python3"
  },
  "language_info": {
   "codemirror_mode": {
    "name": "ipython",
    "version": 2
   },
   "file_extension": ".py",
   "mimetype": "text/x-python",
   "name": "python",
   "nbconvert_exporter": "python",
   "pygments_lexer": "ipython2",
   "version": "2.7.6"
  }
 },
 "nbformat": 4,
 "nbformat_minor": 0
}