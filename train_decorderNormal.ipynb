{
 "cells": [
  {
   "cell_type": "code",
   "execution_count": 19,
   "metadata": {
    "collapsed": true,
    "pycharm": {
     "name": "#%%\n"
    }
   },
   "outputs": [
    {
     "name": "stdout",
     "output_type": "stream",
     "text": [
      "Wed Aug  3 13:59:18 2022       \n",
      "+-----------------------------------------------------------------------------+\n",
      "| NVIDIA-SMI 512.77       Driver Version: 512.77       CUDA Version: 11.6     |\n",
      "|-------------------------------+----------------------+----------------------+\n",
      "| GPU  Name            TCC/WDDM | Bus-Id        Disp.A | Volatile Uncorr. ECC |\n",
      "| Fan  Temp  Perf  Pwr:Usage/Cap|         Memory-Usage | GPU-Util  Compute M. |\n",
      "|                               |                      |               MIG M. |\n",
      "|===============================+======================+======================|\n",
      "|   0  NVIDIA GeForce ... WDDM  | 00000000:01:00.0 Off |                  N/A |\n",
      "|  0%   42C    P8    11W / 184W |  11183MiB / 12288MiB |      5%      Default |\n",
      "|                               |                      |                  N/A |\n",
      "+-------------------------------+----------------------+----------------------+\n",
      "                                                                               \n",
      "+-----------------------------------------------------------------------------+\n",
      "| Processes:                                                                  |\n",
      "|  GPU   GI   CI        PID   Type   Process name                  GPU Memory |\n",
      "|        ID   ID                                                   Usage      |\n",
      "|=============================================================================|\n",
      "|    0   N/A  N/A      2060      C   ...nvs\\tensorflow\\python.exe    N/A      |\n",
      "|    0   N/A  N/A      3180    C+G   ...5n1h2txyewy\\SearchApp.exe    N/A      |\n",
      "|    0   N/A  N/A      7616    C+G   C:\\Windows\\explorer.exe         N/A      |\n",
      "|    0   N/A  N/A      8920    C+G   ...5n1h2txyewy\\SearchApp.exe    N/A      |\n",
      "|    0   N/A  N/A      9412    C+G   ...ekyb3d8bbwe\\YourPhone.exe    N/A      |\n",
      "|    0   N/A  N/A      9640    C+G   ...2txyewy\\TextInputHost.exe    N/A      |\n",
      "|    0   N/A  N/A     10264    C+G   ...2\\jbr\\bin\\jcef_helper.exe    N/A      |\n",
      "|    0   N/A  N/A     11580    C+G   ...b3d8bbwe\\WinStore.App.exe    N/A      |\n",
      "|    0   N/A  N/A     12796    C+G   ...y\\ShellExperienceHost.exe    N/A      |\n",
      "|    0   N/A  N/A     15956    C+G   ...bbwe\\Microsoft.Photos.exe    N/A      |\n",
      "+-----------------------------------------------------------------------------+\n"
     ]
    }
   ],
   "source": [
    "import tensorflow as tf\n",
    "from tensorflow.keras.datasets import mnist\n",
    "from tensorflow.keras.models import Model\n",
    "from tensorflow.keras.layers import Input, Conv2D, Dense, MaxPooling2D, Flatten\n",
    "from tensorflow.keras.optimizers import Adam\n",
    "import matplotlib.pyplot as plt\n",
    "import numpy as np\n",
    "import gc\n",
    "!nvidia-smi"
   ]
  },
  {
   "cell_type": "markdown",
   "source": [
    "## 設定訓練及測試資料集和訓練參數"
   ],
   "metadata": {
    "collapsed": false,
    "pycharm": {
     "name": "#%% md\n"
    }
   }
  },
  {
   "cell_type": "code",
   "execution_count": 20,
   "outputs": [],
   "source": [
    "BIT_COUNT = 16\n",
    "iterations = 7  #攻擊次數\n",
    "alpha = 0.0001  #攻擊程度\n",
    "epsilon = 8.0 / 255  #攻擊範圍\n",
    "EPOCH = 50 #訓練EPOCH\n",
    "\n",
    "(x_train, y_train), (x_test, y_test) = mnist.load_data()\n",
    "x_train = x_train.astype('float32') / 255.0\n",
    "x_test = x_test.astype('float32') / 255.0\n",
    "\n",
    "x_train = x_train[:1500]\n",
    "y_train = y_train[:1500]\n",
    "x_test = x_test[:1500]\n",
    "\n",
    "image_shape = (28, 28, 1)\n",
    "x_train = x_train.reshape((-1,) + image_shape)\n",
    "x_test = x_test.reshape((-1,) + image_shape)"
   ],
   "metadata": {
    "collapsed": false,
    "pycharm": {
     "name": "#%%\n"
    }
   }
  },
  {
   "cell_type": "markdown",
   "source": [
    "## 設定資料擴增"
   ],
   "metadata": {
    "collapsed": false,
    "pycharm": {
     "name": "#%% md\n"
    }
   }
  },
  {
   "cell_type": "code",
   "execution_count": 21,
   "outputs": [],
   "source": [
    "from tensorflow.keras.layers import RandomFlip, RandomRotation, RandomZoom\n",
    "\n",
    "data_augmentation = tf.keras.Sequential([\n",
    "    RandomRotation(0.02, fill_mode = 'constant'),\n",
    "    RandomZoom(.2, .2)\n",
    "])"
   ],
   "metadata": {
    "collapsed": false,
    "pycharm": {
     "name": "#%%\n"
    }
   }
  },
  {
   "cell_type": "markdown",
   "source": [
    "## 設定訓練模型"
   ],
   "metadata": {
    "collapsed": false,
    "pycharm": {
     "name": "#%% md\n"
    }
   }
  },
  {
   "cell_type": "code",
   "execution_count": 22,
   "outputs": [],
   "source": [
    "adam = Adam(learning_rate=0.0002, beta_1=0.5)"
   ],
   "metadata": {
    "collapsed": false,
    "pycharm": {
     "name": "#%%\n"
    }
   }
  },
  {
   "cell_type": "code",
   "execution_count": 23,
   "outputs": [
    {
     "name": "stdout",
     "output_type": "stream",
     "text": [
      "Model: \"model_2\"\n",
      "_________________________________________________________________\n",
      " Layer (type)                Output Shape              Param #   \n",
      "=================================================================\n",
      " input_3 (InputLayer)        [(None, 28, 28, 1)]       0         \n",
      "                                                                 \n",
      " conv2d_6 (Conv2D)           (None, 28, 28, 64)        640       \n",
      "                                                                 \n",
      " max_pooling2d_6 (MaxPooling  (None, 14, 14, 64)       0         \n",
      " 2D)                                                             \n",
      "                                                                 \n",
      " conv2d_7 (Conv2D)           (None, 14, 14, 32)        18464     \n",
      "                                                                 \n",
      " max_pooling2d_7 (MaxPooling  (None, 7, 7, 32)         0         \n",
      " 2D)                                                             \n",
      "                                                                 \n",
      " conv2d_8 (Conv2D)           (None, 7, 7, 16)          4624      \n",
      "                                                                 \n",
      " max_pooling2d_8 (MaxPooling  (None, 3, 3, 16)         0         \n",
      " 2D)                                                             \n",
      "                                                                 \n",
      " flatten_2 (Flatten)         (None, 144)               0         \n",
      "                                                                 \n",
      " dense_8 (Dense)             (None, 512)               74240     \n",
      "                                                                 \n",
      " dense_9 (Dense)             (None, 256)               131328    \n",
      "                                                                 \n",
      " dense_10 (Dense)            (None, 128)               32896     \n",
      "                                                                 \n",
      " dense_11 (Dense)            (None, 17)                2193      \n",
      "                                                                 \n",
      "=================================================================\n",
      "Total params: 264,385\n",
      "Trainable params: 264,385\n",
      "Non-trainable params: 0\n",
      "_________________________________________________________________\n",
      "('You must install pydot (`pip install pydot`) and install graphviz (see instructions at https://graphviz.gitlab.io/download/) ', 'for plot_model/model_to_dot to work.')\n"
     ]
    }
   ],
   "source": [
    "inputs = Input((28, 28, 1))\n",
    "x = Conv2D(64, (3, 3), padding=\"same\", activation='relu')(inputs)\n",
    "x = MaxPooling2D((2, 2))(x)\n",
    "x = Conv2D(32, (3, 3), padding=\"same\", activation='relu')(x)\n",
    "x = MaxPooling2D((2, 2))(x)\n",
    "x = Conv2D(16, (3, 3), padding=\"same\", activation='relu')(x)\n",
    "x = MaxPooling2D((2, 2))(x)\n",
    "x = Flatten()(x)\n",
    "x = Dense(512, activation='relu')(x)\n",
    "x = Dense(256, activation='relu')(x)\n",
    "x = Dense(128, activation='relu')(x)\n",
    "x = Dense(BIT_COUNT+1, activation=\"softmax\")(x)\n",
    "decoder = Model(inputs=inputs, outputs=x)\n",
    "decoder.compile(optimizer=adam, loss='binary_crossentropy', metrics=['categorical_accuracy'])\n",
    "decoder.summary()\n",
    "from keras.utils.vis_utils import plot_model\n",
    "plot_model(decoder, to_file='model.png', show_shapes=True,show_layer_names=False)"
   ],
   "metadata": {
    "collapsed": false,
    "pycharm": {
     "name": "#%%\n"
    }
   }
  },
  {
   "cell_type": "code",
   "execution_count": 24,
   "outputs": [],
   "source": [
    "\n",
    "#利用pgd的idea修改圖片 讓它生出我想要的label\n",
    "def pgd_attack_to_target(input_image, target_label, loss_object, model, epsilon, alpha, iterations):\n",
    "    x_adv = input_image  # 複製一個圖片 (不要動到原圖片)\n",
    "    for i in range(iterations):  # 做很多次\n",
    "        x_adv = tf.convert_to_tensor(x_adv)  # 將圖片轉成tensor\n",
    "        with tf.GradientTape() as tape:  #開始計算梯度\n",
    "            tape.watch(x_adv)  # 要計算的圖片是x_adv\n",
    "            prediction = model(x_adv)  #先做判斷(取得目前的結果)\n",
    "            loss = loss_object(target_label, prediction)  # 計算loss(距離target有多遠)\n",
    "        grad = tape.gradient(loss, x_adv)  # 計算梯度 (loss對x_adv的梯度，d_loss/d_x_adv)\n",
    "        x_adv_new  = x_adv - alpha * tf.sign(grad)  # 更新圖片(做梯度下降會讓預測結果接近我想要的label)\n",
    "        x_adv = tf.clip_by_value(x_adv_new , x_adv - epsilon, x_adv + epsilon)  # 限制圖片的範圍\n",
    "        x_adv = tf.clip_by_value(x_adv, 0, 1)  # 限制圖片的範圍(圖片要在0~1之間)\n",
    "        x_adv = x_adv.numpy()  # 將圖片轉成numpy\n",
    "    return x_adv  # 回傳攻擊後的圖片"
   ],
   "metadata": {
    "collapsed": false,
    "pycharm": {
     "name": "#%%\n"
    }
   }
  },
  {
   "cell_type": "code",
   "execution_count": 25,
   "outputs": [],
   "source": [
    "def plot_loss(losses):\n",
    "    \"\"\"\n",
    "    @losses.keys():\n",
    "        0: loss\n",
    "        1: accuracy\n",
    "    \"\"\"\n",
    "    dec_loss = losses[\"decoder\"]\n",
    "\n",
    "    plt.figure(figsize=(10, 8))\n",
    "    plt.plot(dec_loss, label=\"decoder loss\")\n",
    "    plt.xlabel('Epochs')\n",
    "    plt.ylabel('Loss')\n",
    "    plt.legend()\n",
    "    plt.show()"
   ],
   "metadata": {
    "collapsed": false,
    "pycharm": {
     "name": "#%%\n"
    }
   }
  },
  {
   "cell_type": "code",
   "execution_count": 26,
   "outputs": [
    {
     "name": "stdout",
     "output_type": "stream",
     "text": [
      "[[1. 0. 0. 0. 0. 0. 0. 0. 0. 0. 0. 0. 0. 0. 0. 0. 0.]\n",
      " [0. 1. 0. 0. 0. 0. 0. 0. 0. 0. 0. 0. 0. 0. 0. 0. 0.]\n",
      " [0. 0. 1. 0. 0. 0. 0. 0. 0. 0. 0. 0. 0. 0. 0. 0. 0.]\n",
      " [0. 0. 0. 1. 0. 0. 0. 0. 0. 0. 0. 0. 0. 0. 0. 0. 0.]\n",
      " [0. 0. 0. 0. 1. 0. 0. 0. 0. 0. 0. 0. 0. 0. 0. 0. 0.]\n",
      " [0. 0. 0. 0. 0. 1. 0. 0. 0. 0. 0. 0. 0. 0. 0. 0. 0.]\n",
      " [0. 0. 0. 0. 0. 0. 1. 0. 0. 0. 0. 0. 0. 0. 0. 0. 0.]\n",
      " [0. 0. 0. 0. 0. 0. 0. 1. 0. 0. 0. 0. 0. 0. 0. 0. 0.]\n",
      " [0. 0. 0. 0. 0. 0. 0. 0. 1. 0. 0. 0. 0. 0. 0. 0. 0.]\n",
      " [0. 0. 0. 0. 0. 0. 0. 0. 0. 1. 0. 0. 0. 0. 0. 0. 0.]\n",
      " [0. 0. 0. 0. 0. 0. 0. 0. 0. 0. 1. 0. 0. 0. 0. 0. 0.]\n",
      " [0. 0. 0. 0. 0. 0. 0. 0. 0. 0. 0. 1. 0. 0. 0. 0. 0.]\n",
      " [0. 0. 0. 0. 0. 0. 0. 0. 0. 0. 0. 0. 1. 0. 0. 0. 0.]\n",
      " [0. 0. 0. 0. 0. 0. 0. 0. 0. 0. 0. 0. 0. 1. 0. 0. 0.]\n",
      " [0. 0. 0. 0. 0. 0. 0. 0. 0. 0. 0. 0. 0. 0. 1. 0. 0.]\n",
      " [0. 0. 0. 0. 0. 0. 0. 0. 0. 0. 0. 0. 0. 0. 0. 1. 0.]\n",
      " [0. 0. 0. 0. 0. 0. 0. 0. 0. 0. 0. 0. 0. 0. 0. 0. 1.]]\n"
     ]
    }
   ],
   "source": [
    "list = np.array([ i for i in range(BIT_COUNT+1)])\n",
    "user_code = np.eye(BIT_COUNT+1)[list]\n",
    "print(user_code)  #生成onehot encoding"
   ],
   "metadata": {
    "collapsed": false,
    "pycharm": {
     "name": "#%%\n"
    }
   }
  },
  {
   "cell_type": "markdown",
   "source": [
    "## 訓練模型"
   ],
   "metadata": {
    "collapsed": false,
    "pycharm": {
     "name": "#%% md\n"
    }
   }
  },
  {
   "cell_type": "code",
   "execution_count": 27,
   "outputs": [
    {
     "name": "stdout",
     "output_type": "stream",
     "text": [
      "1594/1594 [==============================] - 15s 9ms/step - loss: 0.2302 - categorical_accuracy: 0.0578\n",
      "epoch:0  decoder_loss:[0.2302020937204361]\n",
      "1594/1594 [==============================] - 14s 9ms/step - loss: 0.2243 - categorical_accuracy: 0.0596\n",
      "epoch:1  decoder_loss:[0.22427910566329956]\n",
      "1594/1594 [==============================] - 14s 9ms/step - loss: 0.2242 - categorical_accuracy: 0.0575\n",
      "epoch:2  decoder_loss:[0.2241765409708023]\n",
      "1594/1594 [==============================] - 14s 9ms/step - loss: 0.2241 - categorical_accuracy: 0.0569\n",
      "epoch:3  decoder_loss:[0.22413481771945953]\n",
      "1594/1594 [==============================] - 14s 9ms/step - loss: 0.2241 - categorical_accuracy: 0.0586\n",
      "epoch:4  decoder_loss:[0.22407054901123047]\n",
      "1594/1594 [==============================] - 14s 9ms/step - loss: 0.2240 - categorical_accuracy: 0.0596\n",
      "epoch:5  decoder_loss:[0.22400891780853271]\n",
      "1594/1594 [==============================] - 14s 9ms/step - loss: 0.1182 - categorical_accuracy: 0.5553\n",
      "epoch:6  decoder_loss:[0.11824975162744522]\n",
      "1594/1594 [==============================] - 14s 9ms/step - loss: 0.0038 - categorical_accuracy: 0.9939\n",
      "epoch:7  decoder_loss:[0.0037611741572618484]\n",
      "1594/1594 [==============================] - 14s 9ms/step - loss: 0.0011 - categorical_accuracy: 0.9985\n",
      "epoch:8  decoder_loss:[0.0010602623224258423]\n",
      "1594/1594 [==============================] - 14s 9ms/step - loss: 6.2541e-04 - categorical_accuracy: 0.9990\n",
      "epoch:9  decoder_loss:[0.0006254134932532907]\n",
      "1594/1594 [==============================] - 14s 9ms/step - loss: 5.3799e-04 - categorical_accuracy: 0.9991\n",
      "epoch:10  decoder_loss:[0.0005379922804422677]\n",
      "1594/1594 [==============================] - 14s 9ms/step - loss: 4.2616e-04 - categorical_accuracy: 0.9991\n",
      "epoch:11  decoder_loss:[0.00042616110295057297]\n",
      "1594/1594 [==============================] - 14s 9ms/step - loss: 2.5007e-04 - categorical_accuracy: 0.9995\n",
      "epoch:12  decoder_loss:[0.0002500744885765016]\n",
      "1594/1594 [==============================] - 14s 9ms/step - loss: 2.9609e-04 - categorical_accuracy: 0.9997\n",
      "epoch:13  decoder_loss:[0.0002960940473712981]\n",
      "1594/1594 [==============================] - 14s 9ms/step - loss: 1.8990e-04 - categorical_accuracy: 0.9997\n",
      "epoch:14  decoder_loss:[0.00018989999080076814]\n",
      "1594/1594 [==============================] - 14s 9ms/step - loss: 3.4055e-04 - categorical_accuracy: 0.9994\n",
      "epoch:15  decoder_loss:[0.0003405457246117294]\n",
      "1594/1594 [==============================] - 14s 9ms/step - loss: 1.2888e-04 - categorical_accuracy: 0.9998\n",
      "epoch:16  decoder_loss:[0.0001288770290557295]\n",
      "1594/1594 [==============================] - 17s 10ms/step - loss: 1.0608e-04 - categorical_accuracy: 0.9999\n",
      "epoch:17  decoder_loss:[0.00010607791773509234]\n",
      "1594/1594 [==============================] - 15s 9ms/step - loss: 1.7943e-04 - categorical_accuracy: 0.9996\n",
      "epoch:18  decoder_loss:[0.0001794333365978673]\n",
      "1594/1594 [==============================] - 17s 11ms/step - loss: 9.5230e-05 - categorical_accuracy: 0.9998\n",
      "epoch:19  decoder_loss:[9.523044718662277e-05]\n",
      "1594/1594 [==============================] - 15s 10ms/step - loss: 2.4509e-04 - categorical_accuracy: 0.9995\n",
      "epoch:20  decoder_loss:[0.0002450875472277403]\n",
      "1594/1594 [==============================] - 14s 8ms/step - loss: 1.7192e-04 - categorical_accuracy: 0.9996\n",
      "epoch:21  decoder_loss:[0.00017191722872667015]\n",
      "1594/1594 [==============================] - 14s 9ms/step - loss: 8.2053e-05 - categorical_accuracy: 0.9999\n",
      "epoch:22  decoder_loss:[8.205299673136324e-05]\n",
      "1594/1594 [==============================] - 14s 9ms/step - loss: 1.1667e-04 - categorical_accuracy: 0.9997\n",
      "epoch:23  decoder_loss:[0.00011666602949844673]\n",
      "1594/1594 [==============================] - 14s 9ms/step - loss: 1.3382e-04 - categorical_accuracy: 0.9998\n",
      "epoch:24  decoder_loss:[0.00013382149336393923]\n",
      "1594/1594 [==============================] - 17s 11ms/step - loss: 1.0696e-04 - categorical_accuracy: 0.9998\n",
      "epoch:25  decoder_loss:[0.00010695566015783697]\n",
      "1594/1594 [==============================] - 14s 9ms/step - loss: 2.4068e-05 - categorical_accuracy: 1.0000\n",
      "epoch:26  decoder_loss:[2.4068325728876516e-05]\n",
      "1594/1594 [==============================] - 14s 9ms/step - loss: 9.4698e-05 - categorical_accuracy: 0.9998\n",
      "epoch:27  decoder_loss:[9.469764336245134e-05]\n",
      "1594/1594 [==============================] - 17s 10ms/step - loss: 1.2556e-04 - categorical_accuracy: 0.9998\n",
      "epoch:28  decoder_loss:[0.000125555059639737]\n",
      "1594/1594 [==============================] - 14s 9ms/step - loss: 1.4602e-04 - categorical_accuracy: 0.9996\n",
      "epoch:29  decoder_loss:[0.00014602256123907864]\n",
      "1594/1594 [==============================] - 14s 9ms/step - loss: 9.3723e-05 - categorical_accuracy: 0.9998\n",
      "epoch:30  decoder_loss:[9.372286876896396e-05]\n",
      "1594/1594 [==============================] - 14s 9ms/step - loss: 7.4970e-05 - categorical_accuracy: 0.9998\n",
      "epoch:31  decoder_loss:[7.496993930544704e-05]\n",
      "1594/1594 [==============================] - 14s 9ms/step - loss: 1.1893e-04 - categorical_accuracy: 0.9997\n",
      "epoch:32  decoder_loss:[0.00011893323971889913]\n",
      "1594/1594 [==============================] - 14s 9ms/step - loss: 9.2887e-05 - categorical_accuracy: 0.9998\n",
      "epoch:33  decoder_loss:[9.288692672271281e-05]\n",
      "1594/1594 [==============================] - 14s 9ms/step - loss: 3.2490e-05 - categorical_accuracy: 0.9999\n",
      "epoch:34  decoder_loss:[3.2489981094840914e-05]\n",
      "1594/1594 [==============================] - 14s 9ms/step - loss: 1.1371e-04 - categorical_accuracy: 0.9997\n",
      "epoch:35  decoder_loss:[0.00011370673018973321]\n",
      "1594/1594 [==============================] - 14s 9ms/step - loss: 9.6596e-05 - categorical_accuracy: 0.9997\n",
      "epoch:36  decoder_loss:[9.659632632974535e-05]\n",
      "1594/1594 [==============================] - 14s 9ms/step - loss: 9.1326e-05 - categorical_accuracy: 0.9998\n",
      "epoch:37  decoder_loss:[9.132580453297123e-05]\n",
      "1594/1594 [==============================] - 14s 9ms/step - loss: 7.7098e-05 - categorical_accuracy: 0.9998\n",
      "epoch:38  decoder_loss:[7.709750934736803e-05]\n",
      "1594/1594 [==============================] - 14s 9ms/step - loss: 1.1644e-04 - categorical_accuracy: 0.9996\n",
      "epoch:39  decoder_loss:[0.00011644395999610424]\n",
      "1594/1594 [==============================] - 14s 9ms/step - loss: 9.9932e-05 - categorical_accuracy: 0.9997\n",
      "epoch:40  decoder_loss:[9.99324256554246e-05]\n",
      "1594/1594 [==============================] - 14s 9ms/step - loss: 6.0771e-05 - categorical_accuracy: 0.9999\n",
      "epoch:41  decoder_loss:[6.0771286371164024e-05]\n",
      "1594/1594 [==============================] - 14s 9ms/step - loss: 7.4512e-05 - categorical_accuracy: 0.9998\n",
      "epoch:42  decoder_loss:[7.451229612343013e-05]\n",
      "1594/1594 [==============================] - 14s 9ms/step - loss: 7.0056e-05 - categorical_accuracy: 0.9998\n",
      "epoch:43  decoder_loss:[7.005622319411486e-05]\n",
      "1594/1594 [==============================] - 14s 9ms/step - loss: 7.3540e-05 - categorical_accuracy: 0.9998\n",
      "epoch:44  decoder_loss:[7.353964610956609e-05]\n",
      "1594/1594 [==============================] - 14s 9ms/step - loss: 1.0937e-04 - categorical_accuracy: 0.9998\n",
      "epoch:45  decoder_loss:[0.00010937171464320272]\n",
      "1594/1594 [==============================] - 14s 9ms/step - loss: 6.5091e-05 - categorical_accuracy: 0.9998\n",
      "epoch:46  decoder_loss:[6.509086233563721e-05]\n",
      "1594/1594 [==============================] - 14s 9ms/step - loss: 5.0223e-05 - categorical_accuracy: 0.9999\n",
      "epoch:47  decoder_loss:[5.0223425205331296e-05]\n",
      "1594/1594 [==============================] - 14s 9ms/step - loss: 6.3900e-05 - categorical_accuracy: 0.9999\n",
      "epoch:48  decoder_loss:[6.389992631739005e-05]\n",
      "1594/1594 [==============================] - 14s 9ms/step - loss: 8.0558e-05 - categorical_accuracy: 0.9998\n",
      "epoch:49  decoder_loss:[8.055779471760616e-05]\n"
     ]
    }
   ],
   "source": [
    "\n",
    "DATA_LENGTH = len(x_train)\n",
    "\n",
    "# x_train_adv[0]是沒有攻擊的圖片\n",
    "x_train_adv = [x_train.copy() for _ in range(BIT_COUNT+1)]\n",
    "\n",
    "losses = {\"decoder\": []}\n",
    "\n",
    "#開始訓練\n",
    "for epoch in range(EPOCH):\n",
    "\n",
    "    ##第一步 調整圖片 讓decoder能正確讀取出user_code\n",
    "    for i in range(1, BIT_COUNT+1):\n",
    "        x_train_adv[i] = pgd_attack_to_target(x_train_adv[i], [user_code[i]] * DATA_LENGTH,\n",
    "                                              tf.keras.losses.CategoricalCrossentropy(), decoder, epsilon,\n",
    "                                              alpha, iterations)\n",
    "\n",
    "    ##第二步 data augmentation(旋轉，縮放....)\n",
    "    x_train_adv_att = [data_augmentation(x_train_adv[i]) for i in range(BIT_COUNT+1)]\n",
    "\n",
    "    #第四步 訓練Decoder\n",
    "    decoder_x = np.concatenate((np.concatenate([x_train_adv[i] for i in range(BIT_COUNT+1)]),\n",
    "                                np.concatenate([x_train_adv_att[i] for i in range(BIT_COUNT+1)])))\n",
    "    decoder_y = np.concatenate((np.concatenate([[user_code[i]] * DATA_LENGTH for i in range(BIT_COUNT+1)]),\n",
    "                                np.concatenate([[user_code[i]] * DATA_LENGTH for i in range(BIT_COUNT+1)])))\n",
    "\n",
    "    decoder_loss = decoder.fit(decoder_x, decoder_y, epochs=1)\n",
    "\n",
    "    #紀錄loss\n",
    "    # losses[\"discriminator\"].append(discriminator_loss.history[\"loss\"])\n",
    "    losses[\"decoder\"].append(decoder_loss.history[\"loss\"])\n",
    "    print(\"epoch:{}  decoder_loss:{}\".format(epoch, decoder_loss.history[\"loss\"]))\n",
    "    del decoder_x\n",
    "    del decoder_y\n",
    "    del x_train_adv_att\n",
    "    gc.collect()\n",
    "\n",
    "\n"
   ],
   "metadata": {
    "collapsed": false,
    "pycharm": {
     "name": "#%%\n"
    }
   }
  },
  {
   "cell_type": "code",
   "execution_count": 28,
   "outputs": [
    {
     "data": {
      "text/plain": "<Figure size 720x576 with 1 Axes>",
      "image/png": "[encoded data removed]"
     },
     "metadata": {
      "needs_background": "light"
     },
     "output_type": "display_data"
    }
   ],
   "source": [
    "plot_loss(losses)"
   ],
   "metadata": {
    "collapsed": false,
    "pycharm": {
     "name": "#%%\n"
    }
   }
  }
 ],
 "metadata": {
  "kernelspec": {
   "display_name": "Python 3",
   "language": "python",
   "name": "python3"
  },
  "language_info": {
   "codemirror_mode": {
    "name": "ipython",
    "version": 2
   },
   "file_extension": ".py",
   "mimetype": "text/x-python",
   "name": "python",
   "nbconvert_exporter": "python",
   "pygments_lexer": "ipython2",
   "version": "2.7.6"
  }
 },
 "nbformat": 4,
 "nbformat_minor": 0
}