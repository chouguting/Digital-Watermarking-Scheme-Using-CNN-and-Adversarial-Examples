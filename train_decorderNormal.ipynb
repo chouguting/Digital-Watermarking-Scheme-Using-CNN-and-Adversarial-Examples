{
 "cells": [
  {
   "cell_type": "code",
   "execution_count": 1,
   "outputs": [
    {
     "name": "stdout",
     "output_type": "stream",
     "text": [
      "Mon Sep 12 23:51:25 2022       \n",
      "+-----------------------------------------------------------------------------+\n",
      "| NVIDIA-SMI 512.77       Driver Version: 512.77       CUDA Version: 11.6     |\n",
      "|-------------------------------+----------------------+----------------------+\n",
      "| GPU  Name            TCC/WDDM | Bus-Id        Disp.A | Volatile Uncorr. ECC |\n",
      "| Fan  Temp  Perf  Pwr:Usage/Cap|         Memory-Usage | GPU-Util  Compute M. |\n",
      "|                               |                      |               MIG M. |\n",
      "|===============================+======================+======================|\n",
      "|   0  NVIDIA GeForce ... WDDM  | 00000000:01:00.0 Off |                  N/A |\n",
      "|  0%   45C    P8     9W / 184W |   1041MiB / 12288MiB |     22%      Default |\n",
      "|                               |                      |                  N/A |\n",
      "+-------------------------------+----------------------+----------------------+\n",
      "                                                                               \n",
      "+-----------------------------------------------------------------------------+\n",
      "| Processes:                                                                  |\n",
      "|  GPU   GI   CI        PID   Type   Process name                  GPU Memory |\n",
      "|        ID   ID                                                   Usage      |\n",
      "|=============================================================================|\n",
      "|    0   N/A  N/A      1700    C+G   ...bbwe\\Microsoft.Photos.exe    N/A      |\n",
      "|    0   N/A  N/A      5132    C+G   ...5n1h2txyewy\\SearchApp.exe    N/A      |\n",
      "|    0   N/A  N/A      6996    C+G   C:\\Windows\\explorer.exe         N/A      |\n",
      "|    0   N/A  N/A      8960    C+G   ...5n1h2txyewy\\SearchApp.exe    N/A      |\n",
      "|    0   N/A  N/A      9604    C+G   ...y\\ShellExperienceHost.exe    N/A      |\n",
      "|    0   N/A  N/A      9924    C+G   ...2txyewy\\TextInputHost.exe    N/A      |\n",
      "|    0   N/A  N/A     11156    C+G   ...e\\PhoneExperienceHost.exe    N/A      |\n",
      "+-----------------------------------------------------------------------------+\n"
     ]
    }
   ],
   "source": [
    "import tensorflow as tf\n",
    "from tensorflow.keras.datasets import cifar10\n",
    "from tensorflow.keras.models import Model\n",
    "from tensorflow.keras.layers import Input, Conv2D, Dense, MaxPooling2D, Flatten\n",
    "from tensorflow.keras.optimizers import Adam\n",
    "import matplotlib.pyplot as plt\n",
    "import numpy as np\n",
    "import gc\n",
    "!nvidia-smi"
   ],
   "metadata": {
    "collapsed": false,
    "pycharm": {
     "name": "#%%\n"
    }
   }
  },
  {
   "cell_type": "markdown",
   "source": [
    "## 設定訓練及測試資料集和訓練參數"
   ],
   "metadata": {
    "collapsed": false,
    "pycharm": {
     "name": "#%% md\n"
    }
   }
  },
  {
   "cell_type": "code",
   "execution_count": 2,
   "outputs": [],
   "source": [
    "def rgb2gray(rgb):\n",
    "\n",
    "    r, g, b = rgb[:,:,:,0], rgb[:,:,:,1], rgb[:,:,:,2]\n",
    "    gray = 0.2989 * r + 0.5870 * g + 0.1140 * b\n",
    "\n",
    "    return gray"
   ],
   "metadata": {
    "collapsed": false,
    "pycharm": {
     "name": "#%%\n"
    }
   }
  },
  {
   "cell_type": "code",
   "execution_count": 3,
   "outputs": [],
   "source": [
    "BIT_COUNT = 16\n",
    "iterations = 7  #攻擊次數\n",
    "alpha = 0.0001  #攻擊程度\n",
    "epsilon = 8.0 / 255  #攻擊範圍\n",
    "EPOCH = 50 #訓練EPOCH\n",
    "\n",
    "(x_train, y_train), (x_test, y_test) = cifar10.load_data()\n",
    "x_train = x_train.astype('float32') / 255.0\n",
    "x_test = x_test.astype('float32') / 255.0\n",
    "\n",
    "x_train = x_train[:1500]\n",
    "y_train = y_train[:1500]\n",
    "x_test = x_test[:1500]\n",
    "\n",
    "x_train = rgb2gray(x_train)\n",
    "x_train = np.expand_dims(x_train, axis=-1)\n",
    "x_test = rgb2gray(x_test)\n",
    "x_test = np.expand_dims(x_test, axis=-1)\n",
    "\n",
    "\n",
    "\n",
    "x_train = tf.image.resize(x_train, [28,28]).numpy()\n",
    "x_test = tf.image.resize(x_test, [28,28]).numpy()\n",
    "\n",
    "image_shape = (28, 28, 1)\n",
    "x_train = x_train.reshape((-1,) + image_shape)\n",
    "x_test = x_test.reshape((-1,) + image_shape)"
   ],
   "metadata": {
    "collapsed": false,
    "pycharm": {
     "name": "#%%\n"
    }
   }
  },
  {
   "cell_type": "markdown",
   "source": [
    "## 設定資料擴增"
   ],
   "metadata": {
    "collapsed": false,
    "pycharm": {
     "name": "#%% md\n"
    }
   }
  },
  {
   "cell_type": "code",
   "execution_count": 4,
   "outputs": [],
   "source": [
    "from tensorflow.keras.layers import RandomFlip, RandomRotation, RandomZoom\n",
    "\n",
    "data_augmentation = tf.keras.Sequential([\n",
    "    RandomRotation(0.02, fill_mode = 'constant'),\n",
    "    RandomZoom(.2, .2)\n",
    "])"
   ],
   "metadata": {
    "collapsed": false,
    "pycharm": {
     "name": "#%%\n"
    }
   }
  },
  {
   "cell_type": "markdown",
   "source": [
    "## 設定訓練模型"
   ],
   "metadata": {
    "collapsed": false,
    "pycharm": {
     "name": "#%% md\n"
    }
   }
  },
  {
   "cell_type": "code",
   "execution_count": 5,
   "outputs": [],
   "source": [
    "adam = Adam(learning_rate=0.0002, beta_1=0.5)"
   ],
   "metadata": {
    "collapsed": false,
    "pycharm": {
     "name": "#%%\n"
    }
   }
  },
  {
   "cell_type": "code",
   "execution_count": 6,
   "outputs": [
    {
     "name": "stdout",
     "output_type": "stream",
     "text": [
      "Model: \"model\"\n",
      "_________________________________________________________________\n",
      " Layer (type)                Output Shape              Param #   \n",
      "=================================================================\n",
      " input_1 (InputLayer)        [(None, 28, 28, 1)]       0         \n",
      "                                                                 \n",
      " conv2d (Conv2D)             (None, 28, 28, 64)        640       \n",
      "                                                                 \n",
      " max_pooling2d (MaxPooling2D  (None, 14, 14, 64)       0         \n",
      " )                                                               \n",
      "                                                                 \n",
      " conv2d_1 (Conv2D)           (None, 14, 14, 32)        18464     \n",
      "                                                                 \n",
      " max_pooling2d_1 (MaxPooling  (None, 7, 7, 32)         0         \n",
      " 2D)                                                             \n",
      "                                                                 \n",
      " conv2d_2 (Conv2D)           (None, 7, 7, 16)          4624      \n",
      "                                                                 \n",
      " max_pooling2d_2 (MaxPooling  (None, 3, 3, 16)         0         \n",
      " 2D)                                                             \n",
      "                                                                 \n",
      " flatten (Flatten)           (None, 144)               0         \n",
      "                                                                 \n",
      " dense (Dense)               (None, 512)               74240     \n",
      "                                                                 \n",
      " dense_1 (Dense)             (None, 256)               131328    \n",
      "                                                                 \n",
      " dense_2 (Dense)             (None, 128)               32896     \n",
      "                                                                 \n",
      " dense_3 (Dense)             (None, 17)                2193      \n",
      "                                                                 \n",
      "=================================================================\n",
      "Total params: 264,385\n",
      "Trainable params: 264,385\n",
      "Non-trainable params: 0\n",
      "_________________________________________________________________\n",
      "('You must install pydot (`pip install pydot`) and install graphviz (see instructions at https://graphviz.gitlab.io/download/) ', 'for plot_model/model_to_dot to work.')\n"
     ]
    }
   ],
   "source": [
    "inputs = Input((28, 28, 1))\n",
    "x = Conv2D(64, (3, 3), padding=\"same\", activation='relu')(inputs)\n",
    "x = MaxPooling2D((2, 2))(x)\n",
    "x = Conv2D(32, (3, 3), padding=\"same\", activation='relu')(x)\n",
    "x = MaxPooling2D((2, 2))(x)\n",
    "x = Conv2D(16, (3, 3), padding=\"same\", activation='relu')(x)\n",
    "x = MaxPooling2D((2, 2))(x)\n",
    "x = Flatten()(x)\n",
    "x = Dense(512, activation='relu')(x)\n",
    "x = Dense(256, activation='relu')(x)\n",
    "x = Dense(128, activation='relu')(x)\n",
    "x = Dense(BIT_COUNT+1, activation=\"softmax\")(x)\n",
    "decoder = Model(inputs=inputs, outputs=x)\n",
    "decoder.compile(optimizer=adam, loss='binary_crossentropy', metrics=['categorical_accuracy'])\n",
    "decoder.summary()\n",
    "from keras.utils.vis_utils import plot_model\n",
    "plot_model(decoder, to_file='model.png', show_shapes=True,show_layer_names=False)"
   ],
   "metadata": {
    "collapsed": false,
    "pycharm": {
     "name": "#%%\n"
    }
   }
  },
  {
   "cell_type": "code",
   "execution_count": 7,
   "outputs": [],
   "source": [
    "\n",
    "#利用pgd的idea修改圖片 讓它生出我想要的label\n",
    "def pgd_attack_to_target(input_image, target_label, loss_object, model, epsilon, alpha, iterations):\n",
    "    x_adv = input_image  # 複製一個圖片 (不要動到原圖片)\n",
    "    for i in range(iterations):  # 做很多次\n",
    "        x_adv = tf.convert_to_tensor(x_adv)  # 將圖片轉成tensor\n",
    "        with tf.GradientTape() as tape:  #開始計算梯度\n",
    "            tape.watch(x_adv)  # 要計算的圖片是x_adv\n",
    "            prediction = model(x_adv)  #先做判斷(取得目前的結果)\n",
    "            loss = loss_object(target_label, prediction)  # 計算loss(距離target有多遠)\n",
    "        grad = tape.gradient(loss, x_adv)  # 計算梯度 (loss對x_adv的梯度，d_loss/d_x_adv)\n",
    "        x_adv_new  = x_adv - alpha * tf.sign(grad)  # 更新圖片(做梯度下降會讓預測結果接近我想要的label)\n",
    "        x_adv = tf.clip_by_value(x_adv_new , x_adv - epsilon, x_adv + epsilon)  # 限制圖片的範圍\n",
    "        x_adv = tf.clip_by_value(x_adv, 0, 1)  # 限制圖片的範圍(圖片要在0~1之間)\n",
    "        x_adv = x_adv.numpy()  # 將圖片轉成numpy\n",
    "    return x_adv  # 回傳攻擊後的圖片"
   ],
   "metadata": {
    "collapsed": false,
    "pycharm": {
     "name": "#%%\n"
    }
   }
  },
  {
   "cell_type": "code",
   "execution_count": 8,
   "outputs": [],
   "source": [
    "def plot_loss(losses):\n",
    "    \"\"\"\n",
    "    @losses.keys():\n",
    "        0: loss\n",
    "        1: accuracy\n",
    "    \"\"\"\n",
    "    dec_loss = losses[\"decoder\"]\n",
    "\n",
    "    plt.figure(figsize=(10, 8))\n",
    "    plt.plot(dec_loss, label=\"decoder loss\")\n",
    "    plt.xlabel('Epochs')\n",
    "    plt.ylabel('Loss')\n",
    "    plt.legend()\n",
    "    plt.show()"
   ],
   "metadata": {
    "collapsed": false,
    "pycharm": {
     "name": "#%%\n"
    }
   }
  },
  {
   "cell_type": "code",
   "execution_count": 9,
   "outputs": [
    {
     "name": "stdout",
     "output_type": "stream",
     "text": [
      "[[1. 0. 0. 0. 0. 0. 0. 0. 0. 0. 0. 0. 0. 0. 0. 0. 0.]\n",
      " [0. 1. 0. 0. 0. 0. 0. 0. 0. 0. 0. 0. 0. 0. 0. 0. 0.]\n",
      " [0. 0. 1. 0. 0. 0. 0. 0. 0. 0. 0. 0. 0. 0. 0. 0. 0.]\n",
      " [0. 0. 0. 1. 0. 0. 0. 0. 0. 0. 0. 0. 0. 0. 0. 0. 0.]\n",
      " [0. 0. 0. 0. 1. 0. 0. 0. 0. 0. 0. 0. 0. 0. 0. 0. 0.]\n",
      " [0. 0. 0. 0. 0. 1. 0. 0. 0. 0. 0. 0. 0. 0. 0. 0. 0.]\n",
      " [0. 0. 0. 0. 0. 0. 1. 0. 0. 0. 0. 0. 0. 0. 0. 0. 0.]\n",
      " [0. 0. 0. 0. 0. 0. 0. 1. 0. 0. 0. 0. 0. 0. 0. 0. 0.]\n",
      " [0. 0. 0. 0. 0. 0. 0. 0. 1. 0. 0. 0. 0. 0. 0. 0. 0.]\n",
      " [0. 0. 0. 0. 0. 0. 0. 0. 0. 1. 0. 0. 0. 0. 0. 0. 0.]\n",
      " [0. 0. 0. 0. 0. 0. 0. 0. 0. 0. 1. 0. 0. 0. 0. 0. 0.]\n",
      " [0. 0. 0. 0. 0. 0. 0. 0. 0. 0. 0. 1. 0. 0. 0. 0. 0.]\n",
      " [0. 0. 0. 0. 0. 0. 0. 0. 0. 0. 0. 0. 1. 0. 0. 0. 0.]\n",
      " [0. 0. 0. 0. 0. 0. 0. 0. 0. 0. 0. 0. 0. 1. 0. 0. 0.]\n",
      " [0. 0. 0. 0. 0. 0. 0. 0. 0. 0. 0. 0. 0. 0. 1. 0. 0.]\n",
      " [0. 0. 0. 0. 0. 0. 0. 0. 0. 0. 0. 0. 0. 0. 0. 1. 0.]\n",
      " [0. 0. 0. 0. 0. 0. 0. 0. 0. 0. 0. 0. 0. 0. 0. 0. 1.]]\n"
     ]
    }
   ],
   "source": [
    "list = np.array([ i for i in range(BIT_COUNT+1)])\n",
    "user_code = np.eye(BIT_COUNT+1)[list]\n",
    "print(user_code)  #生成onehot encoding"
   ],
   "metadata": {
    "collapsed": false,
    "pycharm": {
     "name": "#%%\n"
    }
   }
  },
  {
   "cell_type": "markdown",
   "source": [
    "## 訓練模型"
   ],
   "metadata": {
    "collapsed": false,
    "pycharm": {
     "name": "#%% md\n"
    }
   }
  },
  {
   "cell_type": "code",
   "execution_count": 10,
   "outputs": [
    {
     "name": "stdout",
     "output_type": "stream",
     "text": [
      "1594/1594 [==============================] - 15s 9ms/step - loss: 0.2303 - categorical_accuracy: 0.0585\n",
      "epoch:0  decoder_loss:[0.23027417063713074]\n",
      "1594/1594 [==============================] - 14s 9ms/step - loss: 0.2244 - categorical_accuracy: 0.0582\n",
      "epoch:1  decoder_loss:[0.2243887037038803]\n",
      "1594/1594 [==============================] - 14s 9ms/step - loss: 0.2243 - categorical_accuracy: 0.0584\n",
      "epoch:2  decoder_loss:[0.22425632178783417]\n",
      "1594/1594 [==============================] - 14s 9ms/step - loss: 0.2242 - categorical_accuracy: 0.0601\n",
      "epoch:3  decoder_loss:[0.2241986095905304]\n",
      "1594/1594 [==============================] - 14s 9ms/step - loss: 0.2241 - categorical_accuracy: 0.0577\n",
      "epoch:4  decoder_loss:[0.22412356734275818]\n",
      "1594/1594 [==============================] - 14s 9ms/step - loss: 0.2240 - categorical_accuracy: 0.0619\n",
      "epoch:5  decoder_loss:[0.2240455597639084]\n",
      "1594/1594 [==============================] - 14s 9ms/step - loss: 0.2240 - categorical_accuracy: 0.0612\n",
      "epoch:6  decoder_loss:[0.22397653758525848]\n",
      "1594/1594 [==============================] - 14s 9ms/step - loss: 0.2239 - categorical_accuracy: 0.0626\n",
      "epoch:7  decoder_loss:[0.2238854318857193]\n",
      "1594/1594 [==============================] - 14s 9ms/step - loss: 0.2233 - categorical_accuracy: 0.0732\n",
      "epoch:8  decoder_loss:[0.22327591478824615]\n",
      "1594/1594 [==============================] - 14s 9ms/step - loss: 0.2188 - categorical_accuracy: 0.1075\n",
      "epoch:9  decoder_loss:[0.21884386241436005]\n",
      "1594/1594 [==============================] - 14s 9ms/step - loss: 0.2068 - categorical_accuracy: 0.1995\n",
      "epoch:10  decoder_loss:[0.20678038895130157]\n",
      "1594/1594 [==============================] - 14s 9ms/step - loss: 0.1901 - categorical_accuracy: 0.3115\n",
      "epoch:11  decoder_loss:[0.19014929234981537]\n",
      "1594/1594 [==============================] - 14s 9ms/step - loss: 0.1717 - categorical_accuracy: 0.4157\n",
      "epoch:12  decoder_loss:[0.17174045741558075]\n",
      "1594/1594 [==============================] - 14s 9ms/step - loss: 0.1525 - categorical_accuracy: 0.4873\n",
      "epoch:13  decoder_loss:[0.15253916382789612]\n",
      "1594/1594 [==============================] - 14s 9ms/step - loss: 0.1329 - categorical_accuracy: 0.5299\n",
      "epoch:14  decoder_loss:[0.13291063904762268]\n",
      "1594/1594 [==============================] - 14s 9ms/step - loss: 0.1218 - categorical_accuracy: 0.5430\n",
      "epoch:15  decoder_loss:[0.12179473787546158]\n",
      "1594/1594 [==============================] - 14s 9ms/step - loss: 0.1163 - categorical_accuracy: 0.5544\n",
      "epoch:16  decoder_loss:[0.1162504032254219]\n",
      "1594/1594 [==============================] - 14s 9ms/step - loss: 0.1135 - categorical_accuracy: 0.5605\n",
      "epoch:17  decoder_loss:[0.11351248621940613]\n",
      "1594/1594 [==============================] - 14s 9ms/step - loss: 0.1111 - categorical_accuracy: 0.5670\n",
      "epoch:18  decoder_loss:[0.11114506423473358]\n",
      "1594/1594 [==============================] - 14s 9ms/step - loss: 0.1092 - categorical_accuracy: 0.5767\n",
      "epoch:19  decoder_loss:[0.10922106355428696]\n",
      "1594/1594 [==============================] - 14s 9ms/step - loss: 0.1072 - categorical_accuracy: 0.5834\n",
      "epoch:20  decoder_loss:[0.10718885064125061]\n",
      "1594/1594 [==============================] - 14s 9ms/step - loss: 0.1051 - categorical_accuracy: 0.5918\n",
      "epoch:21  decoder_loss:[0.10509390383958817]\n",
      "1594/1594 [==============================] - 14s 9ms/step - loss: 0.1022 - categorical_accuracy: 0.6056\n",
      "epoch:22  decoder_loss:[0.1021505743265152]\n",
      "1594/1594 [==============================] - 14s 9ms/step - loss: 0.0994 - categorical_accuracy: 0.6199\n",
      "epoch:23  decoder_loss:[0.09943510591983795]\n",
      "1594/1594 [==============================] - 14s 9ms/step - loss: 0.0956 - categorical_accuracy: 0.6346\n",
      "epoch:24  decoder_loss:[0.09556996822357178]\n",
      "1594/1594 [==============================] - 15s 9ms/step - loss: 0.0920 - categorical_accuracy: 0.6475\n",
      "epoch:25  decoder_loss:[0.09201743453741074]\n",
      "1594/1594 [==============================] - 14s 9ms/step - loss: 0.0881 - categorical_accuracy: 0.6644\n",
      "epoch:26  decoder_loss:[0.0880858525633812]\n",
      "1594/1594 [==============================] - 14s 9ms/step - loss: 0.0839 - categorical_accuracy: 0.6812\n",
      "epoch:27  decoder_loss:[0.08393814414739609]\n",
      "1594/1594 [==============================] - 14s 9ms/step - loss: 0.0798 - categorical_accuracy: 0.6989\n",
      "epoch:28  decoder_loss:[0.07977306842803955]\n",
      "1594/1594 [==============================] - 14s 9ms/step - loss: 0.0762 - categorical_accuracy: 0.7121\n",
      "epoch:29  decoder_loss:[0.07620646804571152]\n",
      "1594/1594 [==============================] - 14s 9ms/step - loss: 0.0719 - categorical_accuracy: 0.7311\n",
      "epoch:30  decoder_loss:[0.07193425297737122]\n",
      "1594/1594 [==============================] - 14s 9ms/step - loss: 0.0681 - categorical_accuracy: 0.7453\n",
      "epoch:31  decoder_loss:[0.06814756244421005]\n",
      "1594/1594 [==============================] - 14s 9ms/step - loss: 0.0652 - categorical_accuracy: 0.7573\n",
      "epoch:32  decoder_loss:[0.06519805639982224]\n",
      "1594/1594 [==============================] - 14s 9ms/step - loss: 0.0623 - categorical_accuracy: 0.7689\n",
      "epoch:33  decoder_loss:[0.062270451337099075]\n",
      "1594/1594 [==============================] - 14s 9ms/step - loss: 0.0584 - categorical_accuracy: 0.7850\n",
      "epoch:34  decoder_loss:[0.05841498076915741]\n",
      "1594/1594 [==============================] - 14s 9ms/step - loss: 0.0556 - categorical_accuracy: 0.7969\n",
      "epoch:35  decoder_loss:[0.055638812482357025]\n",
      "1594/1594 [==============================] - 14s 9ms/step - loss: 0.0529 - categorical_accuracy: 0.8070\n",
      "epoch:36  decoder_loss:[0.05292889103293419]\n",
      "1594/1594 [==============================] - 14s 9ms/step - loss: 0.0505 - categorical_accuracy: 0.8168\n",
      "epoch:37  decoder_loss:[0.05051654949784279]\n",
      "1594/1594 [==============================] - 14s 9ms/step - loss: 0.0478 - categorical_accuracy: 0.8276\n",
      "epoch:38  decoder_loss:[0.04779522866010666]\n",
      "1594/1594 [==============================] - 14s 9ms/step - loss: 0.0455 - categorical_accuracy: 0.8359\n",
      "epoch:39  decoder_loss:[0.04552621394395828]\n",
      "1594/1594 [==============================] - 15s 9ms/step - loss: 0.0436 - categorical_accuracy: 0.8449\n",
      "epoch:40  decoder_loss:[0.04364266246557236]\n",
      "1594/1594 [==============================] - 14s 9ms/step - loss: 0.0414 - categorical_accuracy: 0.8529\n",
      "epoch:41  decoder_loss:[0.041435789316892624]\n",
      "1594/1594 [==============================] - 14s 9ms/step - loss: 0.0394 - categorical_accuracy: 0.8601\n",
      "epoch:42  decoder_loss:[0.039448510855436325]\n",
      "1594/1594 [==============================] - 14s 9ms/step - loss: 0.0367 - categorical_accuracy: 0.8701\n",
      "epoch:43  decoder_loss:[0.036678750067949295]\n",
      "1594/1594 [==============================] - 15s 9ms/step - loss: 0.0354 - categorical_accuracy: 0.8743\n",
      "epoch:44  decoder_loss:[0.0353679433465004]\n",
      "1594/1594 [==============================] - 15s 9ms/step - loss: 0.0341 - categorical_accuracy: 0.8802\n",
      "epoch:45  decoder_loss:[0.03414199501276016]\n",
      "1594/1594 [==============================] - 14s 9ms/step - loss: 0.0320 - categorical_accuracy: 0.8897\n",
      "epoch:46  decoder_loss:[0.03196769207715988]\n",
      "1594/1594 [==============================] - 14s 9ms/step - loss: 0.0305 - categorical_accuracy: 0.8962\n",
      "epoch:47  decoder_loss:[0.030498649924993515]\n",
      "1594/1594 [==============================] - 14s 9ms/step - loss: 0.0289 - categorical_accuracy: 0.9002\n",
      "epoch:48  decoder_loss:[0.028854060918092728]\n",
      "1594/1594 [==============================] - 14s 9ms/step - loss: 0.0275 - categorical_accuracy: 0.9052\n",
      "epoch:49  decoder_loss:[0.027495719492435455]\n"
     ]
    }
   ],
   "source": [
    "\n",
    "DATA_LENGTH = len(x_train)\n",
    "\n",
    "# x_train_adv[0]是沒有攻擊的圖片\n",
    "x_train_adv = [x_train.copy() for _ in range(BIT_COUNT+1)]\n",
    "\n",
    "losses = {\"decoder\": []}\n",
    "\n",
    "#開始訓練\n",
    "for epoch in range(EPOCH):\n",
    "\n",
    "    ##第一步 調整圖片 讓decoder能正確讀取出user_code\n",
    "    for i in range(1, BIT_COUNT+1):\n",
    "        x_train_adv[i] = pgd_attack_to_target(x_train_adv[i], [user_code[i]] * DATA_LENGTH,\n",
    "                                              tf.keras.losses.CategoricalCrossentropy(), decoder, epsilon,\n",
    "                                              alpha, iterations)\n",
    "\n",
    "    ##第二步 data augmentation(旋轉，縮放....)\n",
    "    x_train_adv_att = [data_augmentation(x_train_adv[i]) for i in range(BIT_COUNT+1)]\n",
    "\n",
    "    #第四步 訓練Decoder\n",
    "    decoder_x = np.concatenate((np.concatenate([x_train_adv[i] for i in range(BIT_COUNT+1)]),\n",
    "                                np.concatenate([x_train_adv_att[i] for i in range(BIT_COUNT+1)])))\n",
    "    decoder_y = np.concatenate((np.concatenate([[user_code[i]] * DATA_LENGTH for i in range(BIT_COUNT+1)]),\n",
    "                                np.concatenate([[user_code[i]] * DATA_LENGTH for i in range(BIT_COUNT+1)])))\n",
    "\n",
    "    decoder_loss = decoder.fit(decoder_x, decoder_y, epochs=1)\n",
    "\n",
    "    #紀錄loss\n",
    "    # losses[\"discriminator\"].append(discriminator_loss.history[\"loss\"])\n",
    "    losses[\"decoder\"].append(decoder_loss.history[\"loss\"])\n",
    "    print(\"epoch:{}  decoder_loss:{}\".format(epoch, decoder_loss.history[\"loss\"]))\n",
    "\n"
   ],
   "metadata": {
    "collapsed": false,
    "pycharm": {
     "name": "#%%\n"
    }
   }
  },
  {
   "cell_type": "code",
   "execution_count": 11,
   "outputs": [
    {
     "data": {
      "text/plain": "<Figure size 720x576 with 1 Axes>",
      "image/png": "[encoded data removed]"
     },
     "metadata": {
      "needs_background": "light"
     },
     "output_type": "display_data"
    }
   ],
   "source": [
    "plot_loss(losses)"
   ],
   "metadata": {
    "collapsed": false,
    "pycharm": {
     "name": "#%%\n"
    }
   }
  },
  {
   "cell_type": "code",
   "execution_count": 12,
   "outputs": [],
   "source": [
    "# decoder.save('models/decoder_one_hot_4_bit_cifar_10_binary_crossentropy.h5')"
   ],
   "metadata": {
    "collapsed": false,
    "pycharm": {
     "name": "#%%\n"
    }
   }
  },
  {
   "cell_type": "code",
   "execution_count": null,
   "outputs": [],
   "source": [
    "plot_loss(losses)"
   ],
   "metadata": {
    "collapsed": false,
    "pycharm": {
     "name": "#%%\n"
    }
   }
  },
  {
   "cell_type": "code",
   "execution_count": null,
   "outputs": [],
   "source": [
    "# decoder.save('models/decoder_one_hot_4_bit_cifar_10_binary_crossentropy.h5')"
   ],
   "metadata": {
    "collapsed": false,
    "pycharm": {
     "name": "#%%\n"
    }
   }
  }
 ],
 "metadata": {
  "kernelspec": {
   "display_name": "Python 3",
   "language": "python",
   "name": "python3"
  },
  "language_info": {
   "codemirror_mode": {
    "name": "ipython",
    "version": 2
   },
   "file_extension": ".py",
   "mimetype": "text/x-python",
   "name": "python",
   "nbconvert_exporter": "python",
   "pygments_lexer": "ipython2",
   "version": "2.7.6"
  }
 },
 "nbformat": 4,
 "nbformat_minor": 0
}